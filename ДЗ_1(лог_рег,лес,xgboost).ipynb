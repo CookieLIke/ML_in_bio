{
  "nbformat": 4,
  "nbformat_minor": 0,
  "metadata": {
    "kernelspec": {
      "display_name": "Python 3",
      "language": "python",
      "name": "python3"
    },
    "language_info": {
      "codemirror_mode": {
        "name": "ipython",
        "version": 3
      },
      "file_extension": ".py",
      "mimetype": "text/x-python",
      "name": "python",
      "nbconvert_exporter": "python",
      "pygments_lexer": "ipython3",
      "version": "3.7.4"
    },
    "colab": {
      "name": "ДЗ_1(лог.рег,лес,xgboost).ipynb",
      "provenance": [],
      "collapsed_sections": []
    }
  },
  "cells": [
    {
      "cell_type": "markdown",
      "metadata": {
        "id": "WI5SOVI2orVv",
        "colab_type": "text"
      },
      "source": [
        "# HW1"
      ]
    },
    {
      "cell_type": "markdown",
      "metadata": {
        "id": "0t3zwPL1orVx",
        "colab_type": "text"
      },
      "source": [
        "подключение всего"
      ]
    },
    {
      "cell_type": "code",
      "metadata": {
        "id": "jGDTYE51orVz",
        "colab_type": "code",
        "colab": {}
      },
      "source": [
        "import numpy as np\n",
        "import pandas as pd\n",
        "import matplotlib.pyplot as plt \n",
        "from sklearn.metrics import roc_auc_score\n",
        "from sklearn.model_selection import KFold\n",
        "from sklearn import linear_model\n",
        "from sklearn.model_selection import GridSearchCV, train_test_split, RandomizedSearchCV \n",
        "from sklearn.ensemble import RandomForestClassifier\n",
        "from xgboost import XGBClassifier"
      ],
      "execution_count": 0,
      "outputs": []
    },
    {
      "cell_type": "code",
      "metadata": {
        "id": "a6nXLnp2orV3",
        "colab_type": "code",
        "colab": {}
      },
      "source": [
        "sample = pd.read_csv('sample_submission.csv')\n",
        "test = pd.read_csv('test.csv')\n",
        "train = pd.read_csv('train.csv')"
      ],
      "execution_count": 0,
      "outputs": []
    },
    {
      "cell_type": "markdown",
      "metadata": {
        "id": "aTwLEIeporV6",
        "colab_type": "text"
      },
      "source": [
        "## Анализ train"
      ]
    },
    {
      "cell_type": "markdown",
      "metadata": {
        "id": "yWrcBqyZorV6",
        "colab_type": "text"
      },
      "source": [
        "Посмотрим что у нас в train"
      ]
    },
    {
      "cell_type": "code",
      "metadata": {
        "id": "I6wrbMzEorV7",
        "colab_type": "code",
        "colab": {
          "base_uri": "https://localhost:8080/",
          "height": 195
        },
        "outputId": "368343fe-1703-4180-eff4-a9d0d3f6f62b"
      },
      "source": [
        "train.head()"
      ],
      "execution_count": 3,
      "outputs": [
        {
          "output_type": "execute_result",
          "data": {
            "text/html": [
              "<div>\n",
              "<style scoped>\n",
              "    .dataframe tbody tr th:only-of-type {\n",
              "        vertical-align: middle;\n",
              "    }\n",
              "\n",
              "    .dataframe tbody tr th {\n",
              "        vertical-align: top;\n",
              "    }\n",
              "\n",
              "    .dataframe thead th {\n",
              "        text-align: right;\n",
              "    }\n",
              "</style>\n",
              "<table border=\"1\" class=\"dataframe\">\n",
              "  <thead>\n",
              "    <tr style=\"text-align: right;\">\n",
              "      <th></th>\n",
              "      <th>id</th>\n",
              "      <th>gender</th>\n",
              "      <th>age</th>\n",
              "      <th>hypertension</th>\n",
              "      <th>heart_disease</th>\n",
              "      <th>ever_married</th>\n",
              "      <th>work_type</th>\n",
              "      <th>Residence_type</th>\n",
              "      <th>avg_glucose_level</th>\n",
              "      <th>bmi</th>\n",
              "      <th>smoking_status</th>\n",
              "      <th>stroke</th>\n",
              "    </tr>\n",
              "  </thead>\n",
              "  <tbody>\n",
              "    <tr>\n",
              "      <th>0</th>\n",
              "      <td>30669</td>\n",
              "      <td>Male</td>\n",
              "      <td>3.0</td>\n",
              "      <td>0</td>\n",
              "      <td>0</td>\n",
              "      <td>No</td>\n",
              "      <td>children</td>\n",
              "      <td>Rural</td>\n",
              "      <td>95.12</td>\n",
              "      <td>18.0</td>\n",
              "      <td>NaN</td>\n",
              "      <td>0</td>\n",
              "    </tr>\n",
              "    <tr>\n",
              "      <th>1</th>\n",
              "      <td>30468</td>\n",
              "      <td>Male</td>\n",
              "      <td>58.0</td>\n",
              "      <td>1</td>\n",
              "      <td>0</td>\n",
              "      <td>Yes</td>\n",
              "      <td>Private</td>\n",
              "      <td>Urban</td>\n",
              "      <td>87.96</td>\n",
              "      <td>39.2</td>\n",
              "      <td>never smoked</td>\n",
              "      <td>0</td>\n",
              "    </tr>\n",
              "    <tr>\n",
              "      <th>2</th>\n",
              "      <td>16523</td>\n",
              "      <td>Female</td>\n",
              "      <td>8.0</td>\n",
              "      <td>0</td>\n",
              "      <td>0</td>\n",
              "      <td>No</td>\n",
              "      <td>Private</td>\n",
              "      <td>Urban</td>\n",
              "      <td>110.89</td>\n",
              "      <td>17.6</td>\n",
              "      <td>NaN</td>\n",
              "      <td>0</td>\n",
              "    </tr>\n",
              "    <tr>\n",
              "      <th>3</th>\n",
              "      <td>56543</td>\n",
              "      <td>Female</td>\n",
              "      <td>70.0</td>\n",
              "      <td>0</td>\n",
              "      <td>0</td>\n",
              "      <td>Yes</td>\n",
              "      <td>Private</td>\n",
              "      <td>Rural</td>\n",
              "      <td>69.04</td>\n",
              "      <td>35.9</td>\n",
              "      <td>formerly smoked</td>\n",
              "      <td>0</td>\n",
              "    </tr>\n",
              "    <tr>\n",
              "      <th>4</th>\n",
              "      <td>46136</td>\n",
              "      <td>Male</td>\n",
              "      <td>14.0</td>\n",
              "      <td>0</td>\n",
              "      <td>0</td>\n",
              "      <td>No</td>\n",
              "      <td>Never_worked</td>\n",
              "      <td>Rural</td>\n",
              "      <td>161.28</td>\n",
              "      <td>19.1</td>\n",
              "      <td>NaN</td>\n",
              "      <td>0</td>\n",
              "    </tr>\n",
              "  </tbody>\n",
              "</table>\n",
              "</div>"
            ],
            "text/plain": [
              "      id  gender   age  ...   bmi   smoking_status stroke\n",
              "0  30669    Male   3.0  ...  18.0              NaN      0\n",
              "1  30468    Male  58.0  ...  39.2     never smoked      0\n",
              "2  16523  Female   8.0  ...  17.6              NaN      0\n",
              "3  56543  Female  70.0  ...  35.9  formerly smoked      0\n",
              "4  46136    Male  14.0  ...  19.1              NaN      0\n",
              "\n",
              "[5 rows x 12 columns]"
            ]
          },
          "metadata": {
            "tags": []
          },
          "execution_count": 3
        }
      ]
    },
    {
      "cell_type": "markdown",
      "metadata": {
        "id": "iEonR8ZTorWC",
        "colab_type": "text"
      },
      "source": [
        "Посмотрим различие в категориальных данных для сего действия строим диаграммы"
      ]
    },
    {
      "cell_type": "code",
      "metadata": {
        "id": "eWYVvMA-orWC",
        "colab_type": "code",
        "colab": {
          "base_uri": "https://localhost:8080/",
          "height": 84
        },
        "outputId": "e3fb110a-4db4-42a3-b04b-f0db11ea590c"
      },
      "source": [
        "train.gender.value_counts()"
      ],
      "execution_count": 5,
      "outputs": [
        {
          "output_type": "execute_result",
          "data": {
            "text/plain": [
              "Female    17676\n",
              "Male      12315\n",
              "Other        10\n",
              "Name: gender, dtype: int64"
            ]
          },
          "metadata": {
            "tags": []
          },
          "execution_count": 5
        }
      ]
    },
    {
      "cell_type": "code",
      "metadata": {
        "id": "z11G--5AorWF",
        "colab_type": "code",
        "colab": {
          "base_uri": "https://localhost:8080/",
          "height": 646
        },
        "outputId": "9692994b-3025-4e9f-ad3e-a547e2631d9f"
      },
      "source": [
        "fig = plt.figure(figsize=(10, 10))\n",
        "fig.suptitle('Gender', fontsize=16)\n",
        "plt.pie(train.gender.value_counts(), labels=['Female', 'Male', 'Other'], explode=(0.01, 0.01, 0.2)) \n",
        "plt.show()"
      ],
      "execution_count": 6,
      "outputs": [
        {
          "output_type": "display_data",
          "data": {
            "image/png": "[encoded data removed]",
            "text/plain": [
              "<Figure size 720x720 with 1 Axes>"
            ]
          },
          "metadata": {
            "tags": []
          }
        }
      ]
    },
    {
      "cell_type": "markdown",
      "metadata": {
        "id": "Lux56es_orWI",
        "colab_type": "text"
      },
      "source": [
        "Видим, что есть три пола, хоть и \"Other\" почти отсутствует, \"Male\" меньше, чем \"Female\", но в мире наоборот мужской части населения больше, чем женской."
      ]
    },
    {
      "cell_type": "code",
      "metadata": {
        "id": "UICovBBRorWJ",
        "colab_type": "code",
        "colab": {
          "base_uri": "https://localhost:8080/",
          "height": 67
        },
        "outputId": "3fa9bb09-4762-4367-f542-c8216a37f6c2"
      },
      "source": [
        "train.hypertension.value_counts()"
      ],
      "execution_count": 7,
      "outputs": [
        {
          "output_type": "execute_result",
          "data": {
            "text/plain": [
              "0    27165\n",
              "1     2836\n",
              "Name: hypertension, dtype: int64"
            ]
          },
          "metadata": {
            "tags": []
          },
          "execution_count": 7
        }
      ]
    },
    {
      "cell_type": "code",
      "metadata": {
        "id": "OslaH0AaorWN",
        "colab_type": "code",
        "colab": {
          "base_uri": "https://localhost:8080/",
          "height": 646
        },
        "outputId": "c1dcf62b-ac94-49f9-9feb-f13902c29a00"
      },
      "source": [
        "fig = plt.figure(figsize=(10, 10))\n",
        "fig.suptitle('Hypertension', fontsize=16)\n",
        "plt.pie(train.hypertension.value_counts(), labels=['No', 'Yes'], explode=(0.01, 0.01)) \n",
        "plt.show()"
      ],
      "execution_count": 8,
      "outputs": [
        {
          "output_type": "display_data",
          "data": {
            "image/png": "[encoded data removed]",
            "text/plain": [
              "<Figure size 720x720 with 1 Axes>"
            ]
          },
          "metadata": {
            "tags": []
          }
        }
      ]
    },
    {
      "cell_type": "markdown",
      "metadata": {
        "id": "KQmgwV2qorWR",
        "colab_type": "text"
      },
      "source": [
        "По диаграмме мы можем сделать вывод, что гипертонией страдают около 10%, а в мире 16-30%"
      ]
    },
    {
      "cell_type": "code",
      "metadata": {
        "id": "BotUylgGorWS",
        "colab_type": "code",
        "colab": {
          "base_uri": "https://localhost:8080/",
          "height": 67
        },
        "outputId": "cf8caaa6-db16-47f5-d8ec-12edb298282d"
      },
      "source": [
        "train.heart_disease.value_counts()"
      ],
      "execution_count": 9,
      "outputs": [
        {
          "output_type": "execute_result",
          "data": {
            "text/plain": [
              "0    28566\n",
              "1     1435\n",
              "Name: heart_disease, dtype: int64"
            ]
          },
          "metadata": {
            "tags": []
          },
          "execution_count": 9
        }
      ]
    },
    {
      "cell_type": "code",
      "metadata": {
        "id": "RlJw7kqPorWU",
        "colab_type": "code",
        "colab": {
          "base_uri": "https://localhost:8080/",
          "height": 575
        },
        "outputId": "20521479-60b3-488f-cbda-166ed589d0b4"
      },
      "source": [
        "plt.figure(figsize=(10, 10))\n",
        "fig.suptitle('Heart disease', fontsize=16)\n",
        "plt.pie(train.heart_disease.value_counts(), labels=['No', 'Yes'], explode=(0.01, 0.01)) \n",
        "plt.show()"
      ],
      "execution_count": 10,
      "outputs": [
        {
          "output_type": "display_data",
          "data": {
            "image/png": "[encoded data removed]",
            "text/plain": [
              "<Figure size 720x720 with 1 Axes>"
            ]
          },
          "metadata": {
            "tags": []
          }
        }
      ]
    },
    {
      "cell_type": "markdown",
      "metadata": {
        "id": "RYl0cFfrorWX",
        "colab_type": "text"
      },
      "source": [
        "Здесь видно что около 5% страдают от сердечной не достаточности"
      ]
    },
    {
      "cell_type": "code",
      "metadata": {
        "id": "QQ7j0RrTorWY",
        "colab_type": "code",
        "colab": {
          "base_uri": "https://localhost:8080/",
          "height": 67
        },
        "outputId": "81ef4e42-d6d0-485b-da21-f17739ba6de4"
      },
      "source": [
        "train.ever_married.value_counts()"
      ],
      "execution_count": 11,
      "outputs": [
        {
          "output_type": "execute_result",
          "data": {
            "text/plain": [
              "Yes    19376\n",
              "No     10625\n",
              "Name: ever_married, dtype: int64"
            ]
          },
          "metadata": {
            "tags": []
          },
          "execution_count": 11
        }
      ]
    },
    {
      "cell_type": "code",
      "metadata": {
        "id": "hVnymKf4orWb",
        "colab_type": "code",
        "colab": {
          "base_uri": "https://localhost:8080/",
          "height": 646
        },
        "outputId": "3dad9a8e-ce7a-4da1-e955-8ff784c2d5b5"
      },
      "source": [
        "fig = plt.figure(figsize=(10, 10))\n",
        "fig.suptitle('Ever married', fontsize=16)\n",
        "plt.pie(train.ever_married.value_counts(), labels=['Yes', 'No'], explode=(0.01, 0.01)) \n",
        "plt.show()"
      ],
      "execution_count": 12,
      "outputs": [
        {
          "output_type": "display_data",
          "data": {
            "image/png": "[encoded data removed]",
            "text/plain": [
              "<Figure size 720x720 with 1 Axes>"
            ]
          },
          "metadata": {
            "tags": []
          }
        }
      ]
    },
    {
      "cell_type": "markdown",
      "metadata": {
        "id": "-o7OoP3DorWd",
        "colab_type": "text"
      },
      "source": [
        "Тут мы видем что 2/3 опрошенных были женаты"
      ]
    },
    {
      "cell_type": "code",
      "metadata": {
        "id": "AqgnVzikorWe",
        "colab_type": "code",
        "colab": {
          "base_uri": "https://localhost:8080/",
          "height": 118
        },
        "outputId": "0a3fd189-a4c3-4ef3-fabb-7649b5988674"
      },
      "source": [
        "train.work_type.value_counts()"
      ],
      "execution_count": 13,
      "outputs": [
        {
          "output_type": "execute_result",
          "data": {
            "text/plain": [
              "Private          17220\n",
              "Self-employed     4674\n",
              "children          4188\n",
              "Govt_job          3804\n",
              "Never_worked       115\n",
              "Name: work_type, dtype: int64"
            ]
          },
          "metadata": {
            "tags": []
          },
          "execution_count": 13
        }
      ]
    },
    {
      "cell_type": "code",
      "metadata": {
        "id": "6XK_ZgaYorWh",
        "colab_type": "code",
        "colab": {
          "base_uri": "https://localhost:8080/",
          "height": 646
        },
        "outputId": "a7d72b77-b7f6-4e1d-ea53-afaeb034c6dc"
      },
      "source": [
        "fig = plt.figure(figsize=(10, 10))\n",
        "fig.suptitle('Work type', fontsize=16)\n",
        "plt.pie(train.work_type.value_counts(), labels=['Private', 'Self-employed', 'children', 'Govt_job', \n",
        "                                                'Never_worked'], explode=(0.01, 0.01, 0.01, 0.01, 0.1)) \n",
        "plt.show()"
      ],
      "execution_count": 14,
      "outputs": [
        {
          "output_type": "display_data",
          "data": {
            "image/png": "[encoded data removed]",
            "text/plain": [
              "<Figure size 720x720 with 1 Axes>"
            ]
          },
          "metadata": {
            "tags": []
          }
        }
      ]
    },
    {
      "cell_type": "markdown",
      "metadata": {
        "id": "taTSG1whorWj",
        "colab_type": "text"
      },
      "source": [
        "Тут разные трудоустроиности людей отображены"
      ]
    },
    {
      "cell_type": "code",
      "metadata": {
        "id": "IhYlcDSrorWk",
        "colab_type": "code",
        "colab": {
          "base_uri": "https://localhost:8080/",
          "height": 67
        },
        "outputId": "88eccfe6-8330-4fdc-8b73-d5045c36e216"
      },
      "source": [
        "train.Residence_type.value_counts()"
      ],
      "execution_count": 15,
      "outputs": [
        {
          "output_type": "execute_result",
          "data": {
            "text/plain": [
              "Urban    15028\n",
              "Rural    14973\n",
              "Name: Residence_type, dtype: int64"
            ]
          },
          "metadata": {
            "tags": []
          },
          "execution_count": 15
        }
      ]
    },
    {
      "cell_type": "code",
      "metadata": {
        "id": "1Q8N-Q7UorWm",
        "colab_type": "code",
        "colab": {
          "base_uri": "https://localhost:8080/",
          "height": 646
        },
        "outputId": "343259e3-28d9-4721-ffec-834ac0ebe541"
      },
      "source": [
        "fig = plt.figure(figsize=(10, 10))\n",
        "fig.suptitle('Residence type', fontsize=16)\n",
        "plt.pie(train.Residence_type.value_counts(), labels=['Urban', 'Rural'], explode=(0.01, 0.01), colors=['Blue', 'Yellow']) \n",
        "plt.show()"
      ],
      "execution_count": 16,
      "outputs": [
        {
          "output_type": "display_data",
          "data": {
            "image/png": "[encoded data removed]",
            "text/plain": [
              "<Figure size 720x720 with 1 Axes>"
            ]
          },
          "metadata": {
            "tags": []
          }
        }
      ]
    },
    {
      "cell_type": "markdown",
      "metadata": {
        "id": "7wXuc5KCorWp",
        "colab_type": "text"
      },
      "source": [
        "Отсюда мы видим, что около половины выборки живет в сельской местности, а другая в городе, и казалось бы причем тут Украина"
      ]
    },
    {
      "cell_type": "code",
      "metadata": {
        "id": "9bDXkc0gorWq",
        "colab_type": "code",
        "colab": {
          "base_uri": "https://localhost:8080/",
          "height": 101
        },
        "outputId": "97ab35b7-15a1-4304-c039-c49cc300afd7"
      },
      "source": [
        "train['smoking_status'] = train['smoking_status'].fillna('no data')\n",
        "test['smoking_status'] = test['smoking_status'].fillna('no data')\n",
        "train.smoking_status.value_counts()"
      ],
      "execution_count": 17,
      "outputs": [
        {
          "output_type": "execute_result",
          "data": {
            "text/plain": [
              "never smoked       11079\n",
              "no data             9176\n",
              "formerly smoked     5183\n",
              "smokes              4563\n",
              "Name: smoking_status, dtype: int64"
            ]
          },
          "metadata": {
            "tags": []
          },
          "execution_count": 17
        }
      ]
    },
    {
      "cell_type": "code",
      "metadata": {
        "id": "T-EqQ5BjorWw",
        "colab_type": "code",
        "colab": {
          "base_uri": "https://localhost:8080/",
          "height": 646
        },
        "outputId": "f92610b5-5242-4cd1-a16e-7f137d7815b4"
      },
      "source": [
        "labels = list(['never smoked', 'no data', 'formerly smoked', 'smokes'])\n",
        "fig = plt.figure(figsize=(10, 10))\n",
        "fig.suptitle('Smoking status', fontsize=16)\n",
        "plt.pie(train.smoking_status.value_counts(), labels=labels,\n",
        "        explode=(0.01, 0.01, 0.01, 0.01)) \n",
        "plt.show()"
      ],
      "execution_count": 18,
      "outputs": [
        {
          "output_type": "display_data",
          "data": {
            "image/png": "[encoded data removed]",
            "text/plain": [
              "<Figure size 720x720 with 1 Axes>"
            ]
          },
          "metadata": {
            "tags": []
          }
        }
      ]
    },
    {
      "cell_type": "markdown",
      "metadata": {
        "id": "tcPLO1q9orW2",
        "colab_type": "text"
      },
      "source": [
        "Тут мы видим что у нас много отсутствующей информации"
      ]
    },
    {
      "cell_type": "markdown",
      "metadata": {
        "id": "bZjCmpMrorW2",
        "colab_type": "text"
      },
      "source": [
        "А теперь посмотрим распределение числовых данных, для начала добавим среднее значение bmi к Nan."
      ]
    },
    {
      "cell_type": "code",
      "metadata": {
        "id": "LqxtirBOorW3",
        "colab_type": "code",
        "colab": {
          "base_uri": "https://localhost:8080/",
          "height": 663
        },
        "outputId": "69b25933-e149-419d-bcaf-df9fd8ef4a80"
      },
      "source": [
        "mean_bmi = train['bmi'].mean()\n",
        "train['bmi'] = train['bmi'].fillna(mean_bmi)\n",
        "fig = plt.figure(figsize=(10, 10))\n",
        "fig.suptitle('Bmi', fontsize=16)\n",
        "plt.hist(train.bmi.values,bins=20) \n",
        "plt.show()"
      ],
      "execution_count": 19,
      "outputs": [
        {
          "output_type": "display_data",
          "data": {
            "image/png": "[encoded data removed]",
            "text/plain": [
              "<Figure size 720x720 with 1 Axes>"
            ]
          },
          "metadata": {
            "tags": []
          }
        }
      ]
    },
    {
      "cell_type": "markdown",
      "metadata": {
        "id": "iN5mzSVforW5",
        "colab_type": "text"
      },
      "source": [
        "ИМТ лежит в основном между 20 и 30"
      ]
    },
    {
      "cell_type": "code",
      "metadata": {
        "id": "pBPx9Z5uorW6",
        "colab_type": "code",
        "colab": {
          "base_uri": "https://localhost:8080/",
          "height": 663
        },
        "outputId": "60de173d-5d06-4bc7-8843-f90c3ea9ab2b"
      },
      "source": [
        "fig = plt.figure(figsize=(10, 10))\n",
        "fig.suptitle('Average glucose level', fontsize=16)\n",
        "plt.hist(train.avg_glucose_level.values,bins=20) \n",
        "plt.show()"
      ],
      "execution_count": 20,
      "outputs": [
        {
          "output_type": "display_data",
          "data": {
            "image/png": "[encoded data removed]",
            "text/plain": [
              "<Figure size 720x720 with 1 Axes>"
            ]
          },
          "metadata": {
            "tags": []
          }
        }
      ]
    },
    {
      "cell_type": "markdown",
      "metadata": {
        "id": "fUvLW73borW9",
        "colab_type": "text"
      },
      "source": [
        "Хоть мы и не знаем единицы измерения глюкозы в крови, но обычно это мг/л, и по данным из вики норма это 72-99, если больше то у человека диабет(("
      ]
    },
    {
      "cell_type": "code",
      "metadata": {
        "id": "O8XuuQ9BorW-",
        "colab_type": "code",
        "colab": {
          "base_uri": "https://localhost:8080/",
          "height": 663
        },
        "outputId": "e142614d-6641-472f-e52b-2b9d23bc6fb1"
      },
      "source": [
        "fig = plt.figure(figsize=(10, 10))\n",
        "fig.suptitle('Age', fontsize=16)\n",
        "plt.hist(train.age.values,bins=20) \n",
        "plt.show()"
      ],
      "execution_count": 21,
      "outputs": [
        {
          "output_type": "display_data",
          "data": {
            "image/png": "[encoded data removed]",
            "text/plain": [
              "<Figure size 720x720 with 1 Axes>"
            ]
          },
          "metadata": {
            "tags": []
          }
        }
      ]
    },
    {
      "cell_type": "markdown",
      "metadata": {
        "id": "F1QJgLnqorXB",
        "colab_type": "text"
      },
      "source": [
        "Из этой диаграммы мы видем что в основном у нас данные о людях которым 40-50"
      ]
    },
    {
      "cell_type": "markdown",
      "metadata": {
        "id": "lXcWgMxmorXC",
        "colab_type": "text"
      },
      "source": [
        "## Feature generation"
      ]
    },
    {
      "cell_type": "markdown",
      "metadata": {
        "id": "exdIXqglorXC",
        "colab_type": "text"
      },
      "source": [
        "Для начала добавим средний ИМТ в тестовый датасет"
      ]
    },
    {
      "cell_type": "code",
      "metadata": {
        "id": "IV8O9r7RorXE",
        "colab_type": "code",
        "colab": {}
      },
      "source": [
        "test['bmi'] = test['bmi'].fillna(mean_bmi) # замещение Nan"
      ],
      "execution_count": 0,
      "outputs": []
    },
    {
      "cell_type": "markdown",
      "metadata": {
        "id": "PGjZtILYorXJ",
        "colab_type": "text"
      },
      "source": [
        "Ну и заменим все да/нет на 1/0"
      ]
    },
    {
      "cell_type": "code",
      "metadata": {
        "id": "S1EOu8EKorXL",
        "colab_type": "code",
        "colab": {}
      },
      "source": [
        "ever_married_dict = {'Yes': 1, 'No':0 }\n",
        "train['ever_married'] =train['ever_married'].replace(ever_married_dict)\n",
        "test['ever_married'] = test['ever_married'].replace(ever_married_dict)"
      ],
      "execution_count": 0,
      "outputs": []
    },
    {
      "cell_type": "markdown",
      "metadata": {
        "id": "0Kh0caAporXQ",
        "colab_type": "text"
      },
      "source": [
        "Проделаем нечто похожее с данными про работу, где 1-i это если мы знаем что то и 0 если нет"
      ]
    },
    {
      "cell_type": "code",
      "metadata": {
        "id": "oWx3eolMorXS",
        "colab_type": "code",
        "colab": {}
      },
      "source": [
        "for i in train['work_type'].unique():\n",
        "    train['work_type_is_{}'.format(i)] = (train['work_type'] == i)*1\n",
        "    test['work_type_is_{}'.format(i)] = (test['work_type'] == i)*1"
      ],
      "execution_count": 0,
      "outputs": []
    },
    {
      "cell_type": "markdown",
      "metadata": {
        "id": "kUoaIFGIorXX",
        "colab_type": "text"
      },
      "source": [
        "Тут замения знания о курильщиках на средние значения количества инсультов на тип курильщика"
      ]
    },
    {
      "cell_type": "code",
      "metadata": {
        "id": "p2Ayheq8orXZ",
        "colab_type": "code",
        "colab": {}
      },
      "source": [
        "smoking_status_target_enc_dict = (train.groupby(['smoking_status'])['stroke'].agg(['mean'])).to_dict()['mean']\n",
        "train['smoking_status_target_enc'] = train['smoking_status'].replace(smoking_status_target_enc_dict)\n",
        "test['smoking_status_target_enc'] = test['smoking_status'].replace(smoking_status_target_enc_dict)\n",
        "for i in train['smoking_status'].unique():\n",
        "    train['smoking_status_is_{}'.format(i)] = (train['smoking_status'] == i)*1\n",
        "    test['smoking_status_is_{}'.format(i)] = (test['smoking_status'] == i)*1"
      ],
      "execution_count": 0,
      "outputs": []
    },
    {
      "cell_type": "markdown",
      "metadata": {
        "id": "IK5jkGdcorXe",
        "colab_type": "text"
      },
      "source": [
        "Так же оцифруем знание место проживания"
      ]
    },
    {
      "cell_type": "code",
      "metadata": {
        "id": "A1Bk9C8JorXg",
        "colab_type": "code",
        "colab": {}
      },
      "source": [
        "residence_target_enc_dict = (train.groupby(['Residence_type'])['stroke'].agg(['mean'])).to_dict()['mean']\n",
        "train['residence_target_enc'] = train['Residence_type'].replace(residence_target_enc_dict)\n",
        "test['residence_target_enc'] = test['Residence_type'].replace(residence_target_enc_dict)\n",
        "train['Residence_type'] = train['Residence_type'].replace({'Urban':0, 'Rural':1 })\n",
        "test['Residence_type'] = test['Residence_type'].replace({'Urban':0, 'Rural':1 })"
      ],
      "execution_count": 0,
      "outputs": []
    },
    {
      "cell_type": "markdown",
      "metadata": {
        "id": "9hGQ6YsborXj",
        "colab_type": "text"
      },
      "source": [
        "А теперь получим средние количество инсультов на половую принадлежность и добавим категориальные столбцы"
      ]
    },
    {
      "cell_type": "code",
      "metadata": {
        "id": "165UXQScorXk",
        "colab_type": "code",
        "colab": {}
      },
      "source": [
        "gender_target_enc_dict = (train.groupby(['gender'])['stroke'].agg(['mean'])).to_dict()['mean']\n",
        "train['gender_target_enc'] = train['gender'].replace(gender_target_enc_dict)\n",
        "test['gender_target_enc'] = test['gender'].replace(gender_target_enc_dict)\n",
        "for i in train['gender'].unique():\n",
        "    train['gender_is_{}'.format(i)] = (train['gender'] == i)*1\n",
        "    test['gender_is_{}'.format(i)] = (test['gender'] == i)*1"
      ],
      "execution_count": 0,
      "outputs": []
    },
    {
      "cell_type": "markdown",
      "metadata": {
        "id": "Gci1pKiforXn",
        "colab_type": "text"
      },
      "source": [
        "Посмотрим на корреляционную таблицу еще раз"
      ]
    },
    {
      "cell_type": "code",
      "metadata": {
        "id": "U9yCZI4qorXo",
        "colab_type": "code",
        "colab": {
          "base_uri": "https://localhost:8080/",
          "height": 589
        },
        "outputId": "51be5e11-61ae-4b67-de64-e88f26e3a1bb"
      },
      "source": [
        "cor = train.corr()\n",
        "cor.style.background_gradient(cmap='coolwarm')"
      ],
      "execution_count": 28,
      "outputs": [
        {
          "output_type": "execute_result",
          "data": {
            "text/html": [
              "<style  type=\"text/css\" >\n",
              "    #T_a204ac54_03e6_11ea_8000_0242ac1c0002row0_col0 {\n",
              "            background-color:  #b40426;\n",
              "            color:  #f1f1f1;\n",
              "        }    #T_a204ac54_03e6_11ea_8000_0242ac1c0002row0_col1 {\n",
              "            background-color:  #bfd3f6;\n",
              "            color:  #000000;\n",
              "        }    #T_a204ac54_03e6_11ea_8000_0242ac1c0002row0_col2 {\n",
              "            background-color:  #6180e9;\n",
              "            color:  #000000;\n",
              "        }    #T_a204ac54_03e6_11ea_8000_0242ac1c0002row0_col3 {\n",
              "            background-color:  #5572df;\n",
              "            color:  #000000;\n",
              "        }    #T_a204ac54_03e6_11ea_8000_0242ac1c0002row0_col4 {\n",
              "            background-color:  #b2ccfb;\n",
              "            color:  #000000;\n",
              "        }    #T_a204ac54_03e6_11ea_8000_0242ac1c0002row0_col5 {\n",
              "            background-color:  #dcdddd;\n",
              "            color:  #000000;\n",
              "        }    #T_a204ac54_03e6_11ea_8000_0242ac1c0002row0_col6 {\n",
              "            background-color:  #5f7fe8;\n",
              "            color:  #000000;\n",
              "        }    #T_a204ac54_03e6_11ea_8000_0242ac1c0002row0_col7 {\n",
              "            background-color:  #a6c4fe;\n",
              "            color:  #000000;\n",
              "        }    #T_a204ac54_03e6_11ea_8000_0242ac1c0002row0_col8 {\n",
              "            background-color:  #4b64d5;\n",
              "            color:  #f1f1f1;\n",
              "        }    #T_a204ac54_03e6_11ea_8000_0242ac1c0002row0_col9 {\n",
              "            background-color:  #b9d0f9;\n",
              "            color:  #000000;\n",
              "        }    #T_a204ac54_03e6_11ea_8000_0242ac1c0002row0_col10 {\n",
              "            background-color:  #abc8fd;\n",
              "            color:  #000000;\n",
              "        }    #T_a204ac54_03e6_11ea_8000_0242ac1c0002row0_col11 {\n",
              "            background-color:  #516ddb;\n",
              "            color:  #000000;\n",
              "        }    #T_a204ac54_03e6_11ea_8000_0242ac1c0002row0_col12 {\n",
              "            background-color:  #abc8fd;\n",
              "            color:  #000000;\n",
              "        }    #T_a204ac54_03e6_11ea_8000_0242ac1c0002row0_col13 {\n",
              "            background-color:  #a1c0ff;\n",
              "            color:  #000000;\n",
              "        }    #T_a204ac54_03e6_11ea_8000_0242ac1c0002row0_col14 {\n",
              "            background-color:  #ccd9ed;\n",
              "            color:  #000000;\n",
              "        }    #T_a204ac54_03e6_11ea_8000_0242ac1c0002row0_col15 {\n",
              "            background-color:  #c6d6f1;\n",
              "            color:  #000000;\n",
              "        }    #T_a204ac54_03e6_11ea_8000_0242ac1c0002row0_col16 {\n",
              "            background-color:  #adc9fd;\n",
              "            color:  #000000;\n",
              "        }    #T_a204ac54_03e6_11ea_8000_0242ac1c0002row0_col17 {\n",
              "            background-color:  #93b5fe;\n",
              "            color:  #000000;\n",
              "        }    #T_a204ac54_03e6_11ea_8000_0242ac1c0002row0_col18 {\n",
              "            background-color:  #8caffe;\n",
              "            color:  #000000;\n",
              "        }    #T_a204ac54_03e6_11ea_8000_0242ac1c0002row0_col19 {\n",
              "            background-color:  #dddcdc;\n",
              "            color:  #000000;\n",
              "        }    #T_a204ac54_03e6_11ea_8000_0242ac1c0002row0_col20 {\n",
              "            background-color:  #dadce0;\n",
              "            color:  #000000;\n",
              "        }    #T_a204ac54_03e6_11ea_8000_0242ac1c0002row0_col21 {\n",
              "            background-color:  #dcdddd;\n",
              "            color:  #000000;\n",
              "        }    #T_a204ac54_03e6_11ea_8000_0242ac1c0002row0_col22 {\n",
              "            background-color:  #dddcdc;\n",
              "            color:  #000000;\n",
              "        }    #T_a204ac54_03e6_11ea_8000_0242ac1c0002row0_col23 {\n",
              "            background-color:  #799cf8;\n",
              "            color:  #000000;\n",
              "        }    #T_a204ac54_03e6_11ea_8000_0242ac1c0002row1_col0 {\n",
              "            background-color:  #455cce;\n",
              "            color:  #f1f1f1;\n",
              "        }    #T_a204ac54_03e6_11ea_8000_0242ac1c0002row1_col1 {\n",
              "            background-color:  #b40426;\n",
              "            color:  #f1f1f1;\n",
              "        }    #T_a204ac54_03e6_11ea_8000_0242ac1c0002row1_col2 {\n",
              "            background-color:  #b2ccfb;\n",
              "            color:  #000000;\n",
              "        }    #T_a204ac54_03e6_11ea_8000_0242ac1c0002row1_col3 {\n",
              "            background-color:  #a3c2fe;\n",
              "            color:  #000000;\n",
              "        }    #T_a204ac54_03e6_11ea_8000_0242ac1c0002row1_col4 {\n",
              "            background-color:  #ee8468;\n",
              "            color:  #000000;\n",
              "        }    #T_a204ac54_03e6_11ea_8000_0242ac1c0002row1_col5 {\n",
              "            background-color:  #dcdddd;\n",
              "            color:  #000000;\n",
              "        }    #T_a204ac54_03e6_11ea_8000_0242ac1c0002row1_col6 {\n",
              "            background-color:  #a2c1ff;\n",
              "            color:  #000000;\n",
              "        }    #T_a204ac54_03e6_11ea_8000_0242ac1c0002row1_col7 {\n",
              "            background-color:  #ead5c9;\n",
              "            color:  #000000;\n",
              "        }    #T_a204ac54_03e6_11ea_8000_0242ac1c0002row1_col8 {\n",
              "            background-color:  #799cf8;\n",
              "            color:  #000000;\n",
              "        }    #T_a204ac54_03e6_11ea_8000_0242ac1c0002row1_col9 {\n",
              "            background-color:  #3b4cc0;\n",
              "            color:  #f1f1f1;\n",
              "        }    #T_a204ac54_03e6_11ea_8000_0242ac1c0002row1_col10 {\n",
              "            background-color:  #c7d7f0;\n",
              "            color:  #000000;\n",
              "        }    #T_a204ac54_03e6_11ea_8000_0242ac1c0002row1_col11 {\n",
              "            background-color:  #3d50c3;\n",
              "            color:  #f1f1f1;\n",
              "        }    #T_a204ac54_03e6_11ea_8000_0242ac1c0002row1_col12 {\n",
              "            background-color:  #e9d5cb;\n",
              "            color:  #000000;\n",
              "        }    #T_a204ac54_03e6_11ea_8000_0242ac1c0002row1_col13 {\n",
              "            background-color:  #bcd2f7;\n",
              "            color:  #000000;\n",
              "        }    #T_a204ac54_03e6_11ea_8000_0242ac1c0002row1_col14 {\n",
              "            background-color:  #f6bfa6;\n",
              "            color:  #000000;\n",
              "        }    #T_a204ac54_03e6_11ea_8000_0242ac1c0002row1_col15 {\n",
              "            background-color:  #81a4fb;\n",
              "            color:  #000000;\n",
              "        }    #T_a204ac54_03e6_11ea_8000_0242ac1c0002row1_col16 {\n",
              "            background-color:  #c3d5f4;\n",
              "            color:  #000000;\n",
              "        }    #T_a204ac54_03e6_11ea_8000_0242ac1c0002row1_col17 {\n",
              "            background-color:  #ccd9ed;\n",
              "            color:  #000000;\n",
              "        }    #T_a204ac54_03e6_11ea_8000_0242ac1c0002row1_col18 {\n",
              "            background-color:  #a1c0ff;\n",
              "            color:  #000000;\n",
              "        }    #T_a204ac54_03e6_11ea_8000_0242ac1c0002row1_col19 {\n",
              "            background-color:  #dddcdc;\n",
              "            color:  #000000;\n",
              "        }    #T_a204ac54_03e6_11ea_8000_0242ac1c0002row1_col20 {\n",
              "            background-color:  #d7dce3;\n",
              "            color:  #000000;\n",
              "        }    #T_a204ac54_03e6_11ea_8000_0242ac1c0002row1_col21 {\n",
              "            background-color:  #d9dce1;\n",
              "            color:  #000000;\n",
              "        }    #T_a204ac54_03e6_11ea_8000_0242ac1c0002row1_col22 {\n",
              "            background-color:  #e0dbd8;\n",
              "            color:  #000000;\n",
              "        }    #T_a204ac54_03e6_11ea_8000_0242ac1c0002row1_col23 {\n",
              "            background-color:  #779af7;\n",
              "            color:  #000000;\n",
              "        }    #T_a204ac54_03e6_11ea_8000_0242ac1c0002row2_col0 {\n",
              "            background-color:  #445acc;\n",
              "            color:  #f1f1f1;\n",
              "        }    #T_a204ac54_03e6_11ea_8000_0242ac1c0002row2_col1 {\n",
              "            background-color:  #ead4c8;\n",
              "            color:  #000000;\n",
              "        }    #T_a204ac54_03e6_11ea_8000_0242ac1c0002row2_col2 {\n",
              "            background-color:  #b40426;\n",
              "            color:  #f1f1f1;\n",
              "        }    #T_a204ac54_03e6_11ea_8000_0242ac1c0002row2_col3 {\n",
              "            background-color:  #799cf8;\n",
              "            color:  #000000;\n",
              "        }    #T_a204ac54_03e6_11ea_8000_0242ac1c0002row2_col4 {\n",
              "            background-color:  #d4dbe6;\n",
              "            color:  #000000;\n",
              "        }    #T_a204ac54_03e6_11ea_8000_0242ac1c0002row2_col5 {\n",
              "            background-color:  #dddcdc;\n",
              "            color:  #000000;\n",
              "        }    #T_a204ac54_03e6_11ea_8000_0242ac1c0002row2_col6 {\n",
              "            background-color:  #8badfd;\n",
              "            color:  #000000;\n",
              "        }    #T_a204ac54_03e6_11ea_8000_0242ac1c0002row2_col7 {\n",
              "            background-color:  #c5d6f2;\n",
              "            color:  #000000;\n",
              "        }    #T_a204ac54_03e6_11ea_8000_0242ac1c0002row2_col8 {\n",
              "            background-color:  #5f7fe8;\n",
              "            color:  #000000;\n",
              "        }    #T_a204ac54_03e6_11ea_8000_0242ac1c0002row2_col9 {\n",
              "            background-color:  #a2c1ff;\n",
              "            color:  #000000;\n",
              "        }    #T_a204ac54_03e6_11ea_8000_0242ac1c0002row2_col10 {\n",
              "            background-color:  #a9c6fd;\n",
              "            color:  #000000;\n",
              "        }    #T_a204ac54_03e6_11ea_8000_0242ac1c0002row2_col11 {\n",
              "            background-color:  #4b64d5;\n",
              "            color:  #f1f1f1;\n",
              "        }    #T_a204ac54_03e6_11ea_8000_0242ac1c0002row2_col12 {\n",
              "            background-color:  #c1d4f4;\n",
              "            color:  #000000;\n",
              "        }    #T_a204ac54_03e6_11ea_8000_0242ac1c0002row2_col13 {\n",
              "            background-color:  #a6c4fe;\n",
              "            color:  #000000;\n",
              "        }    #T_a204ac54_03e6_11ea_8000_0242ac1c0002row2_col14 {\n",
              "            background-color:  #dbdcde;\n",
              "            color:  #000000;\n",
              "        }    #T_a204ac54_03e6_11ea_8000_0242ac1c0002row2_col15 {\n",
              "            background-color:  #b3cdfb;\n",
              "            color:  #000000;\n",
              "        }    #T_a204ac54_03e6_11ea_8000_0242ac1c0002row2_col16 {\n",
              "            background-color:  #b2ccfb;\n",
              "            color:  #000000;\n",
              "        }    #T_a204ac54_03e6_11ea_8000_0242ac1c0002row2_col17 {\n",
              "            background-color:  #a3c2fe;\n",
              "            color:  #000000;\n",
              "        }    #T_a204ac54_03e6_11ea_8000_0242ac1c0002row2_col18 {\n",
              "            background-color:  #92b4fe;\n",
              "            color:  #000000;\n",
              "        }    #T_a204ac54_03e6_11ea_8000_0242ac1c0002row2_col19 {\n",
              "            background-color:  #dcdddd;\n",
              "            color:  #000000;\n",
              "        }    #T_a204ac54_03e6_11ea_8000_0242ac1c0002row2_col20 {\n",
              "            background-color:  #dddcdc;\n",
              "            color:  #000000;\n",
              "        }    #T_a204ac54_03e6_11ea_8000_0242ac1c0002row2_col21 {\n",
              "            background-color:  #e0dbd8;\n",
              "            color:  #000000;\n",
              "        }    #T_a204ac54_03e6_11ea_8000_0242ac1c0002row2_col22 {\n",
              "            background-color:  #d9dce1;\n",
              "            color:  #000000;\n",
              "        }    #T_a204ac54_03e6_11ea_8000_0242ac1c0002row2_col23 {\n",
              "            background-color:  #779af7;\n",
              "            color:  #000000;\n",
              "        }    #T_a204ac54_03e6_11ea_8000_0242ac1c0002row3_col0 {\n",
              "            background-color:  #4358cb;\n",
              "            color:  #f1f1f1;\n",
              "        }    #T_a204ac54_03e6_11ea_8000_0242ac1c0002row3_col1 {\n",
              "            background-color:  #e8d6cc;\n",
              "            color:  #000000;\n",
              "        }    #T_a204ac54_03e6_11ea_8000_0242ac1c0002row3_col2 {\n",
              "            background-color:  #82a6fb;\n",
              "            color:  #000000;\n",
              "        }    #T_a204ac54_03e6_11ea_8000_0242ac1c0002row3_col3 {\n",
              "            background-color:  #b40426;\n",
              "            color:  #f1f1f1;\n",
              "        }    #T_a204ac54_03e6_11ea_8000_0242ac1c0002row3_col4 {\n",
              "            background-color:  #cbd8ee;\n",
              "            color:  #000000;\n",
              "        }    #T_a204ac54_03e6_11ea_8000_0242ac1c0002row3_col5 {\n",
              "            background-color:  #dddcdc;\n",
              "            color:  #000000;\n",
              "        }    #T_a204ac54_03e6_11ea_8000_0242ac1c0002row3_col6 {\n",
              "            background-color:  #88abfd;\n",
              "            color:  #000000;\n",
              "        }    #T_a204ac54_03e6_11ea_8000_0242ac1c0002row3_col7 {\n",
              "            background-color:  #afcafc;\n",
              "            color:  #000000;\n",
              "        }    #T_a204ac54_03e6_11ea_8000_0242ac1c0002row3_col8 {\n",
              "            background-color:  #688aef;\n",
              "            color:  #000000;\n",
              "        }    #T_a204ac54_03e6_11ea_8000_0242ac1c0002row3_col9 {\n",
              "            background-color:  #aac7fd;\n",
              "            color:  #000000;\n",
              "        }    #T_a204ac54_03e6_11ea_8000_0242ac1c0002row3_col10 {\n",
              "            background-color:  #a9c6fd;\n",
              "            color:  #000000;\n",
              "        }    #T_a204ac54_03e6_11ea_8000_0242ac1c0002row3_col11 {\n",
              "            background-color:  #4c66d6;\n",
              "            color:  #000000;\n",
              "        }    #T_a204ac54_03e6_11ea_8000_0242ac1c0002row3_col12 {\n",
              "            background-color:  #c0d4f5;\n",
              "            color:  #000000;\n",
              "        }    #T_a204ac54_03e6_11ea_8000_0242ac1c0002row3_col13 {\n",
              "            background-color:  #9fbfff;\n",
              "            color:  #000000;\n",
              "        }    #T_a204ac54_03e6_11ea_8000_0242ac1c0002row3_col14 {\n",
              "            background-color:  #d8dce2;\n",
              "            color:  #000000;\n",
              "        }    #T_a204ac54_03e6_11ea_8000_0242ac1c0002row3_col15 {\n",
              "            background-color:  #bfd3f6;\n",
              "            color:  #000000;\n",
              "        }    #T_a204ac54_03e6_11ea_8000_0242ac1c0002row3_col16 {\n",
              "            background-color:  #a3c2fe;\n",
              "            color:  #000000;\n",
              "        }    #T_a204ac54_03e6_11ea_8000_0242ac1c0002row3_col17 {\n",
              "            background-color:  #a6c4fe;\n",
              "            color:  #000000;\n",
              "        }    #T_a204ac54_03e6_11ea_8000_0242ac1c0002row3_col18 {\n",
              "            background-color:  #94b6ff;\n",
              "            color:  #000000;\n",
              "        }    #T_a204ac54_03e6_11ea_8000_0242ac1c0002row3_col19 {\n",
              "            background-color:  #dcdddd;\n",
              "            color:  #000000;\n",
              "        }    #T_a204ac54_03e6_11ea_8000_0242ac1c0002row3_col20 {\n",
              "            background-color:  #e5d8d1;\n",
              "            color:  #000000;\n",
              "        }    #T_a204ac54_03e6_11ea_8000_0242ac1c0002row3_col21 {\n",
              "            background-color:  #e7d7ce;\n",
              "            color:  #000000;\n",
              "        }    #T_a204ac54_03e6_11ea_8000_0242ac1c0002row3_col22 {\n",
              "            background-color:  #d2dbe8;\n",
              "            color:  #000000;\n",
              "        }    #T_a204ac54_03e6_11ea_8000_0242ac1c0002row3_col23 {\n",
              "            background-color:  #779af7;\n",
              "            color:  #000000;\n",
              "        }    #T_a204ac54_03e6_11ea_8000_0242ac1c0002row4_col0 {\n",
              "            background-color:  #445acc;\n",
              "            color:  #f1f1f1;\n",
              "        }    #T_a204ac54_03e6_11ea_8000_0242ac1c0002row4_col1 {\n",
              "            background-color:  #ec7f63;\n",
              "            color:  #000000;\n",
              "        }    #T_a204ac54_03e6_11ea_8000_0242ac1c0002row4_col2 {\n",
              "            background-color:  #94b6ff;\n",
              "            color:  #000000;\n",
              "        }    #T_a204ac54_03e6_11ea_8000_0242ac1c0002row4_col3 {\n",
              "            background-color:  #7a9df8;\n",
              "            color:  #000000;\n",
              "        }    #T_a204ac54_03e6_11ea_8000_0242ac1c0002row4_col4 {\n",
              "            background-color:  #b40426;\n",
              "            color:  #f1f1f1;\n",
              "        }    #T_a204ac54_03e6_11ea_8000_0242ac1c0002row4_col5 {\n",
              "            background-color:  #dcdddd;\n",
              "            color:  #000000;\n",
              "        }    #T_a204ac54_03e6_11ea_8000_0242ac1c0002row4_col6 {\n",
              "            background-color:  #88abfd;\n",
              "            color:  #000000;\n",
              "        }    #T_a204ac54_03e6_11ea_8000_0242ac1c0002row4_col7 {\n",
              "            background-color:  #e8d6cc;\n",
              "            color:  #000000;\n",
              "        }    #T_a204ac54_03e6_11ea_8000_0242ac1c0002row4_col8 {\n",
              "            background-color:  #5e7de7;\n",
              "            color:  #000000;\n",
              "        }    #T_a204ac54_03e6_11ea_8000_0242ac1c0002row4_col9 {\n",
              "            background-color:  #4b64d5;\n",
              "            color:  #f1f1f1;\n",
              "        }    #T_a204ac54_03e6_11ea_8000_0242ac1c0002row4_col10 {\n",
              "            background-color:  #cbd8ee;\n",
              "            color:  #000000;\n",
              "        }    #T_a204ac54_03e6_11ea_8000_0242ac1c0002row4_col11 {\n",
              "            background-color:  #3b4cc0;\n",
              "            color:  #f1f1f1;\n",
              "        }    #T_a204ac54_03e6_11ea_8000_0242ac1c0002row4_col12 {\n",
              "            background-color:  #d3dbe7;\n",
              "            color:  #000000;\n",
              "        }    #T_a204ac54_03e6_11ea_8000_0242ac1c0002row4_col13 {\n",
              "            background-color:  #c1d4f4;\n",
              "            color:  #000000;\n",
              "        }    #T_a204ac54_03e6_11ea_8000_0242ac1c0002row4_col14 {\n",
              "            background-color:  #f2cbb7;\n",
              "            color:  #000000;\n",
              "        }    #T_a204ac54_03e6_11ea_8000_0242ac1c0002row4_col15 {\n",
              "            background-color:  #8badfd;\n",
              "            color:  #000000;\n",
              "        }    #T_a204ac54_03e6_11ea_8000_0242ac1c0002row4_col16 {\n",
              "            background-color:  #c0d4f5;\n",
              "            color:  #000000;\n",
              "        }    #T_a204ac54_03e6_11ea_8000_0242ac1c0002row4_col17 {\n",
              "            background-color:  #bbd1f8;\n",
              "            color:  #000000;\n",
              "        }    #T_a204ac54_03e6_11ea_8000_0242ac1c0002row4_col18 {\n",
              "            background-color:  #a7c5fe;\n",
              "            color:  #000000;\n",
              "        }    #T_a204ac54_03e6_11ea_8000_0242ac1c0002row4_col19 {\n",
              "            background-color:  #dddcdc;\n",
              "            color:  #000000;\n",
              "        }    #T_a204ac54_03e6_11ea_8000_0242ac1c0002row4_col20 {\n",
              "            background-color:  #d6dce4;\n",
              "            color:  #000000;\n",
              "        }    #T_a204ac54_03e6_11ea_8000_0242ac1c0002row4_col21 {\n",
              "            background-color:  #d8dce2;\n",
              "            color:  #000000;\n",
              "        }    #T_a204ac54_03e6_11ea_8000_0242ac1c0002row4_col22 {\n",
              "            background-color:  #e1dad6;\n",
              "            color:  #000000;\n",
              "        }    #T_a204ac54_03e6_11ea_8000_0242ac1c0002row4_col23 {\n",
              "            background-color:  #779af7;\n",
              "            color:  #000000;\n",
              "        }    #T_a204ac54_03e6_11ea_8000_0242ac1c0002row5_col0 {\n",
              "            background-color:  #4055c8;\n",
              "            color:  #f1f1f1;\n",
              "        }    #T_a204ac54_03e6_11ea_8000_0242ac1c0002row5_col1 {\n",
              "            background-color:  #bcd2f7;\n",
              "            color:  #000000;\n",
              "        }    #T_a204ac54_03e6_11ea_8000_0242ac1c0002row5_col2 {\n",
              "            background-color:  #5f7fe8;\n",
              "            color:  #000000;\n",
              "        }    #T_a204ac54_03e6_11ea_8000_0242ac1c0002row5_col3 {\n",
              "            background-color:  #5470de;\n",
              "            color:  #000000;\n",
              "        }    #T_a204ac54_03e6_11ea_8000_0242ac1c0002row5_col4 {\n",
              "            background-color:  #afcafc;\n",
              "            color:  #000000;\n",
              "        }    #T_a204ac54_03e6_11ea_8000_0242ac1c0002row5_col5 {\n",
              "            background-color:  #b40426;\n",
              "            color:  #f1f1f1;\n",
              "        }    #T_a204ac54_03e6_11ea_8000_0242ac1c0002row5_col6 {\n",
              "            background-color:  #5a78e4;\n",
              "            color:  #000000;\n",
              "        }    #T_a204ac54_03e6_11ea_8000_0242ac1c0002row5_col7 {\n",
              "            background-color:  #a3c2fe;\n",
              "            color:  #000000;\n",
              "        }    #T_a204ac54_03e6_11ea_8000_0242ac1c0002row5_col8 {\n",
              "            background-color:  #4961d2;\n",
              "            color:  #f1f1f1;\n",
              "        }    #T_a204ac54_03e6_11ea_8000_0242ac1c0002row5_col9 {\n",
              "            background-color:  #bed2f6;\n",
              "            color:  #000000;\n",
              "        }    #T_a204ac54_03e6_11ea_8000_0242ac1c0002row5_col10 {\n",
              "            background-color:  #a9c6fd;\n",
              "            color:  #000000;\n",
              "        }    #T_a204ac54_03e6_11ea_8000_0242ac1c0002row5_col11 {\n",
              "            background-color:  #4f69d9;\n",
              "            color:  #000000;\n",
              "        }    #T_a204ac54_03e6_11ea_8000_0242ac1c0002row5_col12 {\n",
              "            background-color:  #aac7fd;\n",
              "            color:  #000000;\n",
              "        }    #T_a204ac54_03e6_11ea_8000_0242ac1c0002row5_col13 {\n",
              "            background-color:  #a1c0ff;\n",
              "            color:  #000000;\n",
              "        }    #T_a204ac54_03e6_11ea_8000_0242ac1c0002row5_col14 {\n",
              "            background-color:  #c9d7f0;\n",
              "            color:  #000000;\n",
              "        }    #T_a204ac54_03e6_11ea_8000_0242ac1c0002row5_col15 {\n",
              "            background-color:  #cad8ef;\n",
              "            color:  #000000;\n",
              "        }    #T_a204ac54_03e6_11ea_8000_0242ac1c0002row5_col16 {\n",
              "            background-color:  #aac7fd;\n",
              "            color:  #000000;\n",
              "        }    #T_a204ac54_03e6_11ea_8000_0242ac1c0002row5_col17 {\n",
              "            background-color:  #92b4fe;\n",
              "            color:  #000000;\n",
              "        }    #T_a204ac54_03e6_11ea_8000_0242ac1c0002row5_col18 {\n",
              "            background-color:  #88abfd;\n",
              "            color:  #000000;\n",
              "        }    #T_a204ac54_03e6_11ea_8000_0242ac1c0002row5_col19 {\n",
              "            background-color:  #3b4cc0;\n",
              "            color:  #f1f1f1;\n",
              "        }    #T_a204ac54_03e6_11ea_8000_0242ac1c0002row5_col20 {\n",
              "            background-color:  #dadce0;\n",
              "            color:  #000000;\n",
              "        }    #T_a204ac54_03e6_11ea_8000_0242ac1c0002row5_col21 {\n",
              "            background-color:  #dcdddd;\n",
              "            color:  #000000;\n",
              "        }    #T_a204ac54_03e6_11ea_8000_0242ac1c0002row5_col22 {\n",
              "            background-color:  #dcdddd;\n",
              "            color:  #000000;\n",
              "        }    #T_a204ac54_03e6_11ea_8000_0242ac1c0002row5_col23 {\n",
              "            background-color:  #7a9df8;\n",
              "            color:  #000000;\n",
              "        }    #T_a204ac54_03e6_11ea_8000_0242ac1c0002row6_col0 {\n",
              "            background-color:  #485fd1;\n",
              "            color:  #f1f1f1;\n",
              "        }    #T_a204ac54_03e6_11ea_8000_0242ac1c0002row6_col1 {\n",
              "            background-color:  #e5d8d1;\n",
              "            color:  #000000;\n",
              "        }    #T_a204ac54_03e6_11ea_8000_0242ac1c0002row6_col2 {\n",
              "            background-color:  #8fb1fe;\n",
              "            color:  #000000;\n",
              "        }    #T_a204ac54_03e6_11ea_8000_0242ac1c0002row6_col3 {\n",
              "            background-color:  #82a6fb;\n",
              "            color:  #000000;\n",
              "        }    #T_a204ac54_03e6_11ea_8000_0242ac1c0002row6_col4 {\n",
              "            background-color:  #cfdaea;\n",
              "            color:  #000000;\n",
              "        }    #T_a204ac54_03e6_11ea_8000_0242ac1c0002row6_col5 {\n",
              "            background-color:  #dddcdc;\n",
              "            color:  #000000;\n",
              "        }    #T_a204ac54_03e6_11ea_8000_0242ac1c0002row6_col6 {\n",
              "            background-color:  #b40426;\n",
              "            color:  #f1f1f1;\n",
              "        }    #T_a204ac54_03e6_11ea_8000_0242ac1c0002row6_col7 {\n",
              "            background-color:  #cbd8ee;\n",
              "            color:  #000000;\n",
              "        }    #T_a204ac54_03e6_11ea_8000_0242ac1c0002row6_col8 {\n",
              "            background-color:  #6485ec;\n",
              "            color:  #000000;\n",
              "        }    #T_a204ac54_03e6_11ea_8000_0242ac1c0002row6_col9 {\n",
              "            background-color:  #a6c4fe;\n",
              "            color:  #000000;\n",
              "        }    #T_a204ac54_03e6_11ea_8000_0242ac1c0002row6_col10 {\n",
              "            background-color:  #abc8fd;\n",
              "            color:  #000000;\n",
              "        }    #T_a204ac54_03e6_11ea_8000_0242ac1c0002row6_col11 {\n",
              "            background-color:  #4c66d6;\n",
              "            color:  #000000;\n",
              "        }    #T_a204ac54_03e6_11ea_8000_0242ac1c0002row6_col12 {\n",
              "            background-color:  #bbd1f8;\n",
              "            color:  #000000;\n",
              "        }    #T_a204ac54_03e6_11ea_8000_0242ac1c0002row6_col13 {\n",
              "            background-color:  #a5c3fe;\n",
              "            color:  #000000;\n",
              "        }    #T_a204ac54_03e6_11ea_8000_0242ac1c0002row6_col14 {\n",
              "            background-color:  #dadce0;\n",
              "            color:  #000000;\n",
              "        }    #T_a204ac54_03e6_11ea_8000_0242ac1c0002row6_col15 {\n",
              "            background-color:  #b9d0f9;\n",
              "            color:  #000000;\n",
              "        }    #T_a204ac54_03e6_11ea_8000_0242ac1c0002row6_col16 {\n",
              "            background-color:  #aec9fc;\n",
              "            color:  #000000;\n",
              "        }    #T_a204ac54_03e6_11ea_8000_0242ac1c0002row6_col17 {\n",
              "            background-color:  #a3c2fe;\n",
              "            color:  #000000;\n",
              "        }    #T_a204ac54_03e6_11ea_8000_0242ac1c0002row6_col18 {\n",
              "            background-color:  #92b4fe;\n",
              "            color:  #000000;\n",
              "        }    #T_a204ac54_03e6_11ea_8000_0242ac1c0002row6_col19 {\n",
              "            background-color:  #dcdddd;\n",
              "            color:  #000000;\n",
              "        }    #T_a204ac54_03e6_11ea_8000_0242ac1c0002row6_col20 {\n",
              "            background-color:  #dfdbd9;\n",
              "            color:  #000000;\n",
              "        }    #T_a204ac54_03e6_11ea_8000_0242ac1c0002row6_col21 {\n",
              "            background-color:  #e1dad6;\n",
              "            color:  #000000;\n",
              "        }    #T_a204ac54_03e6_11ea_8000_0242ac1c0002row6_col22 {\n",
              "            background-color:  #d8dce2;\n",
              "            color:  #000000;\n",
              "        }    #T_a204ac54_03e6_11ea_8000_0242ac1c0002row6_col23 {\n",
              "            background-color:  #7699f6;\n",
              "            color:  #000000;\n",
              "        }    #T_a204ac54_03e6_11ea_8000_0242ac1c0002row7_col0 {\n",
              "            background-color:  #465ecf;\n",
              "            color:  #f1f1f1;\n",
              "        }    #T_a204ac54_03e6_11ea_8000_0242ac1c0002row7_col1 {\n",
              "            background-color:  #f2cab5;\n",
              "            color:  #000000;\n",
              "        }    #T_a204ac54_03e6_11ea_8000_0242ac1c0002row7_col2 {\n",
              "            background-color:  #8db0fe;\n",
              "            color:  #000000;\n",
              "        }    #T_a204ac54_03e6_11ea_8000_0242ac1c0002row7_col3 {\n",
              "            background-color:  #6485ec;\n",
              "            color:  #000000;\n",
              "        }    #T_a204ac54_03e6_11ea_8000_0242ac1c0002row7_col4 {\n",
              "            background-color:  #edd1c2;\n",
              "            color:  #000000;\n",
              "        }    #T_a204ac54_03e6_11ea_8000_0242ac1c0002row7_col5 {\n",
              "            background-color:  #dddcdc;\n",
              "            color:  #000000;\n",
              "        }    #T_a204ac54_03e6_11ea_8000_0242ac1c0002row7_col6 {\n",
              "            background-color:  #92b4fe;\n",
              "            color:  #000000;\n",
              "        }    #T_a204ac54_03e6_11ea_8000_0242ac1c0002row7_col7 {\n",
              "            background-color:  #b40426;\n",
              "            color:  #f1f1f1;\n",
              "        }    #T_a204ac54_03e6_11ea_8000_0242ac1c0002row7_col8 {\n",
              "            background-color:  #4f69d9;\n",
              "            color:  #000000;\n",
              "        }    #T_a204ac54_03e6_11ea_8000_0242ac1c0002row7_col9 {\n",
              "            background-color:  #5e7de7;\n",
              "            color:  #000000;\n",
              "        }    #T_a204ac54_03e6_11ea_8000_0242ac1c0002row7_col10 {\n",
              "            background-color:  #d2dbe8;\n",
              "            color:  #000000;\n",
              "        }    #T_a204ac54_03e6_11ea_8000_0242ac1c0002row7_col11 {\n",
              "            background-color:  #4b64d5;\n",
              "            color:  #f1f1f1;\n",
              "        }    #T_a204ac54_03e6_11ea_8000_0242ac1c0002row7_col12 {\n",
              "            background-color:  #bcd2f7;\n",
              "            color:  #000000;\n",
              "        }    #T_a204ac54_03e6_11ea_8000_0242ac1c0002row7_col13 {\n",
              "            background-color:  #b7cff9;\n",
              "            color:  #000000;\n",
              "        }    #T_a204ac54_03e6_11ea_8000_0242ac1c0002row7_col14 {\n",
              "            background-color:  #ebd3c6;\n",
              "            color:  #000000;\n",
              "        }    #T_a204ac54_03e6_11ea_8000_0242ac1c0002row7_col15 {\n",
              "            background-color:  #96b7ff;\n",
              "            color:  #000000;\n",
              "        }    #T_a204ac54_03e6_11ea_8000_0242ac1c0002row7_col16 {\n",
              "            background-color:  #c3d5f4;\n",
              "            color:  #000000;\n",
              "        }    #T_a204ac54_03e6_11ea_8000_0242ac1c0002row7_col17 {\n",
              "            background-color:  #afcafc;\n",
              "            color:  #000000;\n",
              "        }    #T_a204ac54_03e6_11ea_8000_0242ac1c0002row7_col18 {\n",
              "            background-color:  #9fbfff;\n",
              "            color:  #000000;\n",
              "        }    #T_a204ac54_03e6_11ea_8000_0242ac1c0002row7_col19 {\n",
              "            background-color:  #dcdddd;\n",
              "            color:  #000000;\n",
              "        }    #T_a204ac54_03e6_11ea_8000_0242ac1c0002row7_col20 {\n",
              "            background-color:  #d7dce3;\n",
              "            color:  #000000;\n",
              "        }    #T_a204ac54_03e6_11ea_8000_0242ac1c0002row7_col21 {\n",
              "            background-color:  #dadce0;\n",
              "            color:  #000000;\n",
              "        }    #T_a204ac54_03e6_11ea_8000_0242ac1c0002row7_col22 {\n",
              "            background-color:  #dfdbd9;\n",
              "            color:  #000000;\n",
              "        }    #T_a204ac54_03e6_11ea_8000_0242ac1c0002row7_col23 {\n",
              "            background-color:  #799cf8;\n",
              "            color:  #000000;\n",
              "        }    #T_a204ac54_03e6_11ea_8000_0242ac1c0002row8_col0 {\n",
              "            background-color:  #4358cb;\n",
              "            color:  #f1f1f1;\n",
              "        }    #T_a204ac54_03e6_11ea_8000_0242ac1c0002row8_col1 {\n",
              "            background-color:  #d8dce2;\n",
              "            color:  #000000;\n",
              "        }    #T_a204ac54_03e6_11ea_8000_0242ac1c0002row8_col2 {\n",
              "            background-color:  #7396f5;\n",
              "            color:  #000000;\n",
              "        }    #T_a204ac54_03e6_11ea_8000_0242ac1c0002row8_col3 {\n",
              "            background-color:  #7295f4;\n",
              "            color:  #000000;\n",
              "        }    #T_a204ac54_03e6_11ea_8000_0242ac1c0002row8_col4 {\n",
              "            background-color:  #bfd3f6;\n",
              "            color:  #000000;\n",
              "        }    #T_a204ac54_03e6_11ea_8000_0242ac1c0002row8_col5 {\n",
              "            background-color:  #dcdddd;\n",
              "            color:  #000000;\n",
              "        }    #T_a204ac54_03e6_11ea_8000_0242ac1c0002row8_col6 {\n",
              "            background-color:  #7396f5;\n",
              "            color:  #000000;\n",
              "        }    #T_a204ac54_03e6_11ea_8000_0242ac1c0002row8_col7 {\n",
              "            background-color:  #a6c4fe;\n",
              "            color:  #000000;\n",
              "        }    #T_a204ac54_03e6_11ea_8000_0242ac1c0002row8_col8 {\n",
              "            background-color:  #b40426;\n",
              "            color:  #f1f1f1;\n",
              "        }    #T_a204ac54_03e6_11ea_8000_0242ac1c0002row8_col9 {\n",
              "            background-color:  #b2ccfb;\n",
              "            color:  #000000;\n",
              "        }    #T_a204ac54_03e6_11ea_8000_0242ac1c0002row8_col10 {\n",
              "            background-color:  #aac7fd;\n",
              "            color:  #000000;\n",
              "        }    #T_a204ac54_03e6_11ea_8000_0242ac1c0002row8_col11 {\n",
              "            background-color:  #4e68d8;\n",
              "            color:  #000000;\n",
              "        }    #T_a204ac54_03e6_11ea_8000_0242ac1c0002row8_col12 {\n",
              "            background-color:  #b5cdfa;\n",
              "            color:  #000000;\n",
              "        }    #T_a204ac54_03e6_11ea_8000_0242ac1c0002row8_col13 {\n",
              "            background-color:  #a1c0ff;\n",
              "            color:  #000000;\n",
              "        }    #T_a204ac54_03e6_11ea_8000_0242ac1c0002row8_col14 {\n",
              "            background-color:  #cfdaea;\n",
              "            color:  #000000;\n",
              "        }    #T_a204ac54_03e6_11ea_8000_0242ac1c0002row8_col15 {\n",
              "            background-color:  #c4d5f3;\n",
              "            color:  #000000;\n",
              "        }    #T_a204ac54_03e6_11ea_8000_0242ac1c0002row8_col16 {\n",
              "            background-color:  #aac7fd;\n",
              "            color:  #000000;\n",
              "        }    #T_a204ac54_03e6_11ea_8000_0242ac1c0002row8_col17 {\n",
              "            background-color:  #98b9ff;\n",
              "            color:  #000000;\n",
              "        }    #T_a204ac54_03e6_11ea_8000_0242ac1c0002row8_col18 {\n",
              "            background-color:  #8caffe;\n",
              "            color:  #000000;\n",
              "        }    #T_a204ac54_03e6_11ea_8000_0242ac1c0002row8_col19 {\n",
              "            background-color:  #dddcdc;\n",
              "            color:  #000000;\n",
              "        }    #T_a204ac54_03e6_11ea_8000_0242ac1c0002row8_col20 {\n",
              "            background-color:  #dcdddd;\n",
              "            color:  #000000;\n",
              "        }    #T_a204ac54_03e6_11ea_8000_0242ac1c0002row8_col21 {\n",
              "            background-color:  #dedcdb;\n",
              "            color:  #000000;\n",
              "        }    #T_a204ac54_03e6_11ea_8000_0242ac1c0002row8_col22 {\n",
              "            background-color:  #dbdcde;\n",
              "            color:  #000000;\n",
              "        }    #T_a204ac54_03e6_11ea_8000_0242ac1c0002row8_col23 {\n",
              "            background-color:  #779af7;\n",
              "            color:  #000000;\n",
              "        }    #T_a204ac54_03e6_11ea_8000_0242ac1c0002row9_col0 {\n",
              "            background-color:  #3b4cc0;\n",
              "            color:  #f1f1f1;\n",
              "        }    #T_a204ac54_03e6_11ea_8000_0242ac1c0002row9_col1 {\n",
              "            background-color:  #3b4cc0;\n",
              "            color:  #f1f1f1;\n",
              "        }    #T_a204ac54_03e6_11ea_8000_0242ac1c0002row9_col2 {\n",
              "            background-color:  #3b4cc0;\n",
              "            color:  #f1f1f1;\n",
              "        }    #T_a204ac54_03e6_11ea_8000_0242ac1c0002row9_col3 {\n",
              "            background-color:  #3b4cc0;\n",
              "            color:  #f1f1f1;\n",
              "        }    #T_a204ac54_03e6_11ea_8000_0242ac1c0002row9_col4 {\n",
              "            background-color:  #3b4cc0;\n",
              "            color:  #f1f1f1;\n",
              "        }    #T_a204ac54_03e6_11ea_8000_0242ac1c0002row9_col5 {\n",
              "            background-color:  #dddcdc;\n",
              "            color:  #000000;\n",
              "        }    #T_a204ac54_03e6_11ea_8000_0242ac1c0002row9_col6 {\n",
              "            background-color:  #3b4cc0;\n",
              "            color:  #f1f1f1;\n",
              "        }    #T_a204ac54_03e6_11ea_8000_0242ac1c0002row9_col7 {\n",
              "            background-color:  #3b4cc0;\n",
              "            color:  #f1f1f1;\n",
              "        }    #T_a204ac54_03e6_11ea_8000_0242ac1c0002row9_col8 {\n",
              "            background-color:  #3b4cc0;\n",
              "            color:  #f1f1f1;\n",
              "        }    #T_a204ac54_03e6_11ea_8000_0242ac1c0002row9_col9 {\n",
              "            background-color:  #b40426;\n",
              "            color:  #f1f1f1;\n",
              "        }    #T_a204ac54_03e6_11ea_8000_0242ac1c0002row9_col10 {\n",
              "            background-color:  #4055c8;\n",
              "            color:  #f1f1f1;\n",
              "        }    #T_a204ac54_03e6_11ea_8000_0242ac1c0002row9_col11 {\n",
              "            background-color:  #4961d2;\n",
              "            color:  #f1f1f1;\n",
              "        }    #T_a204ac54_03e6_11ea_8000_0242ac1c0002row9_col12 {\n",
              "            background-color:  #81a4fb;\n",
              "            color:  #000000;\n",
              "        }    #T_a204ac54_03e6_11ea_8000_0242ac1c0002row9_col13 {\n",
              "            background-color:  #7b9ff9;\n",
              "            color:  #000000;\n",
              "        }    #T_a204ac54_03e6_11ea_8000_0242ac1c0002row9_col14 {\n",
              "            background-color:  #7b9ff9;\n",
              "            color:  #000000;\n",
              "        }    #T_a204ac54_03e6_11ea_8000_0242ac1c0002row9_col15 {\n",
              "            background-color:  #f6a385;\n",
              "            color:  #000000;\n",
              "        }    #T_a204ac54_03e6_11ea_8000_0242ac1c0002row9_col16 {\n",
              "            background-color:  #7597f6;\n",
              "            color:  #000000;\n",
              "        }    #T_a204ac54_03e6_11ea_8000_0242ac1c0002row9_col17 {\n",
              "            background-color:  #6485ec;\n",
              "            color:  #000000;\n",
              "        }    #T_a204ac54_03e6_11ea_8000_0242ac1c0002row9_col18 {\n",
              "            background-color:  #5e7de7;\n",
              "            color:  #000000;\n",
              "        }    #T_a204ac54_03e6_11ea_8000_0242ac1c0002row9_col19 {\n",
              "            background-color:  #dcdddd;\n",
              "            color:  #000000;\n",
              "        }    #T_a204ac54_03e6_11ea_8000_0242ac1c0002row9_col20 {\n",
              "            background-color:  #e6d7cf;\n",
              "            color:  #000000;\n",
              "        }    #T_a204ac54_03e6_11ea_8000_0242ac1c0002row9_col21 {\n",
              "            background-color:  #e8d6cc;\n",
              "            color:  #000000;\n",
              "        }    #T_a204ac54_03e6_11ea_8000_0242ac1c0002row9_col22 {\n",
              "            background-color:  #d1dae9;\n",
              "            color:  #000000;\n",
              "        }    #T_a204ac54_03e6_11ea_8000_0242ac1c0002row9_col23 {\n",
              "            background-color:  #779af7;\n",
              "            color:  #000000;\n",
              "        }    #T_a204ac54_03e6_11ea_8000_0242ac1c0002row10_col0 {\n",
              "            background-color:  #445acc;\n",
              "            color:  #f1f1f1;\n",
              "        }    #T_a204ac54_03e6_11ea_8000_0242ac1c0002row10_col1 {\n",
              "            background-color:  #d6dce4;\n",
              "            color:  #000000;\n",
              "        }    #T_a204ac54_03e6_11ea_8000_0242ac1c0002row10_col2 {\n",
              "            background-color:  #5d7ce6;\n",
              "            color:  #000000;\n",
              "        }    #T_a204ac54_03e6_11ea_8000_0242ac1c0002row10_col3 {\n",
              "            background-color:  #516ddb;\n",
              "            color:  #000000;\n",
              "        }    #T_a204ac54_03e6_11ea_8000_0242ac1c0002row10_col4 {\n",
              "            background-color:  #cfdaea;\n",
              "            color:  #000000;\n",
              "        }    #T_a204ac54_03e6_11ea_8000_0242ac1c0002row10_col5 {\n",
              "            background-color:  #dcdddd;\n",
              "            color:  #000000;\n",
              "        }    #T_a204ac54_03e6_11ea_8000_0242ac1c0002row10_col6 {\n",
              "            background-color:  #5d7ce6;\n",
              "            color:  #000000;\n",
              "        }    #T_a204ac54_03e6_11ea_8000_0242ac1c0002row10_col7 {\n",
              "            background-color:  #cdd9ec;\n",
              "            color:  #000000;\n",
              "        }    #T_a204ac54_03e6_11ea_8000_0242ac1c0002row10_col8 {\n",
              "            background-color:  #4a63d3;\n",
              "            color:  #f1f1f1;\n",
              "        }    #T_a204ac54_03e6_11ea_8000_0242ac1c0002row10_col9 {\n",
              "            background-color:  #5a78e4;\n",
              "            color:  #000000;\n",
              "        }    #T_a204ac54_03e6_11ea_8000_0242ac1c0002row10_col10 {\n",
              "            background-color:  #b40426;\n",
              "            color:  #f1f1f1;\n",
              "        }    #T_a204ac54_03e6_11ea_8000_0242ac1c0002row10_col11 {\n",
              "            background-color:  #3c4ec2;\n",
              "            color:  #f1f1f1;\n",
              "        }    #T_a204ac54_03e6_11ea_8000_0242ac1c0002row10_col12 {\n",
              "            background-color:  #3b4cc0;\n",
              "            color:  #f1f1f1;\n",
              "        }    #T_a204ac54_03e6_11ea_8000_0242ac1c0002row10_col13 {\n",
              "            background-color:  #3b4cc0;\n",
              "            color:  #f1f1f1;\n",
              "        }    #T_a204ac54_03e6_11ea_8000_0242ac1c0002row10_col14 {\n",
              "            background-color:  #e1dad6;\n",
              "            color:  #000000;\n",
              "        }    #T_a204ac54_03e6_11ea_8000_0242ac1c0002row10_col15 {\n",
              "            background-color:  #9dbdff;\n",
              "            color:  #000000;\n",
              "        }    #T_a204ac54_03e6_11ea_8000_0242ac1c0002row10_col16 {\n",
              "            background-color:  #c6d6f1;\n",
              "            color:  #000000;\n",
              "        }    #T_a204ac54_03e6_11ea_8000_0242ac1c0002row10_col17 {\n",
              "            background-color:  #9abbff;\n",
              "            color:  #000000;\n",
              "        }    #T_a204ac54_03e6_11ea_8000_0242ac1c0002row10_col18 {\n",
              "            background-color:  #a5c3fe;\n",
              "            color:  #000000;\n",
              "        }    #T_a204ac54_03e6_11ea_8000_0242ac1c0002row10_col19 {\n",
              "            background-color:  #dddcdc;\n",
              "            color:  #000000;\n",
              "        }    #T_a204ac54_03e6_11ea_8000_0242ac1c0002row10_col20 {\n",
              "            background-color:  #d4dbe6;\n",
              "            color:  #000000;\n",
              "        }    #T_a204ac54_03e6_11ea_8000_0242ac1c0002row10_col21 {\n",
              "            background-color:  #d6dce4;\n",
              "            color:  #000000;\n",
              "        }    #T_a204ac54_03e6_11ea_8000_0242ac1c0002row10_col22 {\n",
              "            background-color:  #e3d9d3;\n",
              "            color:  #000000;\n",
              "        }    #T_a204ac54_03e6_11ea_8000_0242ac1c0002row10_col23 {\n",
              "            background-color:  #7a9df8;\n",
              "            color:  #000000;\n",
              "        }    #T_a204ac54_03e6_11ea_8000_0242ac1c0002row11_col0 {\n",
              "            background-color:  #4257c9;\n",
              "            color:  #f1f1f1;\n",
              "        }    #T_a204ac54_03e6_11ea_8000_0242ac1c0002row11_col1 {\n",
              "            background-color:  #afcafc;\n",
              "            color:  #000000;\n",
              "        }    #T_a204ac54_03e6_11ea_8000_0242ac1c0002row11_col2 {\n",
              "            background-color:  #5977e3;\n",
              "            color:  #000000;\n",
              "        }    #T_a204ac54_03e6_11ea_8000_0242ac1c0002row11_col3 {\n",
              "            background-color:  #4f69d9;\n",
              "            color:  #000000;\n",
              "        }    #T_a204ac54_03e6_11ea_8000_0242ac1c0002row11_col4 {\n",
              "            background-color:  #9fbfff;\n",
              "            color:  #000000;\n",
              "        }    #T_a204ac54_03e6_11ea_8000_0242ac1c0002row11_col5 {\n",
              "            background-color:  #dcdddd;\n",
              "            color:  #000000;\n",
              "        }    #T_a204ac54_03e6_11ea_8000_0242ac1c0002row11_col6 {\n",
              "            background-color:  #5572df;\n",
              "            color:  #000000;\n",
              "        }    #T_a204ac54_03e6_11ea_8000_0242ac1c0002row11_col7 {\n",
              "            background-color:  #9ebeff;\n",
              "            color:  #000000;\n",
              "        }    #T_a204ac54_03e6_11ea_8000_0242ac1c0002row11_col8 {\n",
              "            background-color:  #465ecf;\n",
              "            color:  #f1f1f1;\n",
              "        }    #T_a204ac54_03e6_11ea_8000_0242ac1c0002row11_col9 {\n",
              "            background-color:  #b7cff9;\n",
              "            color:  #000000;\n",
              "        }    #T_a204ac54_03e6_11ea_8000_0242ac1c0002row11_col10 {\n",
              "            background-color:  #98b9ff;\n",
              "            color:  #000000;\n",
              "        }    #T_a204ac54_03e6_11ea_8000_0242ac1c0002row11_col11 {\n",
              "            background-color:  #b40426;\n",
              "            color:  #f1f1f1;\n",
              "        }    #T_a204ac54_03e6_11ea_8000_0242ac1c0002row11_col12 {\n",
              "            background-color:  #a3c2fe;\n",
              "            color:  #000000;\n",
              "        }    #T_a204ac54_03e6_11ea_8000_0242ac1c0002row11_col13 {\n",
              "            background-color:  #9bbcff;\n",
              "            color:  #000000;\n",
              "        }    #T_a204ac54_03e6_11ea_8000_0242ac1c0002row11_col14 {\n",
              "            background-color:  #c5d6f2;\n",
              "            color:  #000000;\n",
              "        }    #T_a204ac54_03e6_11ea_8000_0242ac1c0002row11_col15 {\n",
              "            background-color:  #ccd9ed;\n",
              "            color:  #000000;\n",
              "        }    #T_a204ac54_03e6_11ea_8000_0242ac1c0002row11_col16 {\n",
              "            background-color:  #aec9fc;\n",
              "            color:  #000000;\n",
              "        }    #T_a204ac54_03e6_11ea_8000_0242ac1c0002row11_col17 {\n",
              "            background-color:  #8badfd;\n",
              "            color:  #000000;\n",
              "        }    #T_a204ac54_03e6_11ea_8000_0242ac1c0002row11_col18 {\n",
              "            background-color:  #85a8fc;\n",
              "            color:  #000000;\n",
              "        }    #T_a204ac54_03e6_11ea_8000_0242ac1c0002row11_col19 {\n",
              "            background-color:  #dddcdc;\n",
              "            color:  #000000;\n",
              "        }    #T_a204ac54_03e6_11ea_8000_0242ac1c0002row11_col20 {\n",
              "            background-color:  #dbdcde;\n",
              "            color:  #000000;\n",
              "        }    #T_a204ac54_03e6_11ea_8000_0242ac1c0002row11_col21 {\n",
              "            background-color:  #dddcdc;\n",
              "            color:  #000000;\n",
              "        }    #T_a204ac54_03e6_11ea_8000_0242ac1c0002row11_col22 {\n",
              "            background-color:  #dcdddd;\n",
              "            color:  #000000;\n",
              "        }    #T_a204ac54_03e6_11ea_8000_0242ac1c0002row11_col23 {\n",
              "            background-color:  #799cf8;\n",
              "            color:  #000000;\n",
              "        }    #T_a204ac54_03e6_11ea_8000_0242ac1c0002row12_col0 {\n",
              "            background-color:  #445acc;\n",
              "            color:  #f1f1f1;\n",
              "        }    #T_a204ac54_03e6_11ea_8000_0242ac1c0002row12_col1 {\n",
              "            background-color:  #f0cdbb;\n",
              "            color:  #000000;\n",
              "        }    #T_a204ac54_03e6_11ea_8000_0242ac1c0002row12_col2 {\n",
              "            background-color:  #7ea1fa;\n",
              "            color:  #000000;\n",
              "        }    #T_a204ac54_03e6_11ea_8000_0242ac1c0002row12_col3 {\n",
              "            background-color:  #7396f5;\n",
              "            color:  #000000;\n",
              "        }    #T_a204ac54_03e6_11ea_8000_0242ac1c0002row12_col4 {\n",
              "            background-color:  #d7dce3;\n",
              "            color:  #000000;\n",
              "        }    #T_a204ac54_03e6_11ea_8000_0242ac1c0002row12_col5 {\n",
              "            background-color:  #dddcdc;\n",
              "            color:  #000000;\n",
              "        }    #T_a204ac54_03e6_11ea_8000_0242ac1c0002row12_col6 {\n",
              "            background-color:  #7295f4;\n",
              "            color:  #000000;\n",
              "        }    #T_a204ac54_03e6_11ea_8000_0242ac1c0002row12_col7 {\n",
              "            background-color:  #b6cefa;\n",
              "            color:  #000000;\n",
              "        }    #T_a204ac54_03e6_11ea_8000_0242ac1c0002row12_col8 {\n",
              "            background-color:  #5875e1;\n",
              "            color:  #000000;\n",
              "        }    #T_a204ac54_03e6_11ea_8000_0242ac1c0002row12_col9 {\n",
              "            background-color:  #98b9ff;\n",
              "            color:  #000000;\n",
              "        }    #T_a204ac54_03e6_11ea_8000_0242ac1c0002row12_col10 {\n",
              "            background-color:  #3b4cc0;\n",
              "            color:  #f1f1f1;\n",
              "        }    #T_a204ac54_03e6_11ea_8000_0242ac1c0002row12_col11 {\n",
              "            background-color:  #4961d2;\n",
              "            color:  #f1f1f1;\n",
              "        }    #T_a204ac54_03e6_11ea_8000_0242ac1c0002row12_col12 {\n",
              "            background-color:  #b40426;\n",
              "            color:  #f1f1f1;\n",
              "        }    #T_a204ac54_03e6_11ea_8000_0242ac1c0002row12_col13 {\n",
              "            background-color:  #799cf8;\n",
              "            color:  #000000;\n",
              "        }    #T_a204ac54_03e6_11ea_8000_0242ac1c0002row12_col14 {\n",
              "            background-color:  #dadce0;\n",
              "            color:  #000000;\n",
              "        }    #T_a204ac54_03e6_11ea_8000_0242ac1c0002row12_col15 {\n",
              "            background-color:  #b7cff9;\n",
              "            color:  #000000;\n",
              "        }    #T_a204ac54_03e6_11ea_8000_0242ac1c0002row12_col16 {\n",
              "            background-color:  #afcafc;\n",
              "            color:  #000000;\n",
              "        }    #T_a204ac54_03e6_11ea_8000_0242ac1c0002row12_col17 {\n",
              "            background-color:  #a6c4fe;\n",
              "            color:  #000000;\n",
              "        }    #T_a204ac54_03e6_11ea_8000_0242ac1c0002row12_col18 {\n",
              "            background-color:  #8db0fe;\n",
              "            color:  #000000;\n",
              "        }    #T_a204ac54_03e6_11ea_8000_0242ac1c0002row12_col19 {\n",
              "            background-color:  #dcdddd;\n",
              "            color:  #000000;\n",
              "        }    #T_a204ac54_03e6_11ea_8000_0242ac1c0002row12_col20 {\n",
              "            background-color:  #dadce0;\n",
              "            color:  #000000;\n",
              "        }    #T_a204ac54_03e6_11ea_8000_0242ac1c0002row12_col21 {\n",
              "            background-color:  #dcdddd;\n",
              "            color:  #000000;\n",
              "        }    #T_a204ac54_03e6_11ea_8000_0242ac1c0002row12_col22 {\n",
              "            background-color:  #dddcdc;\n",
              "            color:  #000000;\n",
              "        }    #T_a204ac54_03e6_11ea_8000_0242ac1c0002row12_col23 {\n",
              "            background-color:  #7699f6;\n",
              "            color:  #000000;\n",
              "        }    #T_a204ac54_03e6_11ea_8000_0242ac1c0002row13_col0 {\n",
              "            background-color:  #4055c8;\n",
              "            color:  #f1f1f1;\n",
              "        }    #T_a204ac54_03e6_11ea_8000_0242ac1c0002row13_col1 {\n",
              "            background-color:  #d3dbe7;\n",
              "            color:  #000000;\n",
              "        }    #T_a204ac54_03e6_11ea_8000_0242ac1c0002row13_col2 {\n",
              "            background-color:  #6485ec;\n",
              "            color:  #000000;\n",
              "        }    #T_a204ac54_03e6_11ea_8000_0242ac1c0002row13_col3 {\n",
              "            background-color:  #516ddb;\n",
              "            color:  #000000;\n",
              "        }    #T_a204ac54_03e6_11ea_8000_0242ac1c0002row13_col4 {\n",
              "            background-color:  #cdd9ec;\n",
              "            color:  #000000;\n",
              "        }    #T_a204ac54_03e6_11ea_8000_0242ac1c0002row13_col5 {\n",
              "            background-color:  #dcdddd;\n",
              "            color:  #000000;\n",
              "        }    #T_a204ac54_03e6_11ea_8000_0242ac1c0002row13_col6 {\n",
              "            background-color:  #5e7de7;\n",
              "            color:  #000000;\n",
              "        }    #T_a204ac54_03e6_11ea_8000_0242ac1c0002row13_col7 {\n",
              "            background-color:  #b9d0f9;\n",
              "            color:  #000000;\n",
              "        }    #T_a204ac54_03e6_11ea_8000_0242ac1c0002row13_col8 {\n",
              "            background-color:  #4961d2;\n",
              "            color:  #f1f1f1;\n",
              "        }    #T_a204ac54_03e6_11ea_8000_0242ac1c0002row13_col9 {\n",
              "            background-color:  #9dbdff;\n",
              "            color:  #000000;\n",
              "        }    #T_a204ac54_03e6_11ea_8000_0242ac1c0002row13_col10 {\n",
              "            background-color:  #455cce;\n",
              "            color:  #f1f1f1;\n",
              "        }    #T_a204ac54_03e6_11ea_8000_0242ac1c0002row13_col11 {\n",
              "            background-color:  #4961d2;\n",
              "            color:  #f1f1f1;\n",
              "        }    #T_a204ac54_03e6_11ea_8000_0242ac1c0002row13_col12 {\n",
              "            background-color:  #84a7fc;\n",
              "            color:  #000000;\n",
              "        }    #T_a204ac54_03e6_11ea_8000_0242ac1c0002row13_col13 {\n",
              "            background-color:  #b40426;\n",
              "            color:  #f1f1f1;\n",
              "        }    #T_a204ac54_03e6_11ea_8000_0242ac1c0002row13_col14 {\n",
              "            background-color:  #d5dbe5;\n",
              "            color:  #000000;\n",
              "        }    #T_a204ac54_03e6_11ea_8000_0242ac1c0002row13_col15 {\n",
              "            background-color:  #b9d0f9;\n",
              "            color:  #000000;\n",
              "        }    #T_a204ac54_03e6_11ea_8000_0242ac1c0002row13_col16 {\n",
              "            background-color:  #b3cdfb;\n",
              "            color:  #000000;\n",
              "        }    #T_a204ac54_03e6_11ea_8000_0242ac1c0002row13_col17 {\n",
              "            background-color:  #98b9ff;\n",
              "            color:  #000000;\n",
              "        }    #T_a204ac54_03e6_11ea_8000_0242ac1c0002row13_col18 {\n",
              "            background-color:  #93b5fe;\n",
              "            color:  #000000;\n",
              "        }    #T_a204ac54_03e6_11ea_8000_0242ac1c0002row13_col19 {\n",
              "            background-color:  #dddcdc;\n",
              "            color:  #000000;\n",
              "        }    #T_a204ac54_03e6_11ea_8000_0242ac1c0002row13_col20 {\n",
              "            background-color:  #d8dce2;\n",
              "            color:  #000000;\n",
              "        }    #T_a204ac54_03e6_11ea_8000_0242ac1c0002row13_col21 {\n",
              "            background-color:  #dadce0;\n",
              "            color:  #000000;\n",
              "        }    #T_a204ac54_03e6_11ea_8000_0242ac1c0002row13_col22 {\n",
              "            background-color:  #dedcdb;\n",
              "            color:  #000000;\n",
              "        }    #T_a204ac54_03e6_11ea_8000_0242ac1c0002row13_col23 {\n",
              "            background-color:  #7a9df8;\n",
              "            color:  #000000;\n",
              "        }    #T_a204ac54_03e6_11ea_8000_0242ac1c0002row14_col0 {\n",
              "            background-color:  #455cce;\n",
              "            color:  #f1f1f1;\n",
              "        }    #T_a204ac54_03e6_11ea_8000_0242ac1c0002row14_col1 {\n",
              "            background-color:  #f3c7b1;\n",
              "            color:  #000000;\n",
              "        }    #T_a204ac54_03e6_11ea_8000_0242ac1c0002row14_col2 {\n",
              "            background-color:  #81a4fb;\n",
              "            color:  #000000;\n",
              "        }    #T_a204ac54_03e6_11ea_8000_0242ac1c0002row14_col3 {\n",
              "            background-color:  #7093f3;\n",
              "            color:  #000000;\n",
              "        }    #T_a204ac54_03e6_11ea_8000_0242ac1c0002row14_col4 {\n",
              "            background-color:  #e8d6cc;\n",
              "            color:  #000000;\n",
              "        }    #T_a204ac54_03e6_11ea_8000_0242ac1c0002row14_col5 {\n",
              "            background-color:  #dcdddd;\n",
              "            color:  #000000;\n",
              "        }    #T_a204ac54_03e6_11ea_8000_0242ac1c0002row14_col6 {\n",
              "            background-color:  #799cf8;\n",
              "            color:  #000000;\n",
              "        }    #T_a204ac54_03e6_11ea_8000_0242ac1c0002row14_col7 {\n",
              "            background-color:  #d5dbe5;\n",
              "            color:  #000000;\n",
              "        }    #T_a204ac54_03e6_11ea_8000_0242ac1c0002row14_col8 {\n",
              "            background-color:  #5572df;\n",
              "            color:  #000000;\n",
              "        }    #T_a204ac54_03e6_11ea_8000_0242ac1c0002row14_col9 {\n",
              "            background-color:  #688aef;\n",
              "            color:  #000000;\n",
              "        }    #T_a204ac54_03e6_11ea_8000_0242ac1c0002row14_col10 {\n",
              "            background-color:  #cbd8ee;\n",
              "            color:  #000000;\n",
              "        }    #T_a204ac54_03e6_11ea_8000_0242ac1c0002row14_col11 {\n",
              "            background-color:  #4961d2;\n",
              "            color:  #f1f1f1;\n",
              "        }    #T_a204ac54_03e6_11ea_8000_0242ac1c0002row14_col12 {\n",
              "            background-color:  #c1d4f4;\n",
              "            color:  #000000;\n",
              "        }    #T_a204ac54_03e6_11ea_8000_0242ac1c0002row14_col13 {\n",
              "            background-color:  #b2ccfb;\n",
              "            color:  #000000;\n",
              "        }    #T_a204ac54_03e6_11ea_8000_0242ac1c0002row14_col14 {\n",
              "            background-color:  #b40426;\n",
              "            color:  #f1f1f1;\n",
              "        }    #T_a204ac54_03e6_11ea_8000_0242ac1c0002row14_col15 {\n",
              "            background-color:  #3b4cc0;\n",
              "            color:  #f1f1f1;\n",
              "        }    #T_a204ac54_03e6_11ea_8000_0242ac1c0002row14_col16 {\n",
              "            background-color:  #9ebeff;\n",
              "            color:  #000000;\n",
              "        }    #T_a204ac54_03e6_11ea_8000_0242ac1c0002row14_col17 {\n",
              "            background-color:  #dc5d4a;\n",
              "            color:  #000000;\n",
              "        }    #T_a204ac54_03e6_11ea_8000_0242ac1c0002row14_col18 {\n",
              "            background-color:  #b5cdfa;\n",
              "            color:  #000000;\n",
              "        }    #T_a204ac54_03e6_11ea_8000_0242ac1c0002row14_col19 {\n",
              "            background-color:  #dddcdc;\n",
              "            color:  #000000;\n",
              "        }    #T_a204ac54_03e6_11ea_8000_0242ac1c0002row14_col20 {\n",
              "            background-color:  #dadce0;\n",
              "            color:  #000000;\n",
              "        }    #T_a204ac54_03e6_11ea_8000_0242ac1c0002row14_col21 {\n",
              "            background-color:  #dddcdc;\n",
              "            color:  #000000;\n",
              "        }    #T_a204ac54_03e6_11ea_8000_0242ac1c0002row14_col22 {\n",
              "            background-color:  #dcdddd;\n",
              "            color:  #000000;\n",
              "        }    #T_a204ac54_03e6_11ea_8000_0242ac1c0002row14_col23 {\n",
              "            background-color:  #7da0f9;\n",
              "            color:  #000000;\n",
              "        }    #T_a204ac54_03e6_11ea_8000_0242ac1c0002row15_col0 {\n",
              "            background-color:  #3c4ec2;\n",
              "            color:  #f1f1f1;\n",
              "        }    #T_a204ac54_03e6_11ea_8000_0242ac1c0002row15_col1 {\n",
              "            background-color:  #6e90f2;\n",
              "            color:  #000000;\n",
              "        }    #T_a204ac54_03e6_11ea_8000_0242ac1c0002row15_col2 {\n",
              "            background-color:  #3d50c3;\n",
              "            color:  #f1f1f1;\n",
              "        }    #T_a204ac54_03e6_11ea_8000_0242ac1c0002row15_col3 {\n",
              "            background-color:  #4358cb;\n",
              "            color:  #f1f1f1;\n",
              "        }    #T_a204ac54_03e6_11ea_8000_0242ac1c0002row15_col4 {\n",
              "            background-color:  #6788ee;\n",
              "            color:  #000000;\n",
              "        }    #T_a204ac54_03e6_11ea_8000_0242ac1c0002row15_col5 {\n",
              "            background-color:  #dddcdc;\n",
              "            color:  #000000;\n",
              "        }    #T_a204ac54_03e6_11ea_8000_0242ac1c0002row15_col6 {\n",
              "            background-color:  #3e51c5;\n",
              "            color:  #f1f1f1;\n",
              "        }    #T_a204ac54_03e6_11ea_8000_0242ac1c0002row15_col7 {\n",
              "            background-color:  #6180e9;\n",
              "            color:  #000000;\n",
              "        }    #T_a204ac54_03e6_11ea_8000_0242ac1c0002row15_col8 {\n",
              "            background-color:  #4055c8;\n",
              "            color:  #f1f1f1;\n",
              "        }    #T_a204ac54_03e6_11ea_8000_0242ac1c0002row15_col9 {\n",
              "            background-color:  #f7aa8c;\n",
              "            color:  #000000;\n",
              "        }    #T_a204ac54_03e6_11ea_8000_0242ac1c0002row15_col10 {\n",
              "            background-color:  #7396f5;\n",
              "            color:  #000000;\n",
              "        }    #T_a204ac54_03e6_11ea_8000_0242ac1c0002row15_col11 {\n",
              "            background-color:  #5572df;\n",
              "            color:  #000000;\n",
              "        }    #T_a204ac54_03e6_11ea_8000_0242ac1c0002row15_col12 {\n",
              "            background-color:  #93b5fe;\n",
              "            color:  #000000;\n",
              "        }    #T_a204ac54_03e6_11ea_8000_0242ac1c0002row15_col13 {\n",
              "            background-color:  #8badfd;\n",
              "            color:  #000000;\n",
              "        }    #T_a204ac54_03e6_11ea_8000_0242ac1c0002row15_col14 {\n",
              "            background-color:  #3b4cc0;\n",
              "            color:  #f1f1f1;\n",
              "        }    #T_a204ac54_03e6_11ea_8000_0242ac1c0002row15_col15 {\n",
              "            background-color:  #b40426;\n",
              "            color:  #f1f1f1;\n",
              "        }    #T_a204ac54_03e6_11ea_8000_0242ac1c0002row15_col16 {\n",
              "            background-color:  #3b4cc0;\n",
              "            color:  #f1f1f1;\n",
              "        }    #T_a204ac54_03e6_11ea_8000_0242ac1c0002row15_col17 {\n",
              "            background-color:  #445acc;\n",
              "            color:  #f1f1f1;\n",
              "        }    #T_a204ac54_03e6_11ea_8000_0242ac1c0002row15_col18 {\n",
              "            background-color:  #445acc;\n",
              "            color:  #f1f1f1;\n",
              "        }    #T_a204ac54_03e6_11ea_8000_0242ac1c0002row15_col19 {\n",
              "            background-color:  #dcdddd;\n",
              "            color:  #000000;\n",
              "        }    #T_a204ac54_03e6_11ea_8000_0242ac1c0002row15_col20 {\n",
              "            background-color:  #e2dad5;\n",
              "            color:  #000000;\n",
              "        }    #T_a204ac54_03e6_11ea_8000_0242ac1c0002row15_col21 {\n",
              "            background-color:  #e4d9d2;\n",
              "            color:  #000000;\n",
              "        }    #T_a204ac54_03e6_11ea_8000_0242ac1c0002row15_col22 {\n",
              "            background-color:  #d5dbe5;\n",
              "            color:  #000000;\n",
              "        }    #T_a204ac54_03e6_11ea_8000_0242ac1c0002row15_col23 {\n",
              "            background-color:  #779af7;\n",
              "            color:  #000000;\n",
              "        }    #T_a204ac54_03e6_11ea_8000_0242ac1c0002row16_col0 {\n",
              "            background-color:  #4358cb;\n",
              "            color:  #f1f1f1;\n",
              "        }    #T_a204ac54_03e6_11ea_8000_0242ac1c0002row16_col1 {\n",
              "            background-color:  #d1dae9;\n",
              "            color:  #000000;\n",
              "        }    #T_a204ac54_03e6_11ea_8000_0242ac1c0002row16_col2 {\n",
              "            background-color:  #688aef;\n",
              "            color:  #000000;\n",
              "        }    #T_a204ac54_03e6_11ea_8000_0242ac1c0002row16_col3 {\n",
              "            background-color:  #4961d2;\n",
              "            color:  #f1f1f1;\n",
              "        }    #T_a204ac54_03e6_11ea_8000_0242ac1c0002row16_col4 {\n",
              "            background-color:  #c4d5f3;\n",
              "            color:  #000000;\n",
              "        }    #T_a204ac54_03e6_11ea_8000_0242ac1c0002row16_col5 {\n",
              "            background-color:  #dcdddd;\n",
              "            color:  #000000;\n",
              "        }    #T_a204ac54_03e6_11ea_8000_0242ac1c0002row16_col6 {\n",
              "            background-color:  #5d7ce6;\n",
              "            color:  #000000;\n",
              "        }    #T_a204ac54_03e6_11ea_8000_0242ac1c0002row16_col7 {\n",
              "            background-color:  #bbd1f8;\n",
              "            color:  #000000;\n",
              "        }    #T_a204ac54_03e6_11ea_8000_0242ac1c0002row16_col8 {\n",
              "            background-color:  #4961d2;\n",
              "            color:  #f1f1f1;\n",
              "        }    #T_a204ac54_03e6_11ea_8000_0242ac1c0002row16_col9 {\n",
              "            background-color:  #8badfd;\n",
              "            color:  #000000;\n",
              "        }    #T_a204ac54_03e6_11ea_8000_0242ac1c0002row16_col10 {\n",
              "            background-color:  #c5d6f2;\n",
              "            color:  #000000;\n",
              "        }    #T_a204ac54_03e6_11ea_8000_0242ac1c0002row16_col11 {\n",
              "            background-color:  #5470de;\n",
              "            color:  #000000;\n",
              "        }    #T_a204ac54_03e6_11ea_8000_0242ac1c0002row16_col12 {\n",
              "            background-color:  #aec9fc;\n",
              "            color:  #000000;\n",
              "        }    #T_a204ac54_03e6_11ea_8000_0242ac1c0002row16_col13 {\n",
              "            background-color:  #aac7fd;\n",
              "            color:  #000000;\n",
              "        }    #T_a204ac54_03e6_11ea_8000_0242ac1c0002row16_col14 {\n",
              "            background-color:  #bfd3f6;\n",
              "            color:  #000000;\n",
              "        }    #T_a204ac54_03e6_11ea_8000_0242ac1c0002row16_col15 {\n",
              "            background-color:  #6687ed;\n",
              "            color:  #000000;\n",
              "        }    #T_a204ac54_03e6_11ea_8000_0242ac1c0002row16_col16 {\n",
              "            background-color:  #b40426;\n",
              "            color:  #f1f1f1;\n",
              "        }    #T_a204ac54_03e6_11ea_8000_0242ac1c0002row16_col17 {\n",
              "            background-color:  #3b4cc0;\n",
              "            color:  #f1f1f1;\n",
              "        }    #T_a204ac54_03e6_11ea_8000_0242ac1c0002row16_col18 {\n",
              "            background-color:  #3b4cc0;\n",
              "            color:  #f1f1f1;\n",
              "        }    #T_a204ac54_03e6_11ea_8000_0242ac1c0002row16_col19 {\n",
              "            background-color:  #dddcdc;\n",
              "            color:  #000000;\n",
              "        }    #T_a204ac54_03e6_11ea_8000_0242ac1c0002row16_col20 {\n",
              "            background-color:  #ccd9ed;\n",
              "            color:  #000000;\n",
              "        }    #T_a204ac54_03e6_11ea_8000_0242ac1c0002row16_col21 {\n",
              "            background-color:  #cedaeb;\n",
              "            color:  #000000;\n",
              "        }    #T_a204ac54_03e6_11ea_8000_0242ac1c0002row16_col22 {\n",
              "            background-color:  #ead5c9;\n",
              "            color:  #000000;\n",
              "        }    #T_a204ac54_03e6_11ea_8000_0242ac1c0002row16_col23 {\n",
              "            background-color:  #779af7;\n",
              "            color:  #000000;\n",
              "        }    #T_a204ac54_03e6_11ea_8000_0242ac1c0002row17_col0 {\n",
              "            background-color:  #445acc;\n",
              "            color:  #f1f1f1;\n",
              "        }    #T_a204ac54_03e6_11ea_8000_0242ac1c0002row17_col1 {\n",
              "            background-color:  #e6d7cf;\n",
              "            color:  #000000;\n",
              "        }    #T_a204ac54_03e6_11ea_8000_0242ac1c0002row17_col2 {\n",
              "            background-color:  #7597f6;\n",
              "            color:  #000000;\n",
              "        }    #T_a204ac54_03e6_11ea_8000_0242ac1c0002row17_col3 {\n",
              "            background-color:  #6c8ff1;\n",
              "            color:  #000000;\n",
              "        }    #T_a204ac54_03e6_11ea_8000_0242ac1c0002row17_col4 {\n",
              "            background-color:  #d3dbe7;\n",
              "            color:  #000000;\n",
              "        }    #T_a204ac54_03e6_11ea_8000_0242ac1c0002row17_col5 {\n",
              "            background-color:  #dddcdc;\n",
              "            color:  #000000;\n",
              "        }    #T_a204ac54_03e6_11ea_8000_0242ac1c0002row17_col6 {\n",
              "            background-color:  #6f92f3;\n",
              "            color:  #000000;\n",
              "        }    #T_a204ac54_03e6_11ea_8000_0242ac1c0002row17_col7 {\n",
              "            background-color:  #bed2f6;\n",
              "            color:  #000000;\n",
              "        }    #T_a204ac54_03e6_11ea_8000_0242ac1c0002row17_col8 {\n",
              "            background-color:  #5470de;\n",
              "            color:  #000000;\n",
              "        }    #T_a204ac54_03e6_11ea_8000_0242ac1c0002row17_col9 {\n",
              "            background-color:  #9abbff;\n",
              "            color:  #000000;\n",
              "        }    #T_a204ac54_03e6_11ea_8000_0242ac1c0002row17_col10 {\n",
              "            background-color:  #b2ccfb;\n",
              "            color:  #000000;\n",
              "        }    #T_a204ac54_03e6_11ea_8000_0242ac1c0002row17_col11 {\n",
              "            background-color:  #4b64d5;\n",
              "            color:  #f1f1f1;\n",
              "        }    #T_a204ac54_03e6_11ea_8000_0242ac1c0002row17_col12 {\n",
              "            background-color:  #bcd2f7;\n",
              "            color:  #000000;\n",
              "        }    #T_a204ac54_03e6_11ea_8000_0242ac1c0002row17_col13 {\n",
              "            background-color:  #a9c6fd;\n",
              "            color:  #000000;\n",
              "        }    #T_a204ac54_03e6_11ea_8000_0242ac1c0002row17_col14 {\n",
              "            background-color:  #d44e41;\n",
              "            color:  #000000;\n",
              "        }    #T_a204ac54_03e6_11ea_8000_0242ac1c0002row17_col15 {\n",
              "            background-color:  #8fb1fe;\n",
              "            color:  #000000;\n",
              "        }    #T_a204ac54_03e6_11ea_8000_0242ac1c0002row17_col16 {\n",
              "            background-color:  #5a78e4;\n",
              "            color:  #000000;\n",
              "        }    #T_a204ac54_03e6_11ea_8000_0242ac1c0002row17_col17 {\n",
              "            background-color:  #b40426;\n",
              "            color:  #f1f1f1;\n",
              "        }    #T_a204ac54_03e6_11ea_8000_0242ac1c0002row17_col18 {\n",
              "            background-color:  #5977e3;\n",
              "            color:  #000000;\n",
              "        }    #T_a204ac54_03e6_11ea_8000_0242ac1c0002row17_col19 {\n",
              "            background-color:  #dcdddd;\n",
              "            color:  #000000;\n",
              "        }    #T_a204ac54_03e6_11ea_8000_0242ac1c0002row17_col20 {\n",
              "            background-color:  #dfdbd9;\n",
              "            color:  #000000;\n",
              "        }    #T_a204ac54_03e6_11ea_8000_0242ac1c0002row17_col21 {\n",
              "            background-color:  #e1dad6;\n",
              "            color:  #000000;\n",
              "        }    #T_a204ac54_03e6_11ea_8000_0242ac1c0002row17_col22 {\n",
              "            background-color:  #d8dce2;\n",
              "            color:  #000000;\n",
              "        }    #T_a204ac54_03e6_11ea_8000_0242ac1c0002row17_col23 {\n",
              "            background-color:  #7da0f9;\n",
              "            color:  #000000;\n",
              "        }    #T_a204ac54_03e6_11ea_8000_0242ac1c0002row18_col0 {\n",
              "            background-color:  #4257c9;\n",
              "            color:  #f1f1f1;\n",
              "        }    #T_a204ac54_03e6_11ea_8000_0242ac1c0002row18_col1 {\n",
              "            background-color:  #ccd9ed;\n",
              "            color:  #000000;\n",
              "        }    #T_a204ac54_03e6_11ea_8000_0242ac1c0002row18_col2 {\n",
              "            background-color:  #6687ed;\n",
              "            color:  #000000;\n",
              "        }    #T_a204ac54_03e6_11ea_8000_0242ac1c0002row18_col3 {\n",
              "            background-color:  #5e7de7;\n",
              "            color:  #000000;\n",
              "        }    #T_a204ac54_03e6_11ea_8000_0242ac1c0002row18_col4 {\n",
              "            background-color:  #c6d6f1;\n",
              "            color:  #000000;\n",
              "        }    #T_a204ac54_03e6_11ea_8000_0242ac1c0002row18_col5 {\n",
              "            background-color:  #dbdcde;\n",
              "            color:  #000000;\n",
              "        }    #T_a204ac54_03e6_11ea_8000_0242ac1c0002row18_col6 {\n",
              "            background-color:  #6180e9;\n",
              "            color:  #000000;\n",
              "        }    #T_a204ac54_03e6_11ea_8000_0242ac1c0002row18_col7 {\n",
              "            background-color:  #b3cdfb;\n",
              "            color:  #000000;\n",
              "        }    #T_a204ac54_03e6_11ea_8000_0242ac1c0002row18_col8 {\n",
              "            background-color:  #4b64d5;\n",
              "            color:  #f1f1f1;\n",
              "        }    #T_a204ac54_03e6_11ea_8000_0242ac1c0002row18_col9 {\n",
              "            background-color:  #9abbff;\n",
              "            color:  #000000;\n",
              "        }    #T_a204ac54_03e6_11ea_8000_0242ac1c0002row18_col10 {\n",
              "            background-color:  #bfd3f6;\n",
              "            color:  #000000;\n",
              "        }    #T_a204ac54_03e6_11ea_8000_0242ac1c0002row18_col11 {\n",
              "            background-color:  #4a63d3;\n",
              "            color:  #f1f1f1;\n",
              "        }    #T_a204ac54_03e6_11ea_8000_0242ac1c0002row18_col12 {\n",
              "            background-color:  #abc8fd;\n",
              "            color:  #000000;\n",
              "        }    #T_a204ac54_03e6_11ea_8000_0242ac1c0002row18_col13 {\n",
              "            background-color:  #a7c5fe;\n",
              "            color:  #000000;\n",
              "        }    #T_a204ac54_03e6_11ea_8000_0242ac1c0002row18_col14 {\n",
              "            background-color:  #e1dad6;\n",
              "            color:  #000000;\n",
              "        }    #T_a204ac54_03e6_11ea_8000_0242ac1c0002row18_col15 {\n",
              "            background-color:  #93b5fe;\n",
              "            color:  #000000;\n",
              "        }    #T_a204ac54_03e6_11ea_8000_0242ac1c0002row18_col16 {\n",
              "            background-color:  #6180e9;\n",
              "            color:  #000000;\n",
              "        }    #T_a204ac54_03e6_11ea_8000_0242ac1c0002row18_col17 {\n",
              "            background-color:  #5e7de7;\n",
              "            color:  #000000;\n",
              "        }    #T_a204ac54_03e6_11ea_8000_0242ac1c0002row18_col18 {\n",
              "            background-color:  #b40426;\n",
              "            color:  #f1f1f1;\n",
              "        }    #T_a204ac54_03e6_11ea_8000_0242ac1c0002row18_col19 {\n",
              "            background-color:  #dedcdb;\n",
              "            color:  #000000;\n",
              "        }    #T_a204ac54_03e6_11ea_8000_0242ac1c0002row18_col20 {\n",
              "            background-color:  #dddcdc;\n",
              "            color:  #000000;\n",
              "        }    #T_a204ac54_03e6_11ea_8000_0242ac1c0002row18_col21 {\n",
              "            background-color:  #dfdbd9;\n",
              "            color:  #000000;\n",
              "        }    #T_a204ac54_03e6_11ea_8000_0242ac1c0002row18_col22 {\n",
              "            background-color:  #d9dce1;\n",
              "            color:  #000000;\n",
              "        }    #T_a204ac54_03e6_11ea_8000_0242ac1c0002row18_col23 {\n",
              "            background-color:  #779af7;\n",
              "            color:  #000000;\n",
              "        }    #T_a204ac54_03e6_11ea_8000_0242ac1c0002row19_col0 {\n",
              "            background-color:  #4257c9;\n",
              "            color:  #f1f1f1;\n",
              "        }    #T_a204ac54_03e6_11ea_8000_0242ac1c0002row19_col1 {\n",
              "            background-color:  #bed2f6;\n",
              "            color:  #000000;\n",
              "        }    #T_a204ac54_03e6_11ea_8000_0242ac1c0002row19_col2 {\n",
              "            background-color:  #5d7ce6;\n",
              "            color:  #000000;\n",
              "        }    #T_a204ac54_03e6_11ea_8000_0242ac1c0002row19_col3 {\n",
              "            background-color:  #536edd;\n",
              "            color:  #000000;\n",
              "        }    #T_a204ac54_03e6_11ea_8000_0242ac1c0002row19_col4 {\n",
              "            background-color:  #b1cbfc;\n",
              "            color:  #000000;\n",
              "        }    #T_a204ac54_03e6_11ea_8000_0242ac1c0002row19_col5 {\n",
              "            background-color:  #3b4cc0;\n",
              "            color:  #f1f1f1;\n",
              "        }    #T_a204ac54_03e6_11ea_8000_0242ac1c0002row19_col6 {\n",
              "            background-color:  #5875e1;\n",
              "            color:  #000000;\n",
              "        }    #T_a204ac54_03e6_11ea_8000_0242ac1c0002row19_col7 {\n",
              "            background-color:  #a2c1ff;\n",
              "            color:  #000000;\n",
              "        }    #T_a204ac54_03e6_11ea_8000_0242ac1c0002row19_col8 {\n",
              "            background-color:  #4a63d3;\n",
              "            color:  #f1f1f1;\n",
              "        }    #T_a204ac54_03e6_11ea_8000_0242ac1c0002row19_col9 {\n",
              "            background-color:  #bcd2f7;\n",
              "            color:  #000000;\n",
              "        }    #T_a204ac54_03e6_11ea_8000_0242ac1c0002row19_col10 {\n",
              "            background-color:  #aac7fd;\n",
              "            color:  #000000;\n",
              "        }    #T_a204ac54_03e6_11ea_8000_0242ac1c0002row19_col11 {\n",
              "            background-color:  #516ddb;\n",
              "            color:  #000000;\n",
              "        }    #T_a204ac54_03e6_11ea_8000_0242ac1c0002row19_col12 {\n",
              "            background-color:  #a9c6fd;\n",
              "            color:  #000000;\n",
              "        }    #T_a204ac54_03e6_11ea_8000_0242ac1c0002row19_col13 {\n",
              "            background-color:  #a1c0ff;\n",
              "            color:  #000000;\n",
              "        }    #T_a204ac54_03e6_11ea_8000_0242ac1c0002row19_col14 {\n",
              "            background-color:  #c9d7f0;\n",
              "            color:  #000000;\n",
              "        }    #T_a204ac54_03e6_11ea_8000_0242ac1c0002row19_col15 {\n",
              "            background-color:  #c7d7f0;\n",
              "            color:  #000000;\n",
              "        }    #T_a204ac54_03e6_11ea_8000_0242ac1c0002row19_col16 {\n",
              "            background-color:  #abc8fd;\n",
              "            color:  #000000;\n",
              "        }    #T_a204ac54_03e6_11ea_8000_0242ac1c0002row19_col17 {\n",
              "            background-color:  #8fb1fe;\n",
              "            color:  #000000;\n",
              "        }    #T_a204ac54_03e6_11ea_8000_0242ac1c0002row19_col18 {\n",
              "            background-color:  #8db0fe;\n",
              "            color:  #000000;\n",
              "        }    #T_a204ac54_03e6_11ea_8000_0242ac1c0002row19_col19 {\n",
              "            background-color:  #b40426;\n",
              "            color:  #f1f1f1;\n",
              "        }    #T_a204ac54_03e6_11ea_8000_0242ac1c0002row19_col20 {\n",
              "            background-color:  #dadce0;\n",
              "            color:  #000000;\n",
              "        }    #T_a204ac54_03e6_11ea_8000_0242ac1c0002row19_col21 {\n",
              "            background-color:  #dcdddd;\n",
              "            color:  #000000;\n",
              "        }    #T_a204ac54_03e6_11ea_8000_0242ac1c0002row19_col22 {\n",
              "            background-color:  #dcdddd;\n",
              "            color:  #000000;\n",
              "        }    #T_a204ac54_03e6_11ea_8000_0242ac1c0002row19_col23 {\n",
              "            background-color:  #779af7;\n",
              "            color:  #000000;\n",
              "        }    #T_a204ac54_03e6_11ea_8000_0242ac1c0002row20_col0 {\n",
              "            background-color:  #4055c8;\n",
              "            color:  #f1f1f1;\n",
              "        }    #T_a204ac54_03e6_11ea_8000_0242ac1c0002row20_col1 {\n",
              "            background-color:  #b7cff9;\n",
              "            color:  #000000;\n",
              "        }    #T_a204ac54_03e6_11ea_8000_0242ac1c0002row20_col2 {\n",
              "            background-color:  #6485ec;\n",
              "            color:  #000000;\n",
              "        }    #T_a204ac54_03e6_11ea_8000_0242ac1c0002row20_col3 {\n",
              "            background-color:  #6b8df0;\n",
              "            color:  #000000;\n",
              "        }    #T_a204ac54_03e6_11ea_8000_0242ac1c0002row20_col4 {\n",
              "            background-color:  #aac7fd;\n",
              "            color:  #000000;\n",
              "        }    #T_a204ac54_03e6_11ea_8000_0242ac1c0002row20_col5 {\n",
              "            background-color:  #dcdddd;\n",
              "            color:  #000000;\n",
              "        }    #T_a204ac54_03e6_11ea_8000_0242ac1c0002row20_col6 {\n",
              "            background-color:  #6384eb;\n",
              "            color:  #000000;\n",
              "        }    #T_a204ac54_03e6_11ea_8000_0242ac1c0002row20_col7 {\n",
              "            background-color:  #9dbdff;\n",
              "            color:  #000000;\n",
              "        }    #T_a204ac54_03e6_11ea_8000_0242ac1c0002row20_col8 {\n",
              "            background-color:  #4c66d6;\n",
              "            color:  #000000;\n",
              "        }    #T_a204ac54_03e6_11ea_8000_0242ac1c0002row20_col9 {\n",
              "            background-color:  #cdd9ec;\n",
              "            color:  #000000;\n",
              "        }    #T_a204ac54_03e6_11ea_8000_0242ac1c0002row20_col10 {\n",
              "            background-color:  #9ebeff;\n",
              "            color:  #000000;\n",
              "        }    #T_a204ac54_03e6_11ea_8000_0242ac1c0002row20_col11 {\n",
              "            background-color:  #516ddb;\n",
              "            color:  #000000;\n",
              "        }    #T_a204ac54_03e6_11ea_8000_0242ac1c0002row20_col12 {\n",
              "            background-color:  #a9c6fd;\n",
              "            color:  #000000;\n",
              "        }    #T_a204ac54_03e6_11ea_8000_0242ac1c0002row20_col13 {\n",
              "            background-color:  #9dbdff;\n",
              "            color:  #000000;\n",
              "        }    #T_a204ac54_03e6_11ea_8000_0242ac1c0002row20_col14 {\n",
              "            background-color:  #c9d7f0;\n",
              "            color:  #000000;\n",
              "        }    #T_a204ac54_03e6_11ea_8000_0242ac1c0002row20_col15 {\n",
              "            background-color:  #d3dbe7;\n",
              "            color:  #000000;\n",
              "        }    #T_a204ac54_03e6_11ea_8000_0242ac1c0002row20_col16 {\n",
              "            background-color:  #94b6ff;\n",
              "            color:  #000000;\n",
              "        }    #T_a204ac54_03e6_11ea_8000_0242ac1c0002row20_col17 {\n",
              "            background-color:  #98b9ff;\n",
              "            color:  #000000;\n",
              "        }    #T_a204ac54_03e6_11ea_8000_0242ac1c0002row20_col18 {\n",
              "            background-color:  #92b4fe;\n",
              "            color:  #000000;\n",
              "        }    #T_a204ac54_03e6_11ea_8000_0242ac1c0002row20_col19 {\n",
              "            background-color:  #dddcdc;\n",
              "            color:  #000000;\n",
              "        }    #T_a204ac54_03e6_11ea_8000_0242ac1c0002row20_col20 {\n",
              "            background-color:  #b40426;\n",
              "            color:  #f1f1f1;\n",
              "        }    #T_a204ac54_03e6_11ea_8000_0242ac1c0002row20_col21 {\n",
              "            background-color:  #b8122a;\n",
              "            color:  #f1f1f1;\n",
              "        }    #T_a204ac54_03e6_11ea_8000_0242ac1c0002row20_col22 {\n",
              "            background-color:  #3f53c6;\n",
              "            color:  #f1f1f1;\n",
              "        }    #T_a204ac54_03e6_11ea_8000_0242ac1c0002row20_col23 {\n",
              "            background-color:  #3b4cc0;\n",
              "            color:  #f1f1f1;\n",
              "        }    #T_a204ac54_03e6_11ea_8000_0242ac1c0002row21_col0 {\n",
              "            background-color:  #4055c8;\n",
              "            color:  #f1f1f1;\n",
              "        }    #T_a204ac54_03e6_11ea_8000_0242ac1c0002row21_col1 {\n",
              "            background-color:  #b7cff9;\n",
              "            color:  #000000;\n",
              "        }    #T_a204ac54_03e6_11ea_8000_0242ac1c0002row21_col2 {\n",
              "            background-color:  #6485ec;\n",
              "            color:  #000000;\n",
              "        }    #T_a204ac54_03e6_11ea_8000_0242ac1c0002row21_col3 {\n",
              "            background-color:  #6b8df0;\n",
              "            color:  #000000;\n",
              "        }    #T_a204ac54_03e6_11ea_8000_0242ac1c0002row21_col4 {\n",
              "            background-color:  #a9c6fd;\n",
              "            color:  #000000;\n",
              "        }    #T_a204ac54_03e6_11ea_8000_0242ac1c0002row21_col5 {\n",
              "            background-color:  #dcdddd;\n",
              "            color:  #000000;\n",
              "        }    #T_a204ac54_03e6_11ea_8000_0242ac1c0002row21_col6 {\n",
              "            background-color:  #6384eb;\n",
              "            color:  #000000;\n",
              "        }    #T_a204ac54_03e6_11ea_8000_0242ac1c0002row21_col7 {\n",
              "            background-color:  #9dbdff;\n",
              "            color:  #000000;\n",
              "        }    #T_a204ac54_03e6_11ea_8000_0242ac1c0002row21_col8 {\n",
              "            background-color:  #4c66d6;\n",
              "            color:  #000000;\n",
              "        }    #T_a204ac54_03e6_11ea_8000_0242ac1c0002row21_col9 {\n",
              "            background-color:  #cedaeb;\n",
              "            color:  #000000;\n",
              "        }    #T_a204ac54_03e6_11ea_8000_0242ac1c0002row21_col10 {\n",
              "            background-color:  #9ebeff;\n",
              "            color:  #000000;\n",
              "        }    #T_a204ac54_03e6_11ea_8000_0242ac1c0002row21_col11 {\n",
              "            background-color:  #516ddb;\n",
              "            color:  #000000;\n",
              "        }    #T_a204ac54_03e6_11ea_8000_0242ac1c0002row21_col12 {\n",
              "            background-color:  #a9c6fd;\n",
              "            color:  #000000;\n",
              "        }    #T_a204ac54_03e6_11ea_8000_0242ac1c0002row21_col13 {\n",
              "            background-color:  #9dbdff;\n",
              "            color:  #000000;\n",
              "        }    #T_a204ac54_03e6_11ea_8000_0242ac1c0002row21_col14 {\n",
              "            background-color:  #cad8ef;\n",
              "            color:  #000000;\n",
              "        }    #T_a204ac54_03e6_11ea_8000_0242ac1c0002row21_col15 {\n",
              "            background-color:  #d3dbe7;\n",
              "            color:  #000000;\n",
              "        }    #T_a204ac54_03e6_11ea_8000_0242ac1c0002row21_col16 {\n",
              "            background-color:  #93b5fe;\n",
              "            color:  #000000;\n",
              "        }    #T_a204ac54_03e6_11ea_8000_0242ac1c0002row21_col17 {\n",
              "            background-color:  #9abbff;\n",
              "            color:  #000000;\n",
              "        }    #T_a204ac54_03e6_11ea_8000_0242ac1c0002row21_col18 {\n",
              "            background-color:  #92b4fe;\n",
              "            color:  #000000;\n",
              "        }    #T_a204ac54_03e6_11ea_8000_0242ac1c0002row21_col19 {\n",
              "            background-color:  #dddcdc;\n",
              "            color:  #000000;\n",
              "        }    #T_a204ac54_03e6_11ea_8000_0242ac1c0002row21_col20 {\n",
              "            background-color:  #b8122a;\n",
              "            color:  #f1f1f1;\n",
              "        }    #T_a204ac54_03e6_11ea_8000_0242ac1c0002row21_col21 {\n",
              "            background-color:  #b40426;\n",
              "            color:  #f1f1f1;\n",
              "        }    #T_a204ac54_03e6_11ea_8000_0242ac1c0002row21_col22 {\n",
              "            background-color:  #3b4cc0;\n",
              "            color:  #f1f1f1;\n",
              "        }    #T_a204ac54_03e6_11ea_8000_0242ac1c0002row21_col23 {\n",
              "            background-color:  #7597f6;\n",
              "            color:  #000000;\n",
              "        }    #T_a204ac54_03e6_11ea_8000_0242ac1c0002row22_col0 {\n",
              "            background-color:  #4257c9;\n",
              "            color:  #f1f1f1;\n",
              "        }    #T_a204ac54_03e6_11ea_8000_0242ac1c0002row22_col1 {\n",
              "            background-color:  #c3d5f4;\n",
              "            color:  #000000;\n",
              "        }    #T_a204ac54_03e6_11ea_8000_0242ac1c0002row22_col2 {\n",
              "            background-color:  #5673e0;\n",
              "            color:  #000000;\n",
              "        }    #T_a204ac54_03e6_11ea_8000_0242ac1c0002row22_col3 {\n",
              "            background-color:  #3d50c3;\n",
              "            color:  #f1f1f1;\n",
              "        }    #T_a204ac54_03e6_11ea_8000_0242ac1c0002row22_col4 {\n",
              "            background-color:  #b7cff9;\n",
              "            color:  #000000;\n",
              "        }    #T_a204ac54_03e6_11ea_8000_0242ac1c0002row22_col5 {\n",
              "            background-color:  #dddcdc;\n",
              "            color:  #000000;\n",
              "        }    #T_a204ac54_03e6_11ea_8000_0242ac1c0002row22_col6 {\n",
              "            background-color:  #4f69d9;\n",
              "            color:  #000000;\n",
              "        }    #T_a204ac54_03e6_11ea_8000_0242ac1c0002row22_col7 {\n",
              "            background-color:  #a7c5fe;\n",
              "            color:  #000000;\n",
              "        }    #T_a204ac54_03e6_11ea_8000_0242ac1c0002row22_col8 {\n",
              "            background-color:  #465ecf;\n",
              "            color:  #f1f1f1;\n",
              "        }    #T_a204ac54_03e6_11ea_8000_0242ac1c0002row22_col9 {\n",
              "            background-color:  #aac7fd;\n",
              "            color:  #000000;\n",
              "        }    #T_a204ac54_03e6_11ea_8000_0242ac1c0002row22_col10 {\n",
              "            background-color:  #b5cdfa;\n",
              "            color:  #000000;\n",
              "        }    #T_a204ac54_03e6_11ea_8000_0242ac1c0002row22_col11 {\n",
              "            background-color:  #4f69d9;\n",
              "            color:  #000000;\n",
              "        }    #T_a204ac54_03e6_11ea_8000_0242ac1c0002row22_col12 {\n",
              "            background-color:  #abc8fd;\n",
              "            color:  #000000;\n",
              "        }    #T_a204ac54_03e6_11ea_8000_0242ac1c0002row22_col13 {\n",
              "            background-color:  #a5c3fe;\n",
              "            color:  #000000;\n",
              "        }    #T_a204ac54_03e6_11ea_8000_0242ac1c0002row22_col14 {\n",
              "            background-color:  #c9d7f0;\n",
              "            color:  #000000;\n",
              "        }    #T_a204ac54_03e6_11ea_8000_0242ac1c0002row22_col15 {\n",
              "            background-color:  #bed2f6;\n",
              "            color:  #000000;\n",
              "        }    #T_a204ac54_03e6_11ea_8000_0242ac1c0002row22_col16 {\n",
              "            background-color:  #c3d5f4;\n",
              "            color:  #000000;\n",
              "        }    #T_a204ac54_03e6_11ea_8000_0242ac1c0002row22_col17 {\n",
              "            background-color:  #86a9fc;\n",
              "            color:  #000000;\n",
              "        }    #T_a204ac54_03e6_11ea_8000_0242ac1c0002row22_col18 {\n",
              "            background-color:  #85a8fc;\n",
              "            color:  #000000;\n",
              "        }    #T_a204ac54_03e6_11ea_8000_0242ac1c0002row22_col19 {\n",
              "            background-color:  #dcdddd;\n",
              "            color:  #000000;\n",
              "        }    #T_a204ac54_03e6_11ea_8000_0242ac1c0002row22_col20 {\n",
              "            background-color:  #3b4cc0;\n",
              "            color:  #f1f1f1;\n",
              "        }    #T_a204ac54_03e6_11ea_8000_0242ac1c0002row22_col21 {\n",
              "            background-color:  #3b4cc0;\n",
              "            color:  #f1f1f1;\n",
              "        }    #T_a204ac54_03e6_11ea_8000_0242ac1c0002row22_col22 {\n",
              "            background-color:  #b40426;\n",
              "            color:  #f1f1f1;\n",
              "        }    #T_a204ac54_03e6_11ea_8000_0242ac1c0002row22_col23 {\n",
              "            background-color:  #7295f4;\n",
              "            color:  #000000;\n",
              "        }    #T_a204ac54_03e6_11ea_8000_0242ac1c0002row23_col0 {\n",
              "            background-color:  #4257c9;\n",
              "            color:  #f1f1f1;\n",
              "        }    #T_a204ac54_03e6_11ea_8000_0242ac1c0002row23_col1 {\n",
              "            background-color:  #bcd2f7;\n",
              "            color:  #000000;\n",
              "        }    #T_a204ac54_03e6_11ea_8000_0242ac1c0002row23_col2 {\n",
              "            background-color:  #5d7ce6;\n",
              "            color:  #000000;\n",
              "        }    #T_a204ac54_03e6_11ea_8000_0242ac1c0002row23_col3 {\n",
              "            background-color:  #536edd;\n",
              "            color:  #000000;\n",
              "        }    #T_a204ac54_03e6_11ea_8000_0242ac1c0002row23_col4 {\n",
              "            background-color:  #afcafc;\n",
              "            color:  #000000;\n",
              "        }    #T_a204ac54_03e6_11ea_8000_0242ac1c0002row23_col5 {\n",
              "            background-color:  #dddcdc;\n",
              "            color:  #000000;\n",
              "        }    #T_a204ac54_03e6_11ea_8000_0242ac1c0002row23_col6 {\n",
              "            background-color:  #5875e1;\n",
              "            color:  #000000;\n",
              "        }    #T_a204ac54_03e6_11ea_8000_0242ac1c0002row23_col7 {\n",
              "            background-color:  #a2c1ff;\n",
              "            color:  #000000;\n",
              "        }    #T_a204ac54_03e6_11ea_8000_0242ac1c0002row23_col8 {\n",
              "            background-color:  #4961d2;\n",
              "            color:  #f1f1f1;\n",
              "        }    #T_a204ac54_03e6_11ea_8000_0242ac1c0002row23_col9 {\n",
              "            background-color:  #bcd2f7;\n",
              "            color:  #000000;\n",
              "        }    #T_a204ac54_03e6_11ea_8000_0242ac1c0002row23_col10 {\n",
              "            background-color:  #aac7fd;\n",
              "            color:  #000000;\n",
              "        }    #T_a204ac54_03e6_11ea_8000_0242ac1c0002row23_col11 {\n",
              "            background-color:  #506bda;\n",
              "            color:  #000000;\n",
              "        }    #T_a204ac54_03e6_11ea_8000_0242ac1c0002row23_col12 {\n",
              "            background-color:  #a7c5fe;\n",
              "            color:  #000000;\n",
              "        }    #T_a204ac54_03e6_11ea_8000_0242ac1c0002row23_col13 {\n",
              "            background-color:  #a2c1ff;\n",
              "            color:  #000000;\n",
              "        }    #T_a204ac54_03e6_11ea_8000_0242ac1c0002row23_col14 {\n",
              "            background-color:  #cbd8ee;\n",
              "            color:  #000000;\n",
              "        }    #T_a204ac54_03e6_11ea_8000_0242ac1c0002row23_col15 {\n",
              "            background-color:  #c9d7f0;\n",
              "            color:  #000000;\n",
              "        }    #T_a204ac54_03e6_11ea_8000_0242ac1c0002row23_col16 {\n",
              "            background-color:  #aac7fd;\n",
              "            color:  #000000;\n",
              "        }    #T_a204ac54_03e6_11ea_8000_0242ac1c0002row23_col17 {\n",
              "            background-color:  #94b6ff;\n",
              "            color:  #000000;\n",
              "        }    #T_a204ac54_03e6_11ea_8000_0242ac1c0002row23_col18 {\n",
              "            background-color:  #8badfd;\n",
              "            color:  #000000;\n",
              "        }    #T_a204ac54_03e6_11ea_8000_0242ac1c0002row23_col19 {\n",
              "            background-color:  #dcdddd;\n",
              "            color:  #000000;\n",
              "        }    #T_a204ac54_03e6_11ea_8000_0242ac1c0002row23_col20 {\n",
              "            background-color:  #b6cefa;\n",
              "            color:  #000000;\n",
              "        }    #T_a204ac54_03e6_11ea_8000_0242ac1c0002row23_col21 {\n",
              "            background-color:  #dbdcde;\n",
              "            color:  #000000;\n",
              "        }    #T_a204ac54_03e6_11ea_8000_0242ac1c0002row23_col22 {\n",
              "            background-color:  #dadce0;\n",
              "            color:  #000000;\n",
              "        }    #T_a204ac54_03e6_11ea_8000_0242ac1c0002row23_col23 {\n",
              "            background-color:  #b40426;\n",
              "            color:  #f1f1f1;\n",
              "        }</style><table id=\"T_a204ac54_03e6_11ea_8000_0242ac1c0002\" ><thead>    <tr>        <th class=\"blank level0\" ></th>        <th class=\"col_heading level0 col0\" >id</th>        <th class=\"col_heading level0 col1\" >age</th>        <th class=\"col_heading level0 col2\" >hypertension</th>        <th class=\"col_heading level0 col3\" >heart_disease</th>        <th class=\"col_heading level0 col4\" >ever_married</th>        <th class=\"col_heading level0 col5\" >Residence_type</th>        <th class=\"col_heading level0 col6\" >avg_glucose_level</th>        <th class=\"col_heading level0 col7\" >bmi</th>        <th class=\"col_heading level0 col8\" >stroke</th>        <th class=\"col_heading level0 col9\" >work_type_is_children</th>        <th class=\"col_heading level0 col10\" >work_type_is_Private</th>        <th class=\"col_heading level0 col11\" >work_type_is_Never_worked</th>        <th class=\"col_heading level0 col12\" >work_type_is_Self-employed</th>        <th class=\"col_heading level0 col13\" >work_type_is_Govt_job</th>        <th class=\"col_heading level0 col14\" >smoking_status_target_enc</th>        <th class=\"col_heading level0 col15\" >smoking_status_is_no data</th>        <th class=\"col_heading level0 col16\" >smoking_status_is_never smoked</th>        <th class=\"col_heading level0 col17\" >smoking_status_is_formerly smoked</th>        <th class=\"col_heading level0 col18\" >smoking_status_is_smokes</th>        <th class=\"col_heading level0 col19\" >residence_target_enc</th>        <th class=\"col_heading level0 col20\" >gender_target_enc</th>        <th class=\"col_heading level0 col21\" >gender_is_Male</th>        <th class=\"col_heading level0 col22\" >gender_is_Female</th>        <th class=\"col_heading level0 col23\" >gender_is_Other</th>    </tr></thead><tbody>\n",
              "                <tr>\n",
              "                        <th id=\"T_a204ac54_03e6_11ea_8000_0242ac1c0002level0_row0\" class=\"row_heading level0 row0\" >id</th>\n",
              "                        <td id=\"T_a204ac54_03e6_11ea_8000_0242ac1c0002row0_col0\" class=\"data row0 col0\" >1</td>\n",
              "                        <td id=\"T_a204ac54_03e6_11ea_8000_0242ac1c0002row0_col1\" class=\"data row0 col1\" >0.0134422</td>\n",
              "                        <td id=\"T_a204ac54_03e6_11ea_8000_0242ac1c0002row0_col2\" class=\"data row0 col2\" >0.00982343</td>\n",
              "                        <td id=\"T_a204ac54_03e6_11ea_8000_0242ac1c0002row0_col3\" class=\"data row0 col3\" >0.00682854</td>\n",
              "                        <td id=\"T_a204ac54_03e6_11ea_8000_0242ac1c0002row0_col4\" class=\"data row0 col4\" >0.0103896</td>\n",
              "                        <td id=\"T_a204ac54_03e6_11ea_8000_0242ac1c0002row0_col5\" class=\"data row0 col5\" >-0.00292922</td>\n",
              "                        <td id=\"T_a204ac54_03e6_11ea_8000_0242ac1c0002row0_col6\" class=\"data row0 col6\" >0.0221249</td>\n",
              "                        <td id=\"T_a204ac54_03e6_11ea_8000_0242ac1c0002row0_col7\" class=\"data row0 col7\" >0.0172642</td>\n",
              "                        <td id=\"T_a204ac54_03e6_11ea_8000_0242ac1c0002row0_col8\" class=\"data row0 col8\" >0.00736639</td>\n",
              "                        <td id=\"T_a204ac54_03e6_11ea_8000_0242ac1c0002row0_col9\" class=\"data row0 col9\" >-0.0231707</td>\n",
              "                        <td id=\"T_a204ac54_03e6_11ea_8000_0242ac1c0002row0_col10\" class=\"data row0 col10\" >0.0104678</td>\n",
              "                        <td id=\"T_a204ac54_03e6_11ea_8000_0242ac1c0002row0_col11\" class=\"data row0 col11\" >0.0030009</td>\n",
              "                        <td id=\"T_a204ac54_03e6_11ea_8000_0242ac1c0002row0_col12\" class=\"data row0 col12\" >0.00890824</td>\n",
              "                        <td id=\"T_a204ac54_03e6_11ea_8000_0242ac1c0002row0_col13\" class=\"data row0 col13\" >-0.00168967</td>\n",
              "                        <td id=\"T_a204ac54_03e6_11ea_8000_0242ac1c0002row0_col14\" class=\"data row0 col14\" >0.016353</td>\n",
              "                        <td id=\"T_a204ac54_03e6_11ea_8000_0242ac1c0002row0_col15\" class=\"data row0 col15\" >-0.018663</td>\n",
              "                        <td id=\"T_a204ac54_03e6_11ea_8000_0242ac1c0002row0_col16\" class=\"data row0 col16\" >0.00730014</td>\n",
              "                        <td id=\"T_a204ac54_03e6_11ea_8000_0242ac1c0002row0_col17\" class=\"data row0 col17\" >0.00901506</td>\n",
              "                        <td id=\"T_a204ac54_03e6_11ea_8000_0242ac1c0002row0_col18\" class=\"data row0 col18\" >0.00464516</td>\n",
              "                        <td id=\"T_a204ac54_03e6_11ea_8000_0242ac1c0002row0_col19\" class=\"data row0 col19\" >0.00292922</td>\n",
              "                        <td id=\"T_a204ac54_03e6_11ea_8000_0242ac1c0002row0_col20\" class=\"data row0 col20\" >-0.00228787</td>\n",
              "                        <td id=\"T_a204ac54_03e6_11ea_8000_0242ac1c0002row0_col21\" class=\"data row0 col21\" >-0.00212938</td>\n",
              "                        <td id=\"T_a204ac54_03e6_11ea_8000_0242ac1c0002row0_col22\" class=\"data row0 col22\" >0.00209269</td>\n",
              "                        <td id=\"T_a204ac54_03e6_11ea_8000_0242ac1c0002row0_col23\" class=\"data row0 col23\" >0.000981793</td>\n",
              "            </tr>\n",
              "            <tr>\n",
              "                        <th id=\"T_a204ac54_03e6_11ea_8000_0242ac1c0002level0_row1\" class=\"row_heading level0 row1\" >age</th>\n",
              "                        <td id=\"T_a204ac54_03e6_11ea_8000_0242ac1c0002row1_col0\" class=\"data row1 col0\" >0.0134422</td>\n",
              "                        <td id=\"T_a204ac54_03e6_11ea_8000_0242ac1c0002row1_col1\" class=\"data row1 col1\" >1</td>\n",
              "                        <td id=\"T_a204ac54_03e6_11ea_8000_0242ac1c0002row1_col2\" class=\"data row1 col2\" >0.274369</td>\n",
              "                        <td id=\"T_a204ac54_03e6_11ea_8000_0242ac1c0002row1_col3\" class=\"data row1 col3\" >0.25277</td>\n",
              "                        <td id=\"T_a204ac54_03e6_11ea_8000_0242ac1c0002row1_col4\" class=\"data row1 col4\" >0.689001</td>\n",
              "                        <td id=\"T_a204ac54_03e6_11ea_8000_0242ac1c0002row1_col5\" class=\"data row1 col5\" >-0.00379178</td>\n",
              "                        <td id=\"T_a204ac54_03e6_11ea_8000_0242ac1c0002row1_col6\" class=\"data row1 col6\" >0.234806</td>\n",
              "                        <td id=\"T_a204ac54_03e6_11ea_8000_0242ac1c0002row1_col7\" class=\"data row1 col7\" >0.349115</td>\n",
              "                        <td id=\"T_a204ac54_03e6_11ea_8000_0242ac1c0002row1_col8\" class=\"data row1 col8\" >0.152684</td>\n",
              "                        <td id=\"T_a204ac54_03e6_11ea_8000_0242ac1c0002row1_col9\" class=\"data row1 col9\" >-0.638318</td>\n",
              "                        <td id=\"T_a204ac54_03e6_11ea_8000_0242ac1c0002row1_col10\" class=\"data row1 col10\" >0.139042</td>\n",
              "                        <td id=\"T_a204ac54_03e6_11ea_8000_0242ac1c0002row1_col11\" class=\"data row1 col11\" >-0.0672996</td>\n",
              "                        <td id=\"T_a204ac54_03e6_11ea_8000_0242ac1c0002row1_col12\" class=\"data row1 col12\" >0.323558</td>\n",
              "                        <td id=\"T_a204ac54_03e6_11ea_8000_0242ac1c0002row1_col13\" class=\"data row1 col13\" >0.118051</td>\n",
              "                        <td id=\"T_a204ac54_03e6_11ea_8000_0242ac1c0002row1_col14\" class=\"data row1 col14\" >0.371383</td>\n",
              "                        <td id=\"T_a204ac54_03e6_11ea_8000_0242ac1c0002row1_col15\" class=\"data row1 col15\" >-0.374952</td>\n",
              "                        <td id=\"T_a204ac54_03e6_11ea_8000_0242ac1c0002row1_col16\" class=\"data row1 col16\" >0.106128</td>\n",
              "                        <td id=\"T_a204ac54_03e6_11ea_8000_0242ac1c0002row1_col17\" class=\"data row1 col17\" >0.24249</td>\n",
              "                        <td id=\"T_a204ac54_03e6_11ea_8000_0242ac1c0002row1_col18\" class=\"data row1 col18\" >0.0831952</td>\n",
              "                        <td id=\"T_a204ac54_03e6_11ea_8000_0242ac1c0002row1_col19\" class=\"data row1 col19\" >0.00379178</td>\n",
              "                        <td id=\"T_a204ac54_03e6_11ea_8000_0242ac1c0002row1_col20\" class=\"data row1 col20\" >-0.0268858</td>\n",
              "                        <td id=\"T_a204ac54_03e6_11ea_8000_0242ac1c0002row1_col21\" class=\"data row1 col21\" >-0.0286153</td>\n",
              "                        <td id=\"T_a204ac54_03e6_11ea_8000_0242ac1c0002row1_col22\" class=\"data row1 col22\" >0.0287619</td>\n",
              "                        <td id=\"T_a204ac54_03e6_11ea_8000_0242ac1c0002row1_col23\" class=\"data row1 col23\" >-0.00404646</td>\n",
              "            </tr>\n",
              "            <tr>\n",
              "                        <th id=\"T_a204ac54_03e6_11ea_8000_0242ac1c0002level0_row2\" class=\"row_heading level0 row2\" >hypertension</th>\n",
              "                        <td id=\"T_a204ac54_03e6_11ea_8000_0242ac1c0002row2_col0\" class=\"data row2 col0\" >0.00982343</td>\n",
              "                        <td id=\"T_a204ac54_03e6_11ea_8000_0242ac1c0002row2_col1\" class=\"data row2 col1\" >0.274369</td>\n",
              "                        <td id=\"T_a204ac54_03e6_11ea_8000_0242ac1c0002row2_col2\" class=\"data row2 col2\" >1</td>\n",
              "                        <td id=\"T_a204ac54_03e6_11ea_8000_0242ac1c0002row2_col3\" class=\"data row2 col3\" >0.121906</td>\n",
              "                        <td id=\"T_a204ac54_03e6_11ea_8000_0242ac1c0002row2_col4\" class=\"data row2 col4\" >0.177805</td>\n",
              "                        <td id=\"T_a204ac54_03e6_11ea_8000_0242ac1c0002row2_col5\" class=\"data row2 col5\" >0.00355456</td>\n",
              "                        <td id=\"T_a204ac54_03e6_11ea_8000_0242ac1c0002row2_col6\" class=\"data row2 col6\" >0.161272</td>\n",
              "                        <td id=\"T_a204ac54_03e6_11ea_8000_0242ac1c0002row2_col7\" class=\"data row2 col7\" >0.153921</td>\n",
              "                        <td id=\"T_a204ac54_03e6_11ea_8000_0242ac1c0002row2_col8\" class=\"data row2 col8\" >0.0734252</td>\n",
              "                        <td id=\"T_a204ac54_03e6_11ea_8000_0242ac1c0002row2_col9\" class=\"data row2 col9\" >-0.129489</td>\n",
              "                        <td id=\"T_a204ac54_03e6_11ea_8000_0242ac1c0002row2_col10\" class=\"data row2 col10\" >-0.00202975</td>\n",
              "                        <td id=\"T_a204ac54_03e6_11ea_8000_0242ac1c0002row2_col11\" class=\"data row2 col11\" >-0.0181993</td>\n",
              "                        <td id=\"T_a204ac54_03e6_11ea_8000_0242ac1c0002row2_col12\" class=\"data row2 col12\" >0.108435</td>\n",
              "                        <td id=\"T_a204ac54_03e6_11ea_8000_0242ac1c0002row2_col13\" class=\"data row2 col13\" >0.0230801</td>\n",
              "                        <td id=\"T_a204ac54_03e6_11ea_8000_0242ac1c0002row2_col14\" class=\"data row2 col14\" >0.117109</td>\n",
              "                        <td id=\"T_a204ac54_03e6_11ea_8000_0242ac1c0002row2_col15\" class=\"data row2 col15\" >-0.11854</td>\n",
              "                        <td id=\"T_a204ac54_03e6_11ea_8000_0242ac1c0002row2_col16\" class=\"data row2 col16\" >0.0339235</td>\n",
              "                        <td id=\"T_a204ac54_03e6_11ea_8000_0242ac1c0002row2_col17\" class=\"data row2 col17\" >0.0762624</td>\n",
              "                        <td id=\"T_a204ac54_03e6_11ea_8000_0242ac1c0002row2_col18\" class=\"data row2 col18\" >0.0262241</td>\n",
              "                        <td id=\"T_a204ac54_03e6_11ea_8000_0242ac1c0002row2_col19\" class=\"data row2 col19\" >-0.00355456</td>\n",
              "                        <td id=\"T_a204ac54_03e6_11ea_8000_0242ac1c0002row2_col20\" class=\"data row2 col20\" >0.024683</td>\n",
              "                        <td id=\"T_a204ac54_03e6_11ea_8000_0242ac1c0002row2_col21\" class=\"data row2 col21\" >0.0240546</td>\n",
              "                        <td id=\"T_a204ac54_03e6_11ea_8000_0242ac1c0002row2_col22\" class=\"data row2 col22\" >-0.0238327</td>\n",
              "                        <td id=\"T_a204ac54_03e6_11ea_8000_0242ac1c0002row2_col23\" class=\"data row2 col23\" >-0.00590001</td>\n",
              "            </tr>\n",
              "            <tr>\n",
              "                        <th id=\"T_a204ac54_03e6_11ea_8000_0242ac1c0002level0_row3\" class=\"row_heading level0 row3\" >heart_disease</th>\n",
              "                        <td id=\"T_a204ac54_03e6_11ea_8000_0242ac1c0002row3_col0\" class=\"data row3 col0\" >0.00682854</td>\n",
              "                        <td id=\"T_a204ac54_03e6_11ea_8000_0242ac1c0002row3_col1\" class=\"data row3 col1\" >0.25277</td>\n",
              "                        <td id=\"T_a204ac54_03e6_11ea_8000_0242ac1c0002row3_col2\" class=\"data row3 col2\" >0.121906</td>\n",
              "                        <td id=\"T_a204ac54_03e6_11ea_8000_0242ac1c0002row3_col3\" class=\"data row3 col3\" >1</td>\n",
              "                        <td id=\"T_a204ac54_03e6_11ea_8000_0242ac1c0002row3_col4\" class=\"data row3 col4\" >0.126129</td>\n",
              "                        <td id=\"T_a204ac54_03e6_11ea_8000_0242ac1c0002row3_col5\" class=\"data row3 col5\" >0.00369086</td>\n",
              "                        <td id=\"T_a204ac54_03e6_11ea_8000_0242ac1c0002row3_col6\" class=\"data row3 col6\" >0.149709</td>\n",
              "                        <td id=\"T_a204ac54_03e6_11ea_8000_0242ac1c0002row3_col7\" class=\"data row3 col7\" >0.0570828</td>\n",
              "                        <td id=\"T_a204ac54_03e6_11ea_8000_0242ac1c0002row3_col8\" class=\"data row3 col8\" >0.101548</td>\n",
              "                        <td id=\"T_a204ac54_03e6_11ea_8000_0242ac1c0002row3_col9\" class=\"data row3 col9\" >-0.0893774</td>\n",
              "                        <td id=\"T_a204ac54_03e6_11ea_8000_0242ac1c0002row3_col10\" class=\"data row3 col10\" >-0.00526293</td>\n",
              "                        <td id=\"T_a204ac54_03e6_11ea_8000_0242ac1c0002row3_col11\" class=\"data row3 col11\" >-0.0139032</td>\n",
              "                        <td id=\"T_a204ac54_03e6_11ea_8000_0242ac1c0002row3_col12\" class=\"data row3 col12\" >0.102257</td>\n",
              "                        <td id=\"T_a204ac54_03e6_11ea_8000_0242ac1c0002row3_col13\" class=\"data row3 col13\" >-0.00795716</td>\n",
              "                        <td id=\"T_a204ac54_03e6_11ea_8000_0242ac1c0002row3_col14\" class=\"data row3 col14\" >0.094484</td>\n",
              "                        <td id=\"T_a204ac54_03e6_11ea_8000_0242ac1c0002row3_col15\" class=\"data row3 col15\" >-0.0592878</td>\n",
              "                        <td id=\"T_a204ac54_03e6_11ea_8000_0242ac1c0002row3_col16\" class=\"data row3 col16\" >-0.0346053</td>\n",
              "                        <td id=\"T_a204ac54_03e6_11ea_8000_0242ac1c0002row3_col17\" class=\"data row3 col17\" >0.082667</td>\n",
              "                        <td id=\"T_a204ac54_03e6_11ea_8000_0242ac1c0002row3_col18\" class=\"data row3 col18\" >0.0355527</td>\n",
              "                        <td id=\"T_a204ac54_03e6_11ea_8000_0242ac1c0002row3_col19\" class=\"data row3 col19\" >-0.00369086</td>\n",
              "                        <td id=\"T_a204ac54_03e6_11ea_8000_0242ac1c0002row3_col20\" class=\"data row3 col20\" >0.0789185</td>\n",
              "                        <td id=\"T_a204ac54_03e6_11ea_8000_0242ac1c0002row3_col21\" class=\"data row3 col21\" >0.080314</td>\n",
              "                        <td id=\"T_a204ac54_03e6_11ea_8000_0242ac1c0002row3_col22\" class=\"data row3 col22\" >-0.0801523</td>\n",
              "                        <td id=\"T_a204ac54_03e6_11ea_8000_0242ac1c0002row3_col23\" class=\"data row3 col23\" >-0.00409266</td>\n",
              "            </tr>\n",
              "            <tr>\n",
              "                        <th id=\"T_a204ac54_03e6_11ea_8000_0242ac1c0002level0_row4\" class=\"row_heading level0 row4\" >ever_married</th>\n",
              "                        <td id=\"T_a204ac54_03e6_11ea_8000_0242ac1c0002row4_col0\" class=\"data row4 col0\" >0.0103896</td>\n",
              "                        <td id=\"T_a204ac54_03e6_11ea_8000_0242ac1c0002row4_col1\" class=\"data row4 col1\" >0.689001</td>\n",
              "                        <td id=\"T_a204ac54_03e6_11ea_8000_0242ac1c0002row4_col2\" class=\"data row4 col2\" >0.177805</td>\n",
              "                        <td id=\"T_a204ac54_03e6_11ea_8000_0242ac1c0002row4_col3\" class=\"data row4 col3\" >0.126129</td>\n",
              "                        <td id=\"T_a204ac54_03e6_11ea_8000_0242ac1c0002row4_col4\" class=\"data row4 col4\" >1</td>\n",
              "                        <td id=\"T_a204ac54_03e6_11ea_8000_0242ac1c0002row4_col5\" class=\"data row4 col5\" >-0.0037969</td>\n",
              "                        <td id=\"T_a204ac54_03e6_11ea_8000_0242ac1c0002row4_col6\" class=\"data row4 col6\" >0.151777</td>\n",
              "                        <td id=\"T_a204ac54_03e6_11ea_8000_0242ac1c0002row4_col7\" class=\"data row4 col7\" >0.339788</td>\n",
              "                        <td id=\"T_a204ac54_03e6_11ea_8000_0242ac1c0002row4_col8\" class=\"data row4 col8\" >0.0696781</td>\n",
              "                        <td id=\"T_a204ac54_03e6_11ea_8000_0242ac1c0002row4_col9\" class=\"data row4 col9\" >-0.543941</td>\n",
              "                        <td id=\"T_a204ac54_03e6_11ea_8000_0242ac1c0002row4_col10\" class=\"data row4 col10\" >0.155254</td>\n",
              "                        <td id=\"T_a204ac54_03e6_11ea_8000_0242ac1c0002row4_col11\" class=\"data row4 col11\" >-0.0781295</td>\n",
              "                        <td id=\"T_a204ac54_03e6_11ea_8000_0242ac1c0002row4_col12\" class=\"data row4 col12\" >0.1932</td>\n",
              "                        <td id=\"T_a204ac54_03e6_11ea_8000_0242ac1c0002row4_col13\" class=\"data row4 col13\" >0.13975</td>\n",
              "                        <td id=\"T_a204ac54_03e6_11ea_8000_0242ac1c0002row4_col14\" class=\"data row4 col14\" >0.29752</td>\n",
              "                        <td id=\"T_a204ac54_03e6_11ea_8000_0242ac1c0002row4_col15\" class=\"data row4 col15\" >-0.322222</td>\n",
              "                        <td id=\"T_a204ac54_03e6_11ea_8000_0242ac1c0002row4_col16\" class=\"data row4 col16\" >0.0949776</td>\n",
              "                        <td id=\"T_a204ac54_03e6_11ea_8000_0242ac1c0002row4_col17\" class=\"data row4 col17\" >0.170825</td>\n",
              "                        <td id=\"T_a204ac54_03e6_11ea_8000_0242ac1c0002row4_col18\" class=\"data row4 col18\" >0.105967</td>\n",
              "                        <td id=\"T_a204ac54_03e6_11ea_8000_0242ac1c0002row4_col19\" class=\"data row4 col19\" >0.0037969</td>\n",
              "                        <td id=\"T_a204ac54_03e6_11ea_8000_0242ac1c0002row4_col20\" class=\"data row4 col20\" >-0.0310325</td>\n",
              "                        <td id=\"T_a204ac54_03e6_11ea_8000_0242ac1c0002row4_col21\" class=\"data row4 col21\" >-0.0332356</td>\n",
              "                        <td id=\"T_a204ac54_03e6_11ea_8000_0242ac1c0002row4_col22\" class=\"data row4 col22\" >0.0334381</td>\n",
              "                        <td id=\"T_a204ac54_03e6_11ea_8000_0242ac1c0002row4_col23\" class=\"data row4 col23\" >-0.00556847</td>\n",
              "            </tr>\n",
              "            <tr>\n",
              "                        <th id=\"T_a204ac54_03e6_11ea_8000_0242ac1c0002level0_row5\" class=\"row_heading level0 row5\" >Residence_type</th>\n",
              "                        <td id=\"T_a204ac54_03e6_11ea_8000_0242ac1c0002row5_col0\" class=\"data row5 col0\" >-0.00292922</td>\n",
              "                        <td id=\"T_a204ac54_03e6_11ea_8000_0242ac1c0002row5_col1\" class=\"data row5 col1\" >-0.00379178</td>\n",
              "                        <td id=\"T_a204ac54_03e6_11ea_8000_0242ac1c0002row5_col2\" class=\"data row5 col2\" >0.00355456</td>\n",
              "                        <td id=\"T_a204ac54_03e6_11ea_8000_0242ac1c0002row5_col3\" class=\"data row5 col3\" >0.00369086</td>\n",
              "                        <td id=\"T_a204ac54_03e6_11ea_8000_0242ac1c0002row5_col4\" class=\"data row5 col4\" >-0.0037969</td>\n",
              "                        <td id=\"T_a204ac54_03e6_11ea_8000_0242ac1c0002row5_col5\" class=\"data row5 col5\" >1</td>\n",
              "                        <td id=\"T_a204ac54_03e6_11ea_8000_0242ac1c0002row5_col6\" class=\"data row5 col6\" >0.00493958</td>\n",
              "                        <td id=\"T_a204ac54_03e6_11ea_8000_0242ac1c0002row5_col7\" class=\"data row5 col7\" >0.00268303</td>\n",
              "                        <td id=\"T_a204ac54_03e6_11ea_8000_0242ac1c0002row5_col8\" class=\"data row5 col8\" >-0.00279046</td>\n",
              "                        <td id=\"T_a204ac54_03e6_11ea_8000_0242ac1c0002row5_col9\" class=\"data row5 col9\" >0.00381615</td>\n",
              "                        <td id=\"T_a204ac54_03e6_11ea_8000_0242ac1c0002row5_col10\" class=\"data row5 col10\" >-0.00286013</td>\n",
              "                        <td id=\"T_a204ac54_03e6_11ea_8000_0242ac1c0002row5_col11\" class=\"data row5 col11\" >-0.00474096</td>\n",
              "                        <td id=\"T_a204ac54_03e6_11ea_8000_0242ac1c0002row5_col12\" class=\"data row5 col12\" >0.00225812</td>\n",
              "                        <td id=\"T_a204ac54_03e6_11ea_8000_0242ac1c0002row5_col13\" class=\"data row5 col13\" >-0.00130489</td>\n",
              "                        <td id=\"T_a204ac54_03e6_11ea_8000_0242ac1c0002row5_col14\" class=\"data row5 col14\" >-4.29609e-05</td>\n",
              "                        <td id=\"T_a204ac54_03e6_11ea_8000_0242ac1c0002row5_col15\" class=\"data row5 col15\" >0.00613607</td>\n",
              "                        <td id=\"T_a204ac54_03e6_11ea_8000_0242ac1c0002row5_col16\" class=\"data row5 col16\" >-0.00308652</td>\n",
              "                        <td id=\"T_a204ac54_03e6_11ea_8000_0242ac1c0002row5_col17\" class=\"data row5 col17\" >0.00639257</td>\n",
              "                        <td id=\"T_a204ac54_03e6_11ea_8000_0242ac1c0002row5_col18\" class=\"data row5 col18\" >-0.0104546</td>\n",
              "                        <td id=\"T_a204ac54_03e6_11ea_8000_0242ac1c0002row5_col19\" class=\"data row5 col19\" >-1</td>\n",
              "                        <td id=\"T_a204ac54_03e6_11ea_8000_0242ac1c0002row5_col20\" class=\"data row5 col20\" >-0.00111611</td>\n",
              "                        <td id=\"T_a204ac54_03e6_11ea_8000_0242ac1c0002row5_col21\" class=\"data row5 col21\" >-0.000299716</td>\n",
              "                        <td id=\"T_a204ac54_03e6_11ea_8000_0242ac1c0002row5_col22\" class=\"data row5 col22\" >0.000162936</td>\n",
              "                        <td id=\"T_a204ac54_03e6_11ea_8000_0242ac1c0002row5_col23\" class=\"data row5 col23\" >0.00368551</td>\n",
              "            </tr>\n",
              "            <tr>\n",
              "                        <th id=\"T_a204ac54_03e6_11ea_8000_0242ac1c0002level0_row6\" class=\"row_heading level0 row6\" >avg_glucose_level</th>\n",
              "                        <td id=\"T_a204ac54_03e6_11ea_8000_0242ac1c0002row6_col0\" class=\"data row6 col0\" >0.0221249</td>\n",
              "                        <td id=\"T_a204ac54_03e6_11ea_8000_0242ac1c0002row6_col1\" class=\"data row6 col1\" >0.234806</td>\n",
              "                        <td id=\"T_a204ac54_03e6_11ea_8000_0242ac1c0002row6_col2\" class=\"data row6 col2\" >0.161272</td>\n",
              "                        <td id=\"T_a204ac54_03e6_11ea_8000_0242ac1c0002row6_col3\" class=\"data row6 col3\" >0.149709</td>\n",
              "                        <td id=\"T_a204ac54_03e6_11ea_8000_0242ac1c0002row6_col4\" class=\"data row6 col4\" >0.151777</td>\n",
              "                        <td id=\"T_a204ac54_03e6_11ea_8000_0242ac1c0002row6_col5\" class=\"data row6 col5\" >0.00493958</td>\n",
              "                        <td id=\"T_a204ac54_03e6_11ea_8000_0242ac1c0002row6_col6\" class=\"data row6 col6\" >1</td>\n",
              "                        <td id=\"T_a204ac54_03e6_11ea_8000_0242ac1c0002row6_col7\" class=\"data row6 col7\" >0.181794</td>\n",
              "                        <td id=\"T_a204ac54_03e6_11ea_8000_0242ac1c0002row6_col8\" class=\"data row6 col8\" >0.0874264</td>\n",
              "                        <td id=\"T_a204ac54_03e6_11ea_8000_0242ac1c0002row6_col9\" class=\"data row6 col9\" >-0.111774</td>\n",
              "                        <td id=\"T_a204ac54_03e6_11ea_8000_0242ac1c0002row6_col10\" class=\"data row6 col10\" >0.0099759</td>\n",
              "                        <td id=\"T_a204ac54_03e6_11ea_8000_0242ac1c0002row6_col11\" class=\"data row6 col11\" >-0.0140917</td>\n",
              "                        <td id=\"T_a204ac54_03e6_11ea_8000_0242ac1c0002row6_col12\" class=\"data row6 col12\" >0.0796244</td>\n",
              "                        <td id=\"T_a204ac54_03e6_11ea_8000_0242ac1c0002row6_col13\" class=\"data row6 col13\" >0.0174259</td>\n",
              "                        <td id=\"T_a204ac54_03e6_11ea_8000_0242ac1c0002row6_col14\" class=\"data row6 col14\" >0.104047</td>\n",
              "                        <td id=\"T_a204ac54_03e6_11ea_8000_0242ac1c0002row6_col15\" class=\"data row6 col15\" >-0.0944188</td>\n",
              "                        <td id=\"T_a204ac54_03e6_11ea_8000_0242ac1c0002row6_col16\" class=\"data row6 col16\" >0.0123528</td>\n",
              "                        <td id=\"T_a204ac54_03e6_11ea_8000_0242ac1c0002row6_col17\" class=\"data row6 col17\" >0.0744069</td>\n",
              "                        <td id=\"T_a204ac54_03e6_11ea_8000_0242ac1c0002row6_col18\" class=\"data row6 col18\" >0.0262169</td>\n",
              "                        <td id=\"T_a204ac54_03e6_11ea_8000_0242ac1c0002row6_col19\" class=\"data row6 col19\" >-0.00493958</td>\n",
              "                        <td id=\"T_a204ac54_03e6_11ea_8000_0242ac1c0002row6_col20\" class=\"data row6 col20\" >0.0346896</td>\n",
              "                        <td id=\"T_a204ac54_03e6_11ea_8000_0242ac1c0002row6_col21\" class=\"data row6 col21\" >0.0340443</td>\n",
              "                        <td id=\"T_a204ac54_03e6_11ea_8000_0242ac1c0002row6_col22\" class=\"data row6 col22\" >-0.0337708</td>\n",
              "                        <td id=\"T_a204ac54_03e6_11ea_8000_0242ac1c0002row6_col23\" class=\"data row6 col23\" >-0.00725969</td>\n",
              "            </tr>\n",
              "            <tr>\n",
              "                        <th id=\"T_a204ac54_03e6_11ea_8000_0242ac1c0002level0_row7\" class=\"row_heading level0 row7\" >bmi</th>\n",
              "                        <td id=\"T_a204ac54_03e6_11ea_8000_0242ac1c0002row7_col0\" class=\"data row7 col0\" >0.0172642</td>\n",
              "                        <td id=\"T_a204ac54_03e6_11ea_8000_0242ac1c0002row7_col1\" class=\"data row7 col1\" >0.349115</td>\n",
              "                        <td id=\"T_a204ac54_03e6_11ea_8000_0242ac1c0002row7_col2\" class=\"data row7 col2\" >0.153921</td>\n",
              "                        <td id=\"T_a204ac54_03e6_11ea_8000_0242ac1c0002row7_col3\" class=\"data row7 col3\" >0.0570828</td>\n",
              "                        <td id=\"T_a204ac54_03e6_11ea_8000_0242ac1c0002row7_col4\" class=\"data row7 col4\" >0.339788</td>\n",
              "                        <td id=\"T_a204ac54_03e6_11ea_8000_0242ac1c0002row7_col5\" class=\"data row7 col5\" >0.00268303</td>\n",
              "                        <td id=\"T_a204ac54_03e6_11ea_8000_0242ac1c0002row7_col6\" class=\"data row7 col6\" >0.181794</td>\n",
              "                        <td id=\"T_a204ac54_03e6_11ea_8000_0242ac1c0002row7_col7\" class=\"data row7 col7\" >1</td>\n",
              "                        <td id=\"T_a204ac54_03e6_11ea_8000_0242ac1c0002row7_col8\" class=\"data row7 col8\" >0.0184937</td>\n",
              "                        <td id=\"T_a204ac54_03e6_11ea_8000_0242ac1c0002row7_col9\" class=\"data row7 col9\" >-0.450905</td>\n",
              "                        <td id=\"T_a204ac54_03e6_11ea_8000_0242ac1c0002row7_col10\" class=\"data row7 col10\" >0.191899</td>\n",
              "                        <td id=\"T_a204ac54_03e6_11ea_8000_0242ac1c0002row7_col11\" class=\"data row7 col11\" >-0.0189874</td>\n",
              "                        <td id=\"T_a204ac54_03e6_11ea_8000_0242ac1c0002row7_col12\" class=\"data row7 col12\" >0.0844988</td>\n",
              "                        <td id=\"T_a204ac54_03e6_11ea_8000_0242ac1c0002row7_col13\" class=\"data row7 col13\" >0.095882</td>\n",
              "                        <td id=\"T_a204ac54_03e6_11ea_8000_0242ac1c0002row7_col14\" class=\"data row7 col14\" >0.230895</td>\n",
              "                        <td id=\"T_a204ac54_03e6_11ea_8000_0242ac1c0002row7_col15\" class=\"data row7 col15\" >-0.271248</td>\n",
              "                        <td id=\"T_a204ac54_03e6_11ea_8000_0242ac1c0002row7_col16\" class=\"data row7 col16\" >0.108983</td>\n",
              "                        <td id=\"T_a204ac54_03e6_11ea_8000_0242ac1c0002row7_col17\" class=\"data row7 col17\" >0.119922</td>\n",
              "                        <td id=\"T_a204ac54_03e6_11ea_8000_0242ac1c0002row7_col18\" class=\"data row7 col18\" >0.0753261</td>\n",
              "                        <td id=\"T_a204ac54_03e6_11ea_8000_0242ac1c0002row7_col19\" class=\"data row7 col19\" >-0.00268303</td>\n",
              "                        <td id=\"T_a204ac54_03e6_11ea_8000_0242ac1c0002row7_col20\" class=\"data row7 col20\" >-0.0224725</td>\n",
              "                        <td id=\"T_a204ac54_03e6_11ea_8000_0242ac1c0002row7_col21\" class=\"data row7 col21\" >-0.0228507</td>\n",
              "                        <td id=\"T_a204ac54_03e6_11ea_8000_0242ac1c0002row7_col22\" class=\"data row7 col22\" >0.0228015</td>\n",
              "                        <td id=\"T_a204ac54_03e6_11ea_8000_0242ac1c0002row7_col23\" class=\"data row7 col23\" >0.00124868</td>\n",
              "            </tr>\n",
              "            <tr>\n",
              "                        <th id=\"T_a204ac54_03e6_11ea_8000_0242ac1c0002level0_row8\" class=\"row_heading level0 row8\" >stroke</th>\n",
              "                        <td id=\"T_a204ac54_03e6_11ea_8000_0242ac1c0002row8_col0\" class=\"data row8 col0\" >0.00736639</td>\n",
              "                        <td id=\"T_a204ac54_03e6_11ea_8000_0242ac1c0002row8_col1\" class=\"data row8 col1\" >0.152684</td>\n",
              "                        <td id=\"T_a204ac54_03e6_11ea_8000_0242ac1c0002row8_col2\" class=\"data row8 col2\" >0.0734252</td>\n",
              "                        <td id=\"T_a204ac54_03e6_11ea_8000_0242ac1c0002row8_col3\" class=\"data row8 col3\" >0.101548</td>\n",
              "                        <td id=\"T_a204ac54_03e6_11ea_8000_0242ac1c0002row8_col4\" class=\"data row8 col4\" >0.0696781</td>\n",
              "                        <td id=\"T_a204ac54_03e6_11ea_8000_0242ac1c0002row8_col5\" class=\"data row8 col5\" >-0.00279046</td>\n",
              "                        <td id=\"T_a204ac54_03e6_11ea_8000_0242ac1c0002row8_col6\" class=\"data row8 col6\" >0.0874264</td>\n",
              "                        <td id=\"T_a204ac54_03e6_11ea_8000_0242ac1c0002row8_col7\" class=\"data row8 col7\" >0.0184937</td>\n",
              "                        <td id=\"T_a204ac54_03e6_11ea_8000_0242ac1c0002row8_col8\" class=\"data row8 col8\" >1</td>\n",
              "                        <td id=\"T_a204ac54_03e6_11ea_8000_0242ac1c0002row8_col9\" class=\"data row8 col9\" >-0.0525561</td>\n",
              "                        <td id=\"T_a204ac54_03e6_11ea_8000_0242ac1c0002row8_col10\" class=\"data row8 col10\" >0.00398609</td>\n",
              "                        <td id=\"T_a204ac54_03e6_11ea_8000_0242ac1c0002row8_col11\" class=\"data row8 col11\" >-0.0083187</td>\n",
              "                        <td id=\"T_a204ac54_03e6_11ea_8000_0242ac1c0002row8_col12\" class=\"data row8 col12\" >0.0470445</td>\n",
              "                        <td id=\"T_a204ac54_03e6_11ea_8000_0242ac1c0002row8_col13\" class=\"data row8 col13\" >-0.000913844</td>\n",
              "                        <td id=\"T_a204ac54_03e6_11ea_8000_0242ac1c0002row8_col14\" class=\"data row8 col14\" >0.0417432</td>\n",
              "                        <td id=\"T_a204ac54_03e6_11ea_8000_0242ac1c0002row8_col15\" class=\"data row8 col15\" >-0.0313579</td>\n",
              "                        <td id=\"T_a204ac54_03e6_11ea_8000_0242ac1c0002row8_col16\" class=\"data row8 col16\" >-0.00247592</td>\n",
              "                        <td id=\"T_a204ac54_03e6_11ea_8000_0242ac1c0002row8_col17\" class=\"data row8 col17\" >0.0350963</td>\n",
              "                        <td id=\"T_a204ac54_03e6_11ea_8000_0242ac1c0002row8_col18\" class=\"data row8 col18\" >0.00661584</td>\n",
              "                        <td id=\"T_a204ac54_03e6_11ea_8000_0242ac1c0002row8_col19\" class=\"data row8 col19\" >0.00279046</td>\n",
              "                        <td id=\"T_a204ac54_03e6_11ea_8000_0242ac1c0002row8_col20\" class=\"data row8 col20\" >0.0102607</td>\n",
              "                        <td id=\"T_a204ac54_03e6_11ea_8000_0242ac1c0002row8_col21\" class=\"data row8 col21\" >0.0100003</td>\n",
              "                        <td id=\"T_a204ac54_03e6_11ea_8000_0242ac1c0002row8_col22\" class=\"data row8 col22\" >-0.00990826</td>\n",
              "                        <td id=\"T_a204ac54_03e6_11ea_8000_0242ac1c0002row8_col23\" class=\"data row8 col23\" >-0.00244875</td>\n",
              "            </tr>\n",
              "            <tr>\n",
              "                        <th id=\"T_a204ac54_03e6_11ea_8000_0242ac1c0002level0_row9\" class=\"row_heading level0 row9\" >work_type_is_children</th>\n",
              "                        <td id=\"T_a204ac54_03e6_11ea_8000_0242ac1c0002row9_col0\" class=\"data row9 col0\" >-0.0231707</td>\n",
              "                        <td id=\"T_a204ac54_03e6_11ea_8000_0242ac1c0002row9_col1\" class=\"data row9 col1\" >-0.638318</td>\n",
              "                        <td id=\"T_a204ac54_03e6_11ea_8000_0242ac1c0002row9_col2\" class=\"data row9 col2\" >-0.129489</td>\n",
              "                        <td id=\"T_a204ac54_03e6_11ea_8000_0242ac1c0002row9_col3\" class=\"data row9 col3\" >-0.0893774</td>\n",
              "                        <td id=\"T_a204ac54_03e6_11ea_8000_0242ac1c0002row9_col4\" class=\"data row9 col4\" >-0.543941</td>\n",
              "                        <td id=\"T_a204ac54_03e6_11ea_8000_0242ac1c0002row9_col5\" class=\"data row9 col5\" >0.00381615</td>\n",
              "                        <td id=\"T_a204ac54_03e6_11ea_8000_0242ac1c0002row9_col6\" class=\"data row9 col6\" >-0.111774</td>\n",
              "                        <td id=\"T_a204ac54_03e6_11ea_8000_0242ac1c0002row9_col7\" class=\"data row9 col7\" >-0.450905</td>\n",
              "                        <td id=\"T_a204ac54_03e6_11ea_8000_0242ac1c0002row9_col8\" class=\"data row9 col8\" >-0.0525561</td>\n",
              "                        <td id=\"T_a204ac54_03e6_11ea_8000_0242ac1c0002row9_col9\" class=\"data row9 col9\" >1</td>\n",
              "                        <td id=\"T_a204ac54_03e6_11ea_8000_0242ac1c0002row9_col10\" class=\"data row9 col10\" >-0.467539</td>\n",
              "                        <td id=\"T_a204ac54_03e6_11ea_8000_0242ac1c0002row9_col11\" class=\"data row9 col11\" >-0.0249861</td>\n",
              "                        <td id=\"T_a204ac54_03e6_11ea_8000_0242ac1c0002row9_col12\" class=\"data row9 col12\" >-0.173036</td>\n",
              "                        <td id=\"T_a204ac54_03e6_11ea_8000_0242ac1c0002row9_col13\" class=\"data row9 col13\" >-0.153489</td>\n",
              "                        <td id=\"T_a204ac54_03e6_11ea_8000_0242ac1c0002row9_col14\" class=\"data row9 col14\" >-0.39812</td>\n",
              "                        <td id=\"T_a204ac54_03e6_11ea_8000_0242ac1c0002row9_col15\" class=\"data row9 col15\" >0.51538</td>\n",
              "                        <td id=\"T_a204ac54_03e6_11ea_8000_0242ac1c0002row9_col16\" class=\"data row9 col16\" >-0.236071</td>\n",
              "                        <td id=\"T_a204ac54_03e6_11ea_8000_0242ac1c0002row9_col17\" class=\"data row9 col17\" >-0.16601</td>\n",
              "                        <td id=\"T_a204ac54_03e6_11ea_8000_0242ac1c0002row9_col18\" class=\"data row9 col18\" >-0.169256</td>\n",
              "                        <td id=\"T_a204ac54_03e6_11ea_8000_0242ac1c0002row9_col19\" class=\"data row9 col19\" >-0.00381615</td>\n",
              "                        <td id=\"T_a204ac54_03e6_11ea_8000_0242ac1c0002row9_col20\" class=\"data row9 col20\" >0.0895023</td>\n",
              "                        <td id=\"T_a204ac54_03e6_11ea_8000_0242ac1c0002row9_col21\" class=\"data row9 col21\" >0.0916739</td>\n",
              "                        <td id=\"T_a204ac54_03e6_11ea_8000_0242ac1c0002row9_col22\" class=\"data row9 col22\" >-0.0915853</td>\n",
              "                        <td id=\"T_a204ac54_03e6_11ea_8000_0242ac1c0002row9_col23\" class=\"data row9 col23\" >-0.00208623</td>\n",
              "            </tr>\n",
              "            <tr>\n",
              "                        <th id=\"T_a204ac54_03e6_11ea_8000_0242ac1c0002level0_row10\" class=\"row_heading level0 row10\" >work_type_is_Private</th>\n",
              "                        <td id=\"T_a204ac54_03e6_11ea_8000_0242ac1c0002row10_col0\" class=\"data row10 col0\" >0.0104678</td>\n",
              "                        <td id=\"T_a204ac54_03e6_11ea_8000_0242ac1c0002row10_col1\" class=\"data row10 col1\" >0.139042</td>\n",
              "                        <td id=\"T_a204ac54_03e6_11ea_8000_0242ac1c0002row10_col2\" class=\"data row10 col2\" >-0.00202975</td>\n",
              "                        <td id=\"T_a204ac54_03e6_11ea_8000_0242ac1c0002row10_col3\" class=\"data row10 col3\" >-0.00526293</td>\n",
              "                        <td id=\"T_a204ac54_03e6_11ea_8000_0242ac1c0002row10_col4\" class=\"data row10 col4\" >0.155254</td>\n",
              "                        <td id=\"T_a204ac54_03e6_11ea_8000_0242ac1c0002row10_col5\" class=\"data row10 col5\" >-0.00286013</td>\n",
              "                        <td id=\"T_a204ac54_03e6_11ea_8000_0242ac1c0002row10_col6\" class=\"data row10 col6\" >0.0099759</td>\n",
              "                        <td id=\"T_a204ac54_03e6_11ea_8000_0242ac1c0002row10_col7\" class=\"data row10 col7\" >0.191899</td>\n",
              "                        <td id=\"T_a204ac54_03e6_11ea_8000_0242ac1c0002row10_col8\" class=\"data row10 col8\" >0.00398609</td>\n",
              "                        <td id=\"T_a204ac54_03e6_11ea_8000_0242ac1c0002row10_col9\" class=\"data row10 col9\" >-0.467539</td>\n",
              "                        <td id=\"T_a204ac54_03e6_11ea_8000_0242ac1c0002row10_col10\" class=\"data row10 col10\" >1</td>\n",
              "                        <td id=\"T_a204ac54_03e6_11ea_8000_0242ac1c0002row10_col11\" class=\"data row10 col11\" >-0.0720028</td>\n",
              "                        <td id=\"T_a204ac54_03e6_11ea_8000_0242ac1c0002row10_col12\" class=\"data row10 col12\" >-0.498639</td>\n",
              "                        <td id=\"T_a204ac54_03e6_11ea_8000_0242ac1c0002row10_col13\" class=\"data row10 col13\" >-0.442312</td>\n",
              "                        <td id=\"T_a204ac54_03e6_11ea_8000_0242ac1c0002row10_col14\" class=\"data row10 col14\" >0.154529</td>\n",
              "                        <td id=\"T_a204ac54_03e6_11ea_8000_0242ac1c0002row10_col15\" class=\"data row10 col15\" >-0.233458</td>\n",
              "                        <td id=\"T_a204ac54_03e6_11ea_8000_0242ac1c0002row10_col16\" class=\"data row10 col16\" >0.124427</td>\n",
              "                        <td id=\"T_a204ac54_03e6_11ea_8000_0242ac1c0002row10_col17\" class=\"data row10 col17\" >0.0354928</td>\n",
              "                        <td id=\"T_a204ac54_03e6_11ea_8000_0242ac1c0002row10_col18\" class=\"data row10 col18\" >0.0949634</td>\n",
              "                        <td id=\"T_a204ac54_03e6_11ea_8000_0242ac1c0002row10_col19\" class=\"data row10 col19\" >0.00286013</td>\n",
              "                        <td id=\"T_a204ac54_03e6_11ea_8000_0242ac1c0002row10_col20\" class=\"data row10 col20\" >-0.0502256</td>\n",
              "                        <td id=\"T_a204ac54_03e6_11ea_8000_0242ac1c0002row10_col21\" class=\"data row10 col21\" >-0.0506415</td>\n",
              "                        <td id=\"T_a204ac54_03e6_11ea_8000_0242ac1c0002row10_col22\" class=\"data row10 col22\" >0.0504626</td>\n",
              "                        <td id=\"T_a204ac54_03e6_11ea_8000_0242ac1c0002row10_col23\" class=\"data row10 col23\" >0.00465348</td>\n",
              "            </tr>\n",
              "            <tr>\n",
              "                        <th id=\"T_a204ac54_03e6_11ea_8000_0242ac1c0002level0_row11\" class=\"row_heading level0 row11\" >work_type_is_Never_worked</th>\n",
              "                        <td id=\"T_a204ac54_03e6_11ea_8000_0242ac1c0002row11_col0\" class=\"data row11 col0\" >0.0030009</td>\n",
              "                        <td id=\"T_a204ac54_03e6_11ea_8000_0242ac1c0002row11_col1\" class=\"data row11 col1\" >-0.0672996</td>\n",
              "                        <td id=\"T_a204ac54_03e6_11ea_8000_0242ac1c0002row11_col2\" class=\"data row11 col2\" >-0.0181993</td>\n",
              "                        <td id=\"T_a204ac54_03e6_11ea_8000_0242ac1c0002row11_col3\" class=\"data row11 col3\" >-0.0139032</td>\n",
              "                        <td id=\"T_a204ac54_03e6_11ea_8000_0242ac1c0002row11_col4\" class=\"data row11 col4\" >-0.0781295</td>\n",
              "                        <td id=\"T_a204ac54_03e6_11ea_8000_0242ac1c0002row11_col5\" class=\"data row11 col5\" >-0.00474096</td>\n",
              "                        <td id=\"T_a204ac54_03e6_11ea_8000_0242ac1c0002row11_col6\" class=\"data row11 col6\" >-0.0140917</td>\n",
              "                        <td id=\"T_a204ac54_03e6_11ea_8000_0242ac1c0002row11_col7\" class=\"data row11 col7\" >-0.0189874</td>\n",
              "                        <td id=\"T_a204ac54_03e6_11ea_8000_0242ac1c0002row11_col8\" class=\"data row11 col8\" >-0.0083187</td>\n",
              "                        <td id=\"T_a204ac54_03e6_11ea_8000_0242ac1c0002row11_col9\" class=\"data row11 col9\" >-0.0249861</td>\n",
              "                        <td id=\"T_a204ac54_03e6_11ea_8000_0242ac1c0002row11_col10\" class=\"data row11 col10\" >-0.0720028</td>\n",
              "                        <td id=\"T_a204ac54_03e6_11ea_8000_0242ac1c0002row11_col11\" class=\"data row11 col11\" >1</td>\n",
              "                        <td id=\"T_a204ac54_03e6_11ea_8000_0242ac1c0002row11_col12\" class=\"data row11 col12\" >-0.0266482</td>\n",
              "                        <td id=\"T_a204ac54_03e6_11ea_8000_0242ac1c0002row11_col13\" class=\"data row11 col13\" >-0.0236379</td>\n",
              "                        <td id=\"T_a204ac54_03e6_11ea_8000_0242ac1c0002row11_col14\" class=\"data row11 col14\" >-0.0250257</td>\n",
              "                        <td id=\"T_a204ac54_03e6_11ea_8000_0242ac1c0002row11_col15\" class=\"data row11 col15\" >0.0173569</td>\n",
              "                        <td id=\"T_a204ac54_03e6_11ea_8000_0242ac1c0002row11_col16\" class=\"data row11 col16\" >0.012889</td>\n",
              "                        <td id=\"T_a204ac54_03e6_11ea_8000_0242ac1c0002row11_col17\" class=\"data row11 col17\" >-0.01836</td>\n",
              "                        <td id=\"T_a204ac54_03e6_11ea_8000_0242ac1c0002row11_col18\" class=\"data row11 col18\" >-0.0202641</td>\n",
              "                        <td id=\"T_a204ac54_03e6_11ea_8000_0242ac1c0002row11_col19\" class=\"data row11 col19\" >0.00474096</td>\n",
              "                        <td id=\"T_a204ac54_03e6_11ea_8000_0242ac1c0002row11_col20\" class=\"data row11 col20\" >0.00429414</td>\n",
              "                        <td id=\"T_a204ac54_03e6_11ea_8000_0242ac1c0002row11_col21\" class=\"data row11 col21\" >0.00416032</td>\n",
              "                        <td id=\"T_a204ac54_03e6_11ea_8000_0242ac1c0002row11_col22\" class=\"data row11 col22\" >-0.00411778</td>\n",
              "                        <td id=\"T_a204ac54_03e6_11ea_8000_0242ac1c0002row11_col23\" class=\"data row11 col23\" >-0.00113271</td>\n",
              "            </tr>\n",
              "            <tr>\n",
              "                        <th id=\"T_a204ac54_03e6_11ea_8000_0242ac1c0002level0_row12\" class=\"row_heading level0 row12\" >work_type_is_Self-employed</th>\n",
              "                        <td id=\"T_a204ac54_03e6_11ea_8000_0242ac1c0002row12_col0\" class=\"data row12 col0\" >0.00890824</td>\n",
              "                        <td id=\"T_a204ac54_03e6_11ea_8000_0242ac1c0002row12_col1\" class=\"data row12 col1\" >0.323558</td>\n",
              "                        <td id=\"T_a204ac54_03e6_11ea_8000_0242ac1c0002row12_col2\" class=\"data row12 col2\" >0.108435</td>\n",
              "                        <td id=\"T_a204ac54_03e6_11ea_8000_0242ac1c0002row12_col3\" class=\"data row12 col3\" >0.102257</td>\n",
              "                        <td id=\"T_a204ac54_03e6_11ea_8000_0242ac1c0002row12_col4\" class=\"data row12 col4\" >0.1932</td>\n",
              "                        <td id=\"T_a204ac54_03e6_11ea_8000_0242ac1c0002row12_col5\" class=\"data row12 col5\" >0.00225812</td>\n",
              "                        <td id=\"T_a204ac54_03e6_11ea_8000_0242ac1c0002row12_col6\" class=\"data row12 col6\" >0.0796244</td>\n",
              "                        <td id=\"T_a204ac54_03e6_11ea_8000_0242ac1c0002row12_col7\" class=\"data row12 col7\" >0.0844988</td>\n",
              "                        <td id=\"T_a204ac54_03e6_11ea_8000_0242ac1c0002row12_col8\" class=\"data row12 col8\" >0.0470445</td>\n",
              "                        <td id=\"T_a204ac54_03e6_11ea_8000_0242ac1c0002row12_col9\" class=\"data row12 col9\" >-0.173036</td>\n",
              "                        <td id=\"T_a204ac54_03e6_11ea_8000_0242ac1c0002row12_col10\" class=\"data row12 col10\" >-0.498639</td>\n",
              "                        <td id=\"T_a204ac54_03e6_11ea_8000_0242ac1c0002row12_col11\" class=\"data row12 col11\" >-0.0266482</td>\n",
              "                        <td id=\"T_a204ac54_03e6_11ea_8000_0242ac1c0002row12_col12\" class=\"data row12 col12\" >1</td>\n",
              "                        <td id=\"T_a204ac54_03e6_11ea_8000_0242ac1c0002row12_col13\" class=\"data row12 col13\" >-0.163699</td>\n",
              "                        <td id=\"T_a204ac54_03e6_11ea_8000_0242ac1c0002row12_col14\" class=\"data row12 col14\" >0.108299</td>\n",
              "                        <td id=\"T_a204ac54_03e6_11ea_8000_0242ac1c0002row12_col15\" class=\"data row12 col15\" >-0.09606</td>\n",
              "                        <td id=\"T_a204ac54_03e6_11ea_8000_0242ac1c0002row12_col16\" class=\"data row12 col16\" >0.0199869</td>\n",
              "                        <td id=\"T_a204ac54_03e6_11ea_8000_0242ac1c0002row12_col17\" class=\"data row12 col17\" >0.0830302</td>\n",
              "                        <td id=\"T_a204ac54_03e6_11ea_8000_0242ac1c0002row12_col18\" class=\"data row12 col18\" >0.00898551</td>\n",
              "                        <td id=\"T_a204ac54_03e6_11ea_8000_0242ac1c0002row12_col19\" class=\"data row12 col19\" >-0.00225812</td>\n",
              "                        <td id=\"T_a204ac54_03e6_11ea_8000_0242ac1c0002row12_col20\" class=\"data row12 col20\" >-0.00271031</td>\n",
              "                        <td id=\"T_a204ac54_03e6_11ea_8000_0242ac1c0002row12_col21\" class=\"data row12 col21\" >-0.00459868</td>\n",
              "                        <td id=\"T_a204ac54_03e6_11ea_8000_0242ac1c0002row12_col22\" class=\"data row12 col22\" >0.00488916</td>\n",
              "                        <td id=\"T_a204ac54_03e6_11ea_8000_0242ac1c0002row12_col23\" class=\"data row12 col23\" >-0.00784435</td>\n",
              "            </tr>\n",
              "            <tr>\n",
              "                        <th id=\"T_a204ac54_03e6_11ea_8000_0242ac1c0002level0_row13\" class=\"row_heading level0 row13\" >work_type_is_Govt_job</th>\n",
              "                        <td id=\"T_a204ac54_03e6_11ea_8000_0242ac1c0002row13_col0\" class=\"data row13 col0\" >-0.00168967</td>\n",
              "                        <td id=\"T_a204ac54_03e6_11ea_8000_0242ac1c0002row13_col1\" class=\"data row13 col1\" >0.118051</td>\n",
              "                        <td id=\"T_a204ac54_03e6_11ea_8000_0242ac1c0002row13_col2\" class=\"data row13 col2\" >0.0230801</td>\n",
              "                        <td id=\"T_a204ac54_03e6_11ea_8000_0242ac1c0002row13_col3\" class=\"data row13 col3\" >-0.00795716</td>\n",
              "                        <td id=\"T_a204ac54_03e6_11ea_8000_0242ac1c0002row13_col4\" class=\"data row13 col4\" >0.13975</td>\n",
              "                        <td id=\"T_a204ac54_03e6_11ea_8000_0242ac1c0002row13_col5\" class=\"data row13 col5\" >-0.00130489</td>\n",
              "                        <td id=\"T_a204ac54_03e6_11ea_8000_0242ac1c0002row13_col6\" class=\"data row13 col6\" >0.0174259</td>\n",
              "                        <td id=\"T_a204ac54_03e6_11ea_8000_0242ac1c0002row13_col7\" class=\"data row13 col7\" >0.095882</td>\n",
              "                        <td id=\"T_a204ac54_03e6_11ea_8000_0242ac1c0002row13_col8\" class=\"data row13 col8\" >-0.000913844</td>\n",
              "                        <td id=\"T_a204ac54_03e6_11ea_8000_0242ac1c0002row13_col9\" class=\"data row13 col9\" >-0.153489</td>\n",
              "                        <td id=\"T_a204ac54_03e6_11ea_8000_0242ac1c0002row13_col10\" class=\"data row13 col10\" >-0.442312</td>\n",
              "                        <td id=\"T_a204ac54_03e6_11ea_8000_0242ac1c0002row13_col11\" class=\"data row13 col11\" >-0.0236379</td>\n",
              "                        <td id=\"T_a204ac54_03e6_11ea_8000_0242ac1c0002row13_col12\" class=\"data row13 col12\" >-0.163699</td>\n",
              "                        <td id=\"T_a204ac54_03e6_11ea_8000_0242ac1c0002row13_col13\" class=\"data row13 col13\" >1</td>\n",
              "                        <td id=\"T_a204ac54_03e6_11ea_8000_0242ac1c0002row13_col14\" class=\"data row13 col14\" >0.0716228</td>\n",
              "                        <td id=\"T_a204ac54_03e6_11ea_8000_0242ac1c0002row13_col15\" class=\"data row13 col15\" >-0.0883705</td>\n",
              "                        <td id=\"T_a204ac54_03e6_11ea_8000_0242ac1c0002row13_col16\" class=\"data row13 col16\" >0.0367868</td>\n",
              "                        <td id=\"T_a204ac54_03e6_11ea_8000_0242ac1c0002row13_col17\" class=\"data row13 col17\" >0.0330743</td>\n",
              "                        <td id=\"T_a204ac54_03e6_11ea_8000_0242ac1c0002row13_col18\" class=\"data row13 col18\" >0.0291308</td>\n",
              "                        <td id=\"T_a204ac54_03e6_11ea_8000_0242ac1c0002row13_col19\" class=\"data row13 col19\" >0.00130489</td>\n",
              "                        <td id=\"T_a204ac54_03e6_11ea_8000_0242ac1c0002row13_col20\" class=\"data row13 col20\" >-0.0164227</td>\n",
              "                        <td id=\"T_a204ac54_03e6_11ea_8000_0242ac1c0002row13_col21\" class=\"data row13 col21\" >-0.0159835</td>\n",
              "                        <td id=\"T_a204ac54_03e6_11ea_8000_0242ac1c0002row13_col22\" class=\"data row13 col22\" >0.0158325</td>\n",
              "                        <td id=\"T_a204ac54_03e6_11ea_8000_0242ac1c0002row13_col23\" class=\"data row13 col23\" >0.00401726</td>\n",
              "            </tr>\n",
              "            <tr>\n",
              "                        <th id=\"T_a204ac54_03e6_11ea_8000_0242ac1c0002level0_row14\" class=\"row_heading level0 row14\" >smoking_status_target_enc</th>\n",
              "                        <td id=\"T_a204ac54_03e6_11ea_8000_0242ac1c0002row14_col0\" class=\"data row14 col0\" >0.016353</td>\n",
              "                        <td id=\"T_a204ac54_03e6_11ea_8000_0242ac1c0002row14_col1\" class=\"data row14 col1\" >0.371383</td>\n",
              "                        <td id=\"T_a204ac54_03e6_11ea_8000_0242ac1c0002row14_col2\" class=\"data row14 col2\" >0.117109</td>\n",
              "                        <td id=\"T_a204ac54_03e6_11ea_8000_0242ac1c0002row14_col3\" class=\"data row14 col3\" >0.094484</td>\n",
              "                        <td id=\"T_a204ac54_03e6_11ea_8000_0242ac1c0002row14_col4\" class=\"data row14 col4\" >0.29752</td>\n",
              "                        <td id=\"T_a204ac54_03e6_11ea_8000_0242ac1c0002row14_col5\" class=\"data row14 col5\" >-4.29609e-05</td>\n",
              "                        <td id=\"T_a204ac54_03e6_11ea_8000_0242ac1c0002row14_col6\" class=\"data row14 col6\" >0.104047</td>\n",
              "                        <td id=\"T_a204ac54_03e6_11ea_8000_0242ac1c0002row14_col7\" class=\"data row14 col7\" >0.230895</td>\n",
              "                        <td id=\"T_a204ac54_03e6_11ea_8000_0242ac1c0002row14_col8\" class=\"data row14 col8\" >0.0417432</td>\n",
              "                        <td id=\"T_a204ac54_03e6_11ea_8000_0242ac1c0002row14_col9\" class=\"data row14 col9\" >-0.39812</td>\n",
              "                        <td id=\"T_a204ac54_03e6_11ea_8000_0242ac1c0002row14_col10\" class=\"data row14 col10\" >0.154529</td>\n",
              "                        <td id=\"T_a204ac54_03e6_11ea_8000_0242ac1c0002row14_col11\" class=\"data row14 col11\" >-0.0250257</td>\n",
              "                        <td id=\"T_a204ac54_03e6_11ea_8000_0242ac1c0002row14_col12\" class=\"data row14 col12\" >0.108299</td>\n",
              "                        <td id=\"T_a204ac54_03e6_11ea_8000_0242ac1c0002row14_col13\" class=\"data row14 col13\" >0.0716228</td>\n",
              "                        <td id=\"T_a204ac54_03e6_11ea_8000_0242ac1c0002row14_col14\" class=\"data row14 col14\" >1</td>\n",
              "                        <td id=\"T_a204ac54_03e6_11ea_8000_0242ac1c0002row14_col15\" class=\"data row14 col15\" >-0.75121</td>\n",
              "                        <td id=\"T_a204ac54_03e6_11ea_8000_0242ac1c0002row14_col16\" class=\"data row14 col16\" >-0.059313</td>\n",
              "                        <td id=\"T_a204ac54_03e6_11ea_8000_0242ac1c0002row14_col17\" class=\"data row14 col17\" >0.840767</td>\n",
              "                        <td id=\"T_a204ac54_03e6_11ea_8000_0242ac1c0002row14_col18\" class=\"data row14 col18\" >0.158489</td>\n",
              "                        <td id=\"T_a204ac54_03e6_11ea_8000_0242ac1c0002row14_col19\" class=\"data row14 col19\" >4.29609e-05</td>\n",
              "                        <td id=\"T_a204ac54_03e6_11ea_8000_0242ac1c0002row14_col20\" class=\"data row14 col20\" >-0.00151522</td>\n",
              "                        <td id=\"T_a204ac54_03e6_11ea_8000_0242ac1c0002row14_col21\" class=\"data row14 col21\" >0.00145116</td>\n",
              "                        <td id=\"T_a204ac54_03e6_11ea_8000_0242ac1c0002row14_col22\" class=\"data row14 col22\" >-0.00193572</td>\n",
              "                        <td id=\"T_a204ac54_03e6_11ea_8000_0242ac1c0002row14_col23\" class=\"data row14 col23\" >0.0130647</td>\n",
              "            </tr>\n",
              "            <tr>\n",
              "                        <th id=\"T_a204ac54_03e6_11ea_8000_0242ac1c0002level0_row15\" class=\"row_heading level0 row15\" >smoking_status_is_no data</th>\n",
              "                        <td id=\"T_a204ac54_03e6_11ea_8000_0242ac1c0002row15_col0\" class=\"data row15 col0\" >-0.018663</td>\n",
              "                        <td id=\"T_a204ac54_03e6_11ea_8000_0242ac1c0002row15_col1\" class=\"data row15 col1\" >-0.374952</td>\n",
              "                        <td id=\"T_a204ac54_03e6_11ea_8000_0242ac1c0002row15_col2\" class=\"data row15 col2\" >-0.11854</td>\n",
              "                        <td id=\"T_a204ac54_03e6_11ea_8000_0242ac1c0002row15_col3\" class=\"data row15 col3\" >-0.0592878</td>\n",
              "                        <td id=\"T_a204ac54_03e6_11ea_8000_0242ac1c0002row15_col4\" class=\"data row15 col4\" >-0.322222</td>\n",
              "                        <td id=\"T_a204ac54_03e6_11ea_8000_0242ac1c0002row15_col5\" class=\"data row15 col5\" >0.00613607</td>\n",
              "                        <td id=\"T_a204ac54_03e6_11ea_8000_0242ac1c0002row15_col6\" class=\"data row15 col6\" >-0.0944188</td>\n",
              "                        <td id=\"T_a204ac54_03e6_11ea_8000_0242ac1c0002row15_col7\" class=\"data row15 col7\" >-0.271248</td>\n",
              "                        <td id=\"T_a204ac54_03e6_11ea_8000_0242ac1c0002row15_col8\" class=\"data row15 col8\" >-0.0313579</td>\n",
              "                        <td id=\"T_a204ac54_03e6_11ea_8000_0242ac1c0002row15_col9\" class=\"data row15 col9\" >0.51538</td>\n",
              "                        <td id=\"T_a204ac54_03e6_11ea_8000_0242ac1c0002row15_col10\" class=\"data row15 col10\" >-0.233458</td>\n",
              "                        <td id=\"T_a204ac54_03e6_11ea_8000_0242ac1c0002row15_col11\" class=\"data row15 col11\" >0.0173569</td>\n",
              "                        <td id=\"T_a204ac54_03e6_11ea_8000_0242ac1c0002row15_col12\" class=\"data row15 col12\" >-0.09606</td>\n",
              "                        <td id=\"T_a204ac54_03e6_11ea_8000_0242ac1c0002row15_col13\" class=\"data row15 col13\" >-0.0883705</td>\n",
              "                        <td id=\"T_a204ac54_03e6_11ea_8000_0242ac1c0002row15_col14\" class=\"data row15 col14\" >-0.75121</td>\n",
              "                        <td id=\"T_a204ac54_03e6_11ea_8000_0242ac1c0002row15_col15\" class=\"data row15 col15\" >1</td>\n",
              "                        <td id=\"T_a204ac54_03e6_11ea_8000_0242ac1c0002row15_col16\" class=\"data row15 col16\" >-0.507927</td>\n",
              "                        <td id=\"T_a204ac54_03e6_11ea_8000_0242ac1c0002row15_col17\" class=\"data row15 col17\" >-0.303348</td>\n",
              "                        <td id=\"T_a204ac54_03e6_11ea_8000_0242ac1c0002row15_col18\" class=\"data row15 col18\" >-0.281137</td>\n",
              "                        <td id=\"T_a204ac54_03e6_11ea_8000_0242ac1c0002row15_col19\" class=\"data row15 col19\" >-0.00613607</td>\n",
              "                        <td id=\"T_a204ac54_03e6_11ea_8000_0242ac1c0002row15_col20\" class=\"data row15 col20\" >0.0605506</td>\n",
              "                        <td id=\"T_a204ac54_03e6_11ea_8000_0242ac1c0002row15_col21\" class=\"data row15 col21\" >0.0613781</td>\n",
              "                        <td id=\"T_a204ac54_03e6_11ea_8000_0242ac1c0002row15_col22\" class=\"data row15 col22\" >-0.0612149</td>\n",
              "                        <td id=\"T_a204ac54_03e6_11ea_8000_0242ac1c0002row15_col23\" class=\"data row15 col23\" >-0.00419506</td>\n",
              "            </tr>\n",
              "            <tr>\n",
              "                        <th id=\"T_a204ac54_03e6_11ea_8000_0242ac1c0002level0_row16\" class=\"row_heading level0 row16\" >smoking_status_is_never smoked</th>\n",
              "                        <td id=\"T_a204ac54_03e6_11ea_8000_0242ac1c0002row16_col0\" class=\"data row16 col0\" >0.00730014</td>\n",
              "                        <td id=\"T_a204ac54_03e6_11ea_8000_0242ac1c0002row16_col1\" class=\"data row16 col1\" >0.106128</td>\n",
              "                        <td id=\"T_a204ac54_03e6_11ea_8000_0242ac1c0002row16_col2\" class=\"data row16 col2\" >0.0339235</td>\n",
              "                        <td id=\"T_a204ac54_03e6_11ea_8000_0242ac1c0002row16_col3\" class=\"data row16 col3\" >-0.0346053</td>\n",
              "                        <td id=\"T_a204ac54_03e6_11ea_8000_0242ac1c0002row16_col4\" class=\"data row16 col4\" >0.0949776</td>\n",
              "                        <td id=\"T_a204ac54_03e6_11ea_8000_0242ac1c0002row16_col5\" class=\"data row16 col5\" >-0.00308652</td>\n",
              "                        <td id=\"T_a204ac54_03e6_11ea_8000_0242ac1c0002row16_col6\" class=\"data row16 col6\" >0.0123528</td>\n",
              "                        <td id=\"T_a204ac54_03e6_11ea_8000_0242ac1c0002row16_col7\" class=\"data row16 col7\" >0.108983</td>\n",
              "                        <td id=\"T_a204ac54_03e6_11ea_8000_0242ac1c0002row16_col8\" class=\"data row16 col8\" >-0.00247592</td>\n",
              "                        <td id=\"T_a204ac54_03e6_11ea_8000_0242ac1c0002row16_col9\" class=\"data row16 col9\" >-0.236071</td>\n",
              "                        <td id=\"T_a204ac54_03e6_11ea_8000_0242ac1c0002row16_col10\" class=\"data row16 col10\" >0.124427</td>\n",
              "                        <td id=\"T_a204ac54_03e6_11ea_8000_0242ac1c0002row16_col11\" class=\"data row16 col11\" >0.012889</td>\n",
              "                        <td id=\"T_a204ac54_03e6_11ea_8000_0242ac1c0002row16_col12\" class=\"data row16 col12\" >0.0199869</td>\n",
              "                        <td id=\"T_a204ac54_03e6_11ea_8000_0242ac1c0002row16_col13\" class=\"data row16 col13\" >0.0367868</td>\n",
              "                        <td id=\"T_a204ac54_03e6_11ea_8000_0242ac1c0002row16_col14\" class=\"data row16 col14\" >-0.059313</td>\n",
              "                        <td id=\"T_a204ac54_03e6_11ea_8000_0242ac1c0002row16_col15\" class=\"data row16 col15\" >-0.507927</td>\n",
              "                        <td id=\"T_a204ac54_03e6_11ea_8000_0242ac1c0002row16_col16\" class=\"data row16 col16\" >1</td>\n",
              "                        <td id=\"T_a204ac54_03e6_11ea_8000_0242ac1c0002row16_col17\" class=\"data row16 col17\" >-0.349683</td>\n",
              "                        <td id=\"T_a204ac54_03e6_11ea_8000_0242ac1c0002row16_col18\" class=\"data row16 col18\" >-0.324079</td>\n",
              "                        <td id=\"T_a204ac54_03e6_11ea_8000_0242ac1c0002row16_col19\" class=\"data row16 col19\" >0.00308652</td>\n",
              "                        <td id=\"T_a204ac54_03e6_11ea_8000_0242ac1c0002row16_col20\" class=\"data row16 col20\" >-0.101215</td>\n",
              "                        <td id=\"T_a204ac54_03e6_11ea_8000_0242ac1c0002row16_col21\" class=\"data row16 col21\" >-0.105691</td>\n",
              "                        <td id=\"T_a204ac54_03e6_11ea_8000_0242ac1c0002row16_col22\" class=\"data row16 col22\" >0.105915</td>\n",
              "                        <td id=\"T_a204ac54_03e6_11ea_8000_0242ac1c0002row16_col23\" class=\"data row16 col23\" >-0.00640519</td>\n",
              "            </tr>\n",
              "            <tr>\n",
              "                        <th id=\"T_a204ac54_03e6_11ea_8000_0242ac1c0002level0_row17\" class=\"row_heading level0 row17\" >smoking_status_is_formerly smoked</th>\n",
              "                        <td id=\"T_a204ac54_03e6_11ea_8000_0242ac1c0002row17_col0\" class=\"data row17 col0\" >0.00901506</td>\n",
              "                        <td id=\"T_a204ac54_03e6_11ea_8000_0242ac1c0002row17_col1\" class=\"data row17 col1\" >0.24249</td>\n",
              "                        <td id=\"T_a204ac54_03e6_11ea_8000_0242ac1c0002row17_col2\" class=\"data row17 col2\" >0.0762624</td>\n",
              "                        <td id=\"T_a204ac54_03e6_11ea_8000_0242ac1c0002row17_col3\" class=\"data row17 col3\" >0.082667</td>\n",
              "                        <td id=\"T_a204ac54_03e6_11ea_8000_0242ac1c0002row17_col4\" class=\"data row17 col4\" >0.170825</td>\n",
              "                        <td id=\"T_a204ac54_03e6_11ea_8000_0242ac1c0002row17_col5\" class=\"data row17 col5\" >0.00639257</td>\n",
              "                        <td id=\"T_a204ac54_03e6_11ea_8000_0242ac1c0002row17_col6\" class=\"data row17 col6\" >0.0744069</td>\n",
              "                        <td id=\"T_a204ac54_03e6_11ea_8000_0242ac1c0002row17_col7\" class=\"data row17 col7\" >0.119922</td>\n",
              "                        <td id=\"T_a204ac54_03e6_11ea_8000_0242ac1c0002row17_col8\" class=\"data row17 col8\" >0.0350963</td>\n",
              "                        <td id=\"T_a204ac54_03e6_11ea_8000_0242ac1c0002row17_col9\" class=\"data row17 col9\" >-0.16601</td>\n",
              "                        <td id=\"T_a204ac54_03e6_11ea_8000_0242ac1c0002row17_col10\" class=\"data row17 col10\" >0.0354928</td>\n",
              "                        <td id=\"T_a204ac54_03e6_11ea_8000_0242ac1c0002row17_col11\" class=\"data row17 col11\" >-0.01836</td>\n",
              "                        <td id=\"T_a204ac54_03e6_11ea_8000_0242ac1c0002row17_col12\" class=\"data row17 col12\" >0.0830302</td>\n",
              "                        <td id=\"T_a204ac54_03e6_11ea_8000_0242ac1c0002row17_col13\" class=\"data row17 col13\" >0.0330743</td>\n",
              "                        <td id=\"T_a204ac54_03e6_11ea_8000_0242ac1c0002row17_col14\" class=\"data row17 col14\" >0.840767</td>\n",
              "                        <td id=\"T_a204ac54_03e6_11ea_8000_0242ac1c0002row17_col15\" class=\"data row17 col15\" >-0.303348</td>\n",
              "                        <td id=\"T_a204ac54_03e6_11ea_8000_0242ac1c0002row17_col16\" class=\"data row17 col16\" >-0.349683</td>\n",
              "                        <td id=\"T_a204ac54_03e6_11ea_8000_0242ac1c0002row17_col17\" class=\"data row17 col17\" >1</td>\n",
              "                        <td id=\"T_a204ac54_03e6_11ea_8000_0242ac1c0002row17_col18\" class=\"data row17 col18\" >-0.193549</td>\n",
              "                        <td id=\"T_a204ac54_03e6_11ea_8000_0242ac1c0002row17_col19\" class=\"data row17 col19\" >-0.00639257</td>\n",
              "                        <td id=\"T_a204ac54_03e6_11ea_8000_0242ac1c0002row17_col20\" class=\"data row17 col20\" >0.0332705</td>\n",
              "                        <td id=\"T_a204ac54_03e6_11ea_8000_0242ac1c0002row17_col21\" class=\"data row17 col21\" >0.0378997</td>\n",
              "                        <td id=\"T_a204ac54_03e6_11ea_8000_0242ac1c0002row17_col22\" class=\"data row17 col22\" >-0.0384815</td>\n",
              "                        <td id=\"T_a204ac54_03e6_11ea_8000_0242ac1c0002row17_col23\" class=\"data row17 col23\" >0.0158063</td>\n",
              "            </tr>\n",
              "            <tr>\n",
              "                        <th id=\"T_a204ac54_03e6_11ea_8000_0242ac1c0002level0_row18\" class=\"row_heading level0 row18\" >smoking_status_is_smokes</th>\n",
              "                        <td id=\"T_a204ac54_03e6_11ea_8000_0242ac1c0002row18_col0\" class=\"data row18 col0\" >0.00464516</td>\n",
              "                        <td id=\"T_a204ac54_03e6_11ea_8000_0242ac1c0002row18_col1\" class=\"data row18 col1\" >0.0831952</td>\n",
              "                        <td id=\"T_a204ac54_03e6_11ea_8000_0242ac1c0002row18_col2\" class=\"data row18 col2\" >0.0262241</td>\n",
              "                        <td id=\"T_a204ac54_03e6_11ea_8000_0242ac1c0002row18_col3\" class=\"data row18 col3\" >0.0355527</td>\n",
              "                        <td id=\"T_a204ac54_03e6_11ea_8000_0242ac1c0002row18_col4\" class=\"data row18 col4\" >0.105967</td>\n",
              "                        <td id=\"T_a204ac54_03e6_11ea_8000_0242ac1c0002row18_col5\" class=\"data row18 col5\" >-0.0104546</td>\n",
              "                        <td id=\"T_a204ac54_03e6_11ea_8000_0242ac1c0002row18_col6\" class=\"data row18 col6\" >0.0262169</td>\n",
              "                        <td id=\"T_a204ac54_03e6_11ea_8000_0242ac1c0002row18_col7\" class=\"data row18 col7\" >0.0753261</td>\n",
              "                        <td id=\"T_a204ac54_03e6_11ea_8000_0242ac1c0002row18_col8\" class=\"data row18 col8\" >0.00661584</td>\n",
              "                        <td id=\"T_a204ac54_03e6_11ea_8000_0242ac1c0002row18_col9\" class=\"data row18 col9\" >-0.169256</td>\n",
              "                        <td id=\"T_a204ac54_03e6_11ea_8000_0242ac1c0002row18_col10\" class=\"data row18 col10\" >0.0949634</td>\n",
              "                        <td id=\"T_a204ac54_03e6_11ea_8000_0242ac1c0002row18_col11\" class=\"data row18 col11\" >-0.0202641</td>\n",
              "                        <td id=\"T_a204ac54_03e6_11ea_8000_0242ac1c0002row18_col12\" class=\"data row18 col12\" >0.00898551</td>\n",
              "                        <td id=\"T_a204ac54_03e6_11ea_8000_0242ac1c0002row18_col13\" class=\"data row18 col13\" >0.0291308</td>\n",
              "                        <td id=\"T_a204ac54_03e6_11ea_8000_0242ac1c0002row18_col14\" class=\"data row18 col14\" >0.158489</td>\n",
              "                        <td id=\"T_a204ac54_03e6_11ea_8000_0242ac1c0002row18_col15\" class=\"data row18 col15\" >-0.281137</td>\n",
              "                        <td id=\"T_a204ac54_03e6_11ea_8000_0242ac1c0002row18_col16\" class=\"data row18 col16\" >-0.324079</td>\n",
              "                        <td id=\"T_a204ac54_03e6_11ea_8000_0242ac1c0002row18_col17\" class=\"data row18 col17\" >-0.193549</td>\n",
              "                        <td id=\"T_a204ac54_03e6_11ea_8000_0242ac1c0002row18_col18\" class=\"data row18 col18\" >1</td>\n",
              "                        <td id=\"T_a204ac54_03e6_11ea_8000_0242ac1c0002row18_col19\" class=\"data row18 col19\" >0.0104546</td>\n",
              "                        <td id=\"T_a204ac54_03e6_11ea_8000_0242ac1c0002row18_col20\" class=\"data row18 col20\" >0.0233075</td>\n",
              "                        <td id=\"T_a204ac54_03e6_11ea_8000_0242ac1c0002row18_col21\" class=\"data row18 col21\" >0.0233877</td>\n",
              "                        <td id=\"T_a204ac54_03e6_11ea_8000_0242ac1c0002row18_col22\" class=\"data row18 col22\" >-0.0232865</td>\n",
              "                        <td id=\"T_a204ac54_03e6_11ea_8000_0242ac1c0002row18_col23\" class=\"data row18 col23\" >-0.00264892</td>\n",
              "            </tr>\n",
              "            <tr>\n",
              "                        <th id=\"T_a204ac54_03e6_11ea_8000_0242ac1c0002level0_row19\" class=\"row_heading level0 row19\" >residence_target_enc</th>\n",
              "                        <td id=\"T_a204ac54_03e6_11ea_8000_0242ac1c0002row19_col0\" class=\"data row19 col0\" >0.00292922</td>\n",
              "                        <td id=\"T_a204ac54_03e6_11ea_8000_0242ac1c0002row19_col1\" class=\"data row19 col1\" >0.00379178</td>\n",
              "                        <td id=\"T_a204ac54_03e6_11ea_8000_0242ac1c0002row19_col2\" class=\"data row19 col2\" >-0.00355456</td>\n",
              "                        <td id=\"T_a204ac54_03e6_11ea_8000_0242ac1c0002row19_col3\" class=\"data row19 col3\" >-0.00369086</td>\n",
              "                        <td id=\"T_a204ac54_03e6_11ea_8000_0242ac1c0002row19_col4\" class=\"data row19 col4\" >0.0037969</td>\n",
              "                        <td id=\"T_a204ac54_03e6_11ea_8000_0242ac1c0002row19_col5\" class=\"data row19 col5\" >-1</td>\n",
              "                        <td id=\"T_a204ac54_03e6_11ea_8000_0242ac1c0002row19_col6\" class=\"data row19 col6\" >-0.00493958</td>\n",
              "                        <td id=\"T_a204ac54_03e6_11ea_8000_0242ac1c0002row19_col7\" class=\"data row19 col7\" >-0.00268303</td>\n",
              "                        <td id=\"T_a204ac54_03e6_11ea_8000_0242ac1c0002row19_col8\" class=\"data row19 col8\" >0.00279046</td>\n",
              "                        <td id=\"T_a204ac54_03e6_11ea_8000_0242ac1c0002row19_col9\" class=\"data row19 col9\" >-0.00381615</td>\n",
              "                        <td id=\"T_a204ac54_03e6_11ea_8000_0242ac1c0002row19_col10\" class=\"data row19 col10\" >0.00286013</td>\n",
              "                        <td id=\"T_a204ac54_03e6_11ea_8000_0242ac1c0002row19_col11\" class=\"data row19 col11\" >0.00474096</td>\n",
              "                        <td id=\"T_a204ac54_03e6_11ea_8000_0242ac1c0002row19_col12\" class=\"data row19 col12\" >-0.00225812</td>\n",
              "                        <td id=\"T_a204ac54_03e6_11ea_8000_0242ac1c0002row19_col13\" class=\"data row19 col13\" >0.00130489</td>\n",
              "                        <td id=\"T_a204ac54_03e6_11ea_8000_0242ac1c0002row19_col14\" class=\"data row19 col14\" >4.29609e-05</td>\n",
              "                        <td id=\"T_a204ac54_03e6_11ea_8000_0242ac1c0002row19_col15\" class=\"data row19 col15\" >-0.00613607</td>\n",
              "                        <td id=\"T_a204ac54_03e6_11ea_8000_0242ac1c0002row19_col16\" class=\"data row19 col16\" >0.00308652</td>\n",
              "                        <td id=\"T_a204ac54_03e6_11ea_8000_0242ac1c0002row19_col17\" class=\"data row19 col17\" >-0.00639257</td>\n",
              "                        <td id=\"T_a204ac54_03e6_11ea_8000_0242ac1c0002row19_col18\" class=\"data row19 col18\" >0.0104546</td>\n",
              "                        <td id=\"T_a204ac54_03e6_11ea_8000_0242ac1c0002row19_col19\" class=\"data row19 col19\" >1</td>\n",
              "                        <td id=\"T_a204ac54_03e6_11ea_8000_0242ac1c0002row19_col20\" class=\"data row19 col20\" >0.00111611</td>\n",
              "                        <td id=\"T_a204ac54_03e6_11ea_8000_0242ac1c0002row19_col21\" class=\"data row19 col21\" >0.000299716</td>\n",
              "                        <td id=\"T_a204ac54_03e6_11ea_8000_0242ac1c0002row19_col22\" class=\"data row19 col22\" >-0.000162936</td>\n",
              "                        <td id=\"T_a204ac54_03e6_11ea_8000_0242ac1c0002row19_col23\" class=\"data row19 col23\" >-0.00368551</td>\n",
              "            </tr>\n",
              "            <tr>\n",
              "                        <th id=\"T_a204ac54_03e6_11ea_8000_0242ac1c0002level0_row20\" class=\"row_heading level0 row20\" >gender_target_enc</th>\n",
              "                        <td id=\"T_a204ac54_03e6_11ea_8000_0242ac1c0002row20_col0\" class=\"data row20 col0\" >-0.00228787</td>\n",
              "                        <td id=\"T_a204ac54_03e6_11ea_8000_0242ac1c0002row20_col1\" class=\"data row20 col1\" >-0.0268858</td>\n",
              "                        <td id=\"T_a204ac54_03e6_11ea_8000_0242ac1c0002row20_col2\" class=\"data row20 col2\" >0.024683</td>\n",
              "                        <td id=\"T_a204ac54_03e6_11ea_8000_0242ac1c0002row20_col3\" class=\"data row20 col3\" >0.0789185</td>\n",
              "                        <td id=\"T_a204ac54_03e6_11ea_8000_0242ac1c0002row20_col4\" class=\"data row20 col4\" >-0.0310325</td>\n",
              "                        <td id=\"T_a204ac54_03e6_11ea_8000_0242ac1c0002row20_col5\" class=\"data row20 col5\" >-0.00111611</td>\n",
              "                        <td id=\"T_a204ac54_03e6_11ea_8000_0242ac1c0002row20_col6\" class=\"data row20 col6\" >0.0346896</td>\n",
              "                        <td id=\"T_a204ac54_03e6_11ea_8000_0242ac1c0002row20_col7\" class=\"data row20 col7\" >-0.0224725</td>\n",
              "                        <td id=\"T_a204ac54_03e6_11ea_8000_0242ac1c0002row20_col8\" class=\"data row20 col8\" >0.0102607</td>\n",
              "                        <td id=\"T_a204ac54_03e6_11ea_8000_0242ac1c0002row20_col9\" class=\"data row20 col9\" >0.0895023</td>\n",
              "                        <td id=\"T_a204ac54_03e6_11ea_8000_0242ac1c0002row20_col10\" class=\"data row20 col10\" >-0.0502256</td>\n",
              "                        <td id=\"T_a204ac54_03e6_11ea_8000_0242ac1c0002row20_col11\" class=\"data row20 col11\" >0.00429414</td>\n",
              "                        <td id=\"T_a204ac54_03e6_11ea_8000_0242ac1c0002row20_col12\" class=\"data row20 col12\" >-0.00271031</td>\n",
              "                        <td id=\"T_a204ac54_03e6_11ea_8000_0242ac1c0002row20_col13\" class=\"data row20 col13\" >-0.0164227</td>\n",
              "                        <td id=\"T_a204ac54_03e6_11ea_8000_0242ac1c0002row20_col14\" class=\"data row20 col14\" >-0.00151522</td>\n",
              "                        <td id=\"T_a204ac54_03e6_11ea_8000_0242ac1c0002row20_col15\" class=\"data row20 col15\" >0.0605506</td>\n",
              "                        <td id=\"T_a204ac54_03e6_11ea_8000_0242ac1c0002row20_col16\" class=\"data row20 col16\" >-0.101215</td>\n",
              "                        <td id=\"T_a204ac54_03e6_11ea_8000_0242ac1c0002row20_col17\" class=\"data row20 col17\" >0.0332705</td>\n",
              "                        <td id=\"T_a204ac54_03e6_11ea_8000_0242ac1c0002row20_col18\" class=\"data row20 col18\" >0.0233075</td>\n",
              "                        <td id=\"T_a204ac54_03e6_11ea_8000_0242ac1c0002row20_col19\" class=\"data row20 col19\" >0.00111611</td>\n",
              "                        <td id=\"T_a204ac54_03e6_11ea_8000_0242ac1c0002row20_col20\" class=\"data row20 col20\" >1</td>\n",
              "                        <td id=\"T_a204ac54_03e6_11ea_8000_0242ac1c0002row20_col21\" class=\"data row20 col21\" >0.974628</td>\n",
              "                        <td id=\"T_a204ac54_03e6_11ea_8000_0242ac1c0002row20_col22\" class=\"data row20 col22\" >-0.965654</td>\n",
              "                        <td id=\"T_a204ac54_03e6_11ea_8000_0242ac1c0002row20_col23\" class=\"data row20 col23\" >-0.238654</td>\n",
              "            </tr>\n",
              "            <tr>\n",
              "                        <th id=\"T_a204ac54_03e6_11ea_8000_0242ac1c0002level0_row21\" class=\"row_heading level0 row21\" >gender_is_Male</th>\n",
              "                        <td id=\"T_a204ac54_03e6_11ea_8000_0242ac1c0002row21_col0\" class=\"data row21 col0\" >-0.00212938</td>\n",
              "                        <td id=\"T_a204ac54_03e6_11ea_8000_0242ac1c0002row21_col1\" class=\"data row21 col1\" >-0.0286153</td>\n",
              "                        <td id=\"T_a204ac54_03e6_11ea_8000_0242ac1c0002row21_col2\" class=\"data row21 col2\" >0.0240546</td>\n",
              "                        <td id=\"T_a204ac54_03e6_11ea_8000_0242ac1c0002row21_col3\" class=\"data row21 col3\" >0.080314</td>\n",
              "                        <td id=\"T_a204ac54_03e6_11ea_8000_0242ac1c0002row21_col4\" class=\"data row21 col4\" >-0.0332356</td>\n",
              "                        <td id=\"T_a204ac54_03e6_11ea_8000_0242ac1c0002row21_col5\" class=\"data row21 col5\" >-0.000299716</td>\n",
              "                        <td id=\"T_a204ac54_03e6_11ea_8000_0242ac1c0002row21_col6\" class=\"data row21 col6\" >0.0340443</td>\n",
              "                        <td id=\"T_a204ac54_03e6_11ea_8000_0242ac1c0002row21_col7\" class=\"data row21 col7\" >-0.0228507</td>\n",
              "                        <td id=\"T_a204ac54_03e6_11ea_8000_0242ac1c0002row21_col8\" class=\"data row21 col8\" >0.0100003</td>\n",
              "                        <td id=\"T_a204ac54_03e6_11ea_8000_0242ac1c0002row21_col9\" class=\"data row21 col9\" >0.0916739</td>\n",
              "                        <td id=\"T_a204ac54_03e6_11ea_8000_0242ac1c0002row21_col10\" class=\"data row21 col10\" >-0.0506415</td>\n",
              "                        <td id=\"T_a204ac54_03e6_11ea_8000_0242ac1c0002row21_col11\" class=\"data row21 col11\" >0.00416032</td>\n",
              "                        <td id=\"T_a204ac54_03e6_11ea_8000_0242ac1c0002row21_col12\" class=\"data row21 col12\" >-0.00459868</td>\n",
              "                        <td id=\"T_a204ac54_03e6_11ea_8000_0242ac1c0002row21_col13\" class=\"data row21 col13\" >-0.0159835</td>\n",
              "                        <td id=\"T_a204ac54_03e6_11ea_8000_0242ac1c0002row21_col14\" class=\"data row21 col14\" >0.00145116</td>\n",
              "                        <td id=\"T_a204ac54_03e6_11ea_8000_0242ac1c0002row21_col15\" class=\"data row21 col15\" >0.0613781</td>\n",
              "                        <td id=\"T_a204ac54_03e6_11ea_8000_0242ac1c0002row21_col16\" class=\"data row21 col16\" >-0.105691</td>\n",
              "                        <td id=\"T_a204ac54_03e6_11ea_8000_0242ac1c0002row21_col17\" class=\"data row21 col17\" >0.0378997</td>\n",
              "                        <td id=\"T_a204ac54_03e6_11ea_8000_0242ac1c0002row21_col18\" class=\"data row21 col18\" >0.0233877</td>\n",
              "                        <td id=\"T_a204ac54_03e6_11ea_8000_0242ac1c0002row21_col19\" class=\"data row21 col19\" >0.000299716</td>\n",
              "                        <td id=\"T_a204ac54_03e6_11ea_8000_0242ac1c0002row21_col20\" class=\"data row21 col20\" >0.974628</td>\n",
              "                        <td id=\"T_a204ac54_03e6_11ea_8000_0242ac1c0002row21_col21\" class=\"data row21 col21\" >1</td>\n",
              "                        <td id=\"T_a204ac54_03e6_11ea_8000_0242ac1c0002row21_col22\" class=\"data row21 col22\" >-0.999312</td>\n",
              "                        <td id=\"T_a204ac54_03e6_11ea_8000_0242ac1c0002row21_col23\" class=\"data row21 col23\" >-0.0152373</td>\n",
              "            </tr>\n",
              "            <tr>\n",
              "                        <th id=\"T_a204ac54_03e6_11ea_8000_0242ac1c0002level0_row22\" class=\"row_heading level0 row22\" >gender_is_Female</th>\n",
              "                        <td id=\"T_a204ac54_03e6_11ea_8000_0242ac1c0002row22_col0\" class=\"data row22 col0\" >0.00209269</td>\n",
              "                        <td id=\"T_a204ac54_03e6_11ea_8000_0242ac1c0002row22_col1\" class=\"data row22 col1\" >0.0287619</td>\n",
              "                        <td id=\"T_a204ac54_03e6_11ea_8000_0242ac1c0002row22_col2\" class=\"data row22 col2\" >-0.0238327</td>\n",
              "                        <td id=\"T_a204ac54_03e6_11ea_8000_0242ac1c0002row22_col3\" class=\"data row22 col3\" >-0.0801523</td>\n",
              "                        <td id=\"T_a204ac54_03e6_11ea_8000_0242ac1c0002row22_col4\" class=\"data row22 col4\" >0.0334381</td>\n",
              "                        <td id=\"T_a204ac54_03e6_11ea_8000_0242ac1c0002row22_col5\" class=\"data row22 col5\" >0.000162936</td>\n",
              "                        <td id=\"T_a204ac54_03e6_11ea_8000_0242ac1c0002row22_col6\" class=\"data row22 col6\" >-0.0337708</td>\n",
              "                        <td id=\"T_a204ac54_03e6_11ea_8000_0242ac1c0002row22_col7\" class=\"data row22 col7\" >0.0228015</td>\n",
              "                        <td id=\"T_a204ac54_03e6_11ea_8000_0242ac1c0002row22_col8\" class=\"data row22 col8\" >-0.00990826</td>\n",
              "                        <td id=\"T_a204ac54_03e6_11ea_8000_0242ac1c0002row22_col9\" class=\"data row22 col9\" >-0.0915853</td>\n",
              "                        <td id=\"T_a204ac54_03e6_11ea_8000_0242ac1c0002row22_col10\" class=\"data row22 col10\" >0.0504626</td>\n",
              "                        <td id=\"T_a204ac54_03e6_11ea_8000_0242ac1c0002row22_col11\" class=\"data row22 col11\" >-0.00411778</td>\n",
              "                        <td id=\"T_a204ac54_03e6_11ea_8000_0242ac1c0002row22_col12\" class=\"data row22 col12\" >0.00488916</td>\n",
              "                        <td id=\"T_a204ac54_03e6_11ea_8000_0242ac1c0002row22_col13\" class=\"data row22 col13\" >0.0158325</td>\n",
              "                        <td id=\"T_a204ac54_03e6_11ea_8000_0242ac1c0002row22_col14\" class=\"data row22 col14\" >-0.00193572</td>\n",
              "                        <td id=\"T_a204ac54_03e6_11ea_8000_0242ac1c0002row22_col15\" class=\"data row22 col15\" >-0.0612149</td>\n",
              "                        <td id=\"T_a204ac54_03e6_11ea_8000_0242ac1c0002row22_col16\" class=\"data row22 col16\" >0.105915</td>\n",
              "                        <td id=\"T_a204ac54_03e6_11ea_8000_0242ac1c0002row22_col17\" class=\"data row22 col17\" >-0.0384815</td>\n",
              "                        <td id=\"T_a204ac54_03e6_11ea_8000_0242ac1c0002row22_col18\" class=\"data row22 col18\" >-0.0232865</td>\n",
              "                        <td id=\"T_a204ac54_03e6_11ea_8000_0242ac1c0002row22_col19\" class=\"data row22 col19\" >-0.000162936</td>\n",
              "                        <td id=\"T_a204ac54_03e6_11ea_8000_0242ac1c0002row22_col20\" class=\"data row22 col20\" >-0.965654</td>\n",
              "                        <td id=\"T_a204ac54_03e6_11ea_8000_0242ac1c0002row22_col21\" class=\"data row22 col21\" >-0.999312</td>\n",
              "                        <td id=\"T_a204ac54_03e6_11ea_8000_0242ac1c0002row22_col22\" class=\"data row22 col22\" >1</td>\n",
              "                        <td id=\"T_a204ac54_03e6_11ea_8000_0242ac1c0002row22_col23\" class=\"data row22 col23\" >-0.0218677</td>\n",
              "            </tr>\n",
              "            <tr>\n",
              "                        <th id=\"T_a204ac54_03e6_11ea_8000_0242ac1c0002level0_row23\" class=\"row_heading level0 row23\" >gender_is_Other</th>\n",
              "                        <td id=\"T_a204ac54_03e6_11ea_8000_0242ac1c0002row23_col0\" class=\"data row23 col0\" >0.000981793</td>\n",
              "                        <td id=\"T_a204ac54_03e6_11ea_8000_0242ac1c0002row23_col1\" class=\"data row23 col1\" >-0.00404646</td>\n",
              "                        <td id=\"T_a204ac54_03e6_11ea_8000_0242ac1c0002row23_col2\" class=\"data row23 col2\" >-0.00590001</td>\n",
              "                        <td id=\"T_a204ac54_03e6_11ea_8000_0242ac1c0002row23_col3\" class=\"data row23 col3\" >-0.00409266</td>\n",
              "                        <td id=\"T_a204ac54_03e6_11ea_8000_0242ac1c0002row23_col4\" class=\"data row23 col4\" >-0.00556847</td>\n",
              "                        <td id=\"T_a204ac54_03e6_11ea_8000_0242ac1c0002row23_col5\" class=\"data row23 col5\" >0.00368551</td>\n",
              "                        <td id=\"T_a204ac54_03e6_11ea_8000_0242ac1c0002row23_col6\" class=\"data row23 col6\" >-0.00725969</td>\n",
              "                        <td id=\"T_a204ac54_03e6_11ea_8000_0242ac1c0002row23_col7\" class=\"data row23 col7\" >0.00124868</td>\n",
              "                        <td id=\"T_a204ac54_03e6_11ea_8000_0242ac1c0002row23_col8\" class=\"data row23 col8\" >-0.00244875</td>\n",
              "                        <td id=\"T_a204ac54_03e6_11ea_8000_0242ac1c0002row23_col9\" class=\"data row23 col9\" >-0.00208623</td>\n",
              "                        <td id=\"T_a204ac54_03e6_11ea_8000_0242ac1c0002row23_col10\" class=\"data row23 col10\" >0.00465348</td>\n",
              "                        <td id=\"T_a204ac54_03e6_11ea_8000_0242ac1c0002row23_col11\" class=\"data row23 col11\" >-0.00113271</td>\n",
              "                        <td id=\"T_a204ac54_03e6_11ea_8000_0242ac1c0002row23_col12\" class=\"data row23 col12\" >-0.00784435</td>\n",
              "                        <td id=\"T_a204ac54_03e6_11ea_8000_0242ac1c0002row23_col13\" class=\"data row23 col13\" >0.00401726</td>\n",
              "                        <td id=\"T_a204ac54_03e6_11ea_8000_0242ac1c0002row23_col14\" class=\"data row23 col14\" >0.0130647</td>\n",
              "                        <td id=\"T_a204ac54_03e6_11ea_8000_0242ac1c0002row23_col15\" class=\"data row23 col15\" >-0.00419506</td>\n",
              "                        <td id=\"T_a204ac54_03e6_11ea_8000_0242ac1c0002row23_col16\" class=\"data row23 col16\" >-0.00640519</td>\n",
              "                        <td id=\"T_a204ac54_03e6_11ea_8000_0242ac1c0002row23_col17\" class=\"data row23 col17\" >0.0158063</td>\n",
              "                        <td id=\"T_a204ac54_03e6_11ea_8000_0242ac1c0002row23_col18\" class=\"data row23 col18\" >-0.00264892</td>\n",
              "                        <td id=\"T_a204ac54_03e6_11ea_8000_0242ac1c0002row23_col19\" class=\"data row23 col19\" >-0.00368551</td>\n",
              "                        <td id=\"T_a204ac54_03e6_11ea_8000_0242ac1c0002row23_col20\" class=\"data row23 col20\" >-0.238654</td>\n",
              "                        <td id=\"T_a204ac54_03e6_11ea_8000_0242ac1c0002row23_col21\" class=\"data row23 col21\" >-0.0152373</td>\n",
              "                        <td id=\"T_a204ac54_03e6_11ea_8000_0242ac1c0002row23_col22\" class=\"data row23 col22\" >-0.0218677</td>\n",
              "                        <td id=\"T_a204ac54_03e6_11ea_8000_0242ac1c0002row23_col23\" class=\"data row23 col23\" >1</td>\n",
              "            </tr>\n",
              "    </tbody></table>"
            ],
            "text/plain": [
              "<pandas.io.formats.style.Styler at 0x7f0153743908>"
            ]
          },
          "metadata": {
            "tags": []
          },
          "execution_count": 28
        }
      ]
    },
    {
      "cell_type": "markdown",
      "metadata": {
        "id": "MaJR69dqorXr",
        "colab_type": "text"
      },
      "source": [
        "Из этой матрицы корреляции можно видеть, что существует прямая корреляция между Residence_target_enc и типом места жительства, что очевидно, поскольку один признак является производным от другого. Также существует сильная корреляция и статуса брака, и курения. Кроме того, ясно видно, что если функция получена из другого (например, Smoking_status_is ... и Smoking_status_enc_dict), корреляция наблюдается."
      ]
    },
    {
      "cell_type": "markdown",
      "metadata": {
        "id": "Rv0amL7NorXs",
        "colab_type": "text"
      },
      "source": [
        "Давайте посмотрим на финальную таблицу"
      ]
    },
    {
      "cell_type": "code",
      "metadata": {
        "id": "PB-4NSOQorXt",
        "colab_type": "code",
        "colab": {
          "base_uri": "https://localhost:8080/",
          "height": 232
        },
        "outputId": "012eab92-1de3-42ae-d6dd-24f214c87678"
      },
      "source": [
        "train.head()"
      ],
      "execution_count": 29,
      "outputs": [
        {
          "output_type": "execute_result",
          "data": {
            "text/html": [
              "<div>\n",
              "<style scoped>\n",
              "    .dataframe tbody tr th:only-of-type {\n",
              "        vertical-align: middle;\n",
              "    }\n",
              "\n",
              "    .dataframe tbody tr th {\n",
              "        vertical-align: top;\n",
              "    }\n",
              "\n",
              "    .dataframe thead th {\n",
              "        text-align: right;\n",
              "    }\n",
              "</style>\n",
              "<table border=\"1\" class=\"dataframe\">\n",
              "  <thead>\n",
              "    <tr style=\"text-align: right;\">\n",
              "      <th></th>\n",
              "      <th>id</th>\n",
              "      <th>gender</th>\n",
              "      <th>age</th>\n",
              "      <th>hypertension</th>\n",
              "      <th>heart_disease</th>\n",
              "      <th>ever_married</th>\n",
              "      <th>work_type</th>\n",
              "      <th>Residence_type</th>\n",
              "      <th>avg_glucose_level</th>\n",
              "      <th>bmi</th>\n",
              "      <th>smoking_status</th>\n",
              "      <th>stroke</th>\n",
              "      <th>work_type_is_children</th>\n",
              "      <th>work_type_is_Private</th>\n",
              "      <th>work_type_is_Never_worked</th>\n",
              "      <th>work_type_is_Self-employed</th>\n",
              "      <th>work_type_is_Govt_job</th>\n",
              "      <th>smoking_status_target_enc</th>\n",
              "      <th>smoking_status_is_no data</th>\n",
              "      <th>smoking_status_is_never smoked</th>\n",
              "      <th>smoking_status_is_formerly smoked</th>\n",
              "      <th>smoking_status_is_smokes</th>\n",
              "      <th>residence_target_enc</th>\n",
              "      <th>gender_target_enc</th>\n",
              "      <th>gender_is_Male</th>\n",
              "      <th>gender_is_Female</th>\n",
              "      <th>gender_is_Other</th>\n",
              "    </tr>\n",
              "  </thead>\n",
              "  <tbody>\n",
              "    <tr>\n",
              "      <th>0</th>\n",
              "      <td>30669</td>\n",
              "      <td>Male</td>\n",
              "      <td>3.0</td>\n",
              "      <td>0</td>\n",
              "      <td>0</td>\n",
              "      <td>0</td>\n",
              "      <td>children</td>\n",
              "      <td>1</td>\n",
              "      <td>95.12</td>\n",
              "      <td>18.0</td>\n",
              "      <td>no data</td>\n",
              "      <td>0</td>\n",
              "      <td>1</td>\n",
              "      <td>0</td>\n",
              "      <td>0</td>\n",
              "      <td>0</td>\n",
              "      <td>0</td>\n",
              "      <td>0.011443</td>\n",
              "      <td>1</td>\n",
              "      <td>0</td>\n",
              "      <td>0</td>\n",
              "      <td>0</td>\n",
              "      <td>0.017298</td>\n",
              "      <td>0.019245</td>\n",
              "      <td>1</td>\n",
              "      <td>0</td>\n",
              "      <td>0</td>\n",
              "    </tr>\n",
              "    <tr>\n",
              "      <th>1</th>\n",
              "      <td>30468</td>\n",
              "      <td>Male</td>\n",
              "      <td>58.0</td>\n",
              "      <td>1</td>\n",
              "      <td>0</td>\n",
              "      <td>1</td>\n",
              "      <td>Private</td>\n",
              "      <td>0</td>\n",
              "      <td>87.96</td>\n",
              "      <td>39.2</td>\n",
              "      <td>never smoked</td>\n",
              "      <td>0</td>\n",
              "      <td>0</td>\n",
              "      <td>1</td>\n",
              "      <td>0</td>\n",
              "      <td>0</td>\n",
              "      <td>0</td>\n",
              "      <td>0.017240</td>\n",
              "      <td>0</td>\n",
              "      <td>1</td>\n",
              "      <td>0</td>\n",
              "      <td>0</td>\n",
              "      <td>0.018033</td>\n",
              "      <td>0.019245</td>\n",
              "      <td>1</td>\n",
              "      <td>0</td>\n",
              "      <td>0</td>\n",
              "    </tr>\n",
              "    <tr>\n",
              "      <th>2</th>\n",
              "      <td>16523</td>\n",
              "      <td>Female</td>\n",
              "      <td>8.0</td>\n",
              "      <td>0</td>\n",
              "      <td>0</td>\n",
              "      <td>0</td>\n",
              "      <td>Private</td>\n",
              "      <td>0</td>\n",
              "      <td>110.89</td>\n",
              "      <td>17.6</td>\n",
              "      <td>no data</td>\n",
              "      <td>0</td>\n",
              "      <td>0</td>\n",
              "      <td>1</td>\n",
              "      <td>0</td>\n",
              "      <td>0</td>\n",
              "      <td>0</td>\n",
              "      <td>0.011443</td>\n",
              "      <td>1</td>\n",
              "      <td>0</td>\n",
              "      <td>0</td>\n",
              "      <td>0</td>\n",
              "      <td>0.018033</td>\n",
              "      <td>0.016576</td>\n",
              "      <td>0</td>\n",
              "      <td>1</td>\n",
              "      <td>0</td>\n",
              "    </tr>\n",
              "    <tr>\n",
              "      <th>3</th>\n",
              "      <td>56543</td>\n",
              "      <td>Female</td>\n",
              "      <td>70.0</td>\n",
              "      <td>0</td>\n",
              "      <td>0</td>\n",
              "      <td>1</td>\n",
              "      <td>Private</td>\n",
              "      <td>1</td>\n",
              "      <td>69.04</td>\n",
              "      <td>35.9</td>\n",
              "      <td>formerly smoked</td>\n",
              "      <td>0</td>\n",
              "      <td>0</td>\n",
              "      <td>1</td>\n",
              "      <td>0</td>\n",
              "      <td>0</td>\n",
              "      <td>0</td>\n",
              "      <td>0.027783</td>\n",
              "      <td>0</td>\n",
              "      <td>0</td>\n",
              "      <td>1</td>\n",
              "      <td>0</td>\n",
              "      <td>0.017298</td>\n",
              "      <td>0.016576</td>\n",
              "      <td>0</td>\n",
              "      <td>1</td>\n",
              "      <td>0</td>\n",
              "    </tr>\n",
              "    <tr>\n",
              "      <th>4</th>\n",
              "      <td>46136</td>\n",
              "      <td>Male</td>\n",
              "      <td>14.0</td>\n",
              "      <td>0</td>\n",
              "      <td>0</td>\n",
              "      <td>0</td>\n",
              "      <td>Never_worked</td>\n",
              "      <td>1</td>\n",
              "      <td>161.28</td>\n",
              "      <td>19.1</td>\n",
              "      <td>no data</td>\n",
              "      <td>0</td>\n",
              "      <td>0</td>\n",
              "      <td>0</td>\n",
              "      <td>1</td>\n",
              "      <td>0</td>\n",
              "      <td>0</td>\n",
              "      <td>0.011443</td>\n",
              "      <td>1</td>\n",
              "      <td>0</td>\n",
              "      <td>0</td>\n",
              "      <td>0</td>\n",
              "      <td>0.017298</td>\n",
              "      <td>0.019245</td>\n",
              "      <td>1</td>\n",
              "      <td>0</td>\n",
              "      <td>0</td>\n",
              "    </tr>\n",
              "  </tbody>\n",
              "</table>\n",
              "</div>"
            ],
            "text/plain": [
              "      id  gender   age  ...  gender_is_Male  gender_is_Female  gender_is_Other\n",
              "0  30669    Male   3.0  ...               1                 0                0\n",
              "1  30468    Male  58.0  ...               1                 0                0\n",
              "2  16523  Female   8.0  ...               0                 1                0\n",
              "3  56543  Female  70.0  ...               0                 1                0\n",
              "4  46136    Male  14.0  ...               1                 0                0\n",
              "\n",
              "[5 rows x 27 columns]"
            ]
          },
          "metadata": {
            "tags": []
          },
          "execution_count": 29
        }
      ]
    },
    {
      "cell_type": "markdown",
      "metadata": {
        "id": "2RxoTR2MorXx",
        "colab_type": "text"
      },
      "source": [
        "## Выбор оптимальных гиперпарметров для модели\n"
      ]
    },
    {
      "cell_type": "markdown",
      "metadata": {
        "id": "oGcqqIpAorXy",
        "colab_type": "text"
      },
      "source": [
        "Для начала поделим тренировочные данные 80:20 для того чтоб были тестовые данные"
      ]
    },
    {
      "cell_type": "code",
      "metadata": {
        "id": "ciLcfpSxorXz",
        "colab_type": "code",
        "colab": {}
      },
      "source": [
        "res = train['stroke']\n",
        "X_train, X_test, Y_train, Y_test = train_test_split(train, res, test_size=0.2)"
      ],
      "execution_count": 0,
      "outputs": []
    },
    {
      "cell_type": "markdown",
      "metadata": {
        "id": "I-h4UarRorX2",
        "colab_type": "text"
      },
      "source": [
        "Теперь напишем кросс-валидационную функцию, которая возвращает коэф ROC-AUC"
      ]
    },
    {
      "cell_type": "code",
      "metadata": {
        "id": "l7ex1GT7orX2",
        "colab_type": "code",
        "colab": {}
      },
      "source": [
        "def my_cross_validation_for_roc_auc(clf, X, y ,cv=5):\n",
        "    X = np.array(X.copy())\n",
        "    y = np.array(y.copy())\n",
        "    kf = KFold(n_splits=cv)\n",
        "    kf.get_n_splits(X)\n",
        "    scores = []\n",
        "    for train_index, test_index in kf.split(X):\n",
        "        X_train, X_test = X[train_index], X[test_index]\n",
        "        y_train, y_test = y[train_index], y[test_index]\n",
        "        clf.fit(X_train, y_train)\n",
        "        prediction_on_this_fold = clf.predict_proba(X_test)[:,1]\n",
        "        score = roc_auc_score(y_score=prediction_on_this_fold, y_true=y_test)\n",
        "        scores.append(score)\n",
        "    return scores"
      ],
      "execution_count": 0,
      "outputs": []
    },
    {
      "cell_type": "code",
      "metadata": {
        "id": "OjBBYV9qorX7",
        "colab_type": "code",
        "colab": {}
      },
      "source": [
        "features = ['id', 'age', 'hypertension', 'heart_disease', 'ever_married', 'Residence_type', 'avg_glucose_level', \n",
        "            'bmi', 'work_type_is_children', 'work_type_is_Private', 'work_type_is_Never_worked',\n",
        "            'work_type_is_Self-employed', 'work_type_is_Govt_job', 'smoking_status_target_enc',\n",
        "            'smoking_status_is_no data', 'smoking_status_is_never smoked', 'smoking_status_is_formerly smoked',\n",
        "            'smoking_status_is_smokes', 'residence_target_enc', 'gender_target_enc',  'gender_is_Male',\n",
        "            'gender_is_Female', 'gender_is_Other']"
      ],
      "execution_count": 0,
      "outputs": []
    },
    {
      "cell_type": "markdown",
      "metadata": {
        "id": "ZRIJCeFVorX-",
        "colab_type": "text"
      },
      "source": [
        "### Logistic regression"
      ]
    },
    {
      "cell_type": "markdown",
      "metadata": {
        "id": "E6kgQU6qorX-",
        "colab_type": "text"
      },
      "source": [
        "Воспользуемся логистической регрессией"
      ]
    },
    {
      "cell_type": "code",
      "metadata": {
        "id": "ccKsY0lZorX_",
        "colab_type": "code",
        "colab": {}
      },
      "source": [
        "model = linear_model.SGDClassifier(max_iter=1000,  loss='log', penalty = 'elasticnet')"
      ],
      "execution_count": 0,
      "outputs": []
    },
    {
      "cell_type": "code",
      "metadata": {
        "id": "QvLojQD1orYD",
        "colab_type": "code",
        "colab": {
          "base_uri": "https://localhost:8080/",
          "height": 403
        },
        "outputId": "38b00721-1b94-462b-c9de-d8a240a9f6b7"
      },
      "source": [
        "features_scores = {}\n",
        "for f in features:\n",
        "    scores = my_cross_validation_for_roc_auc(model, X_train[[f]] , Y_train)\n",
        "    print(f,  np.mean(scores))\n",
        "    features_scores[f] = np.mean(scores)"
      ],
      "execution_count": 34,
      "outputs": [
        {
          "output_type": "stream",
          "text": [
            "id 0.4998940398565944\n",
            "age 0.8370423690515846\n",
            "hypertension 0.5891200414426475\n",
            "heart_disease 0.5878583104409214\n",
            "ever_married 0.6266107563192003\n",
            "Residence_type 0.4964339498148802\n",
            "avg_glucose_level 0.5519332062776896\n",
            "bmi 0.5150080500422297\n",
            "work_type_is_children 0.5702191104563257\n",
            "work_type_is_Private 0.5\n",
            "work_type_is_Never_worked 0.501930652625575\n",
            "work_type_is_Self-employed 0.5624973438066183\n",
            "work_type_is_Govt_job 0.4897085436535088\n",
            "smoking_status_target_enc 0.5727648764761625\n",
            "smoking_status_is_no data 0.5470761597780159\n",
            "smoking_status_is_never smoked 0.49533522204305547\n",
            "smoking_status_is_formerly smoked 0.542317299094621\n",
            "smoking_status_is_smokes 0.5005489109116945\n",
            "residence_target_enc 0.5\n",
            "gender_target_enc 0.5\n",
            "gender_is_Male 0.4900550422871851\n",
            "gender_is_Female 0.4970170671373693\n",
            "gender_is_Other 0.5\n"
          ],
          "name": "stdout"
        }
      ]
    },
    {
      "cell_type": "markdown",
      "metadata": {
        "id": "6x2Y1XjIorYF",
        "colab_type": "text"
      },
      "source": [
        "Исходя из этих данных сузим список категорий"
      ]
    },
    {
      "cell_type": "code",
      "metadata": {
        "id": "EUin-_sUorYI",
        "colab_type": "code",
        "colab": {}
      },
      "source": [
        "features = ['age', 'hypertension', 'heart_disease', 'ever_married', 'Residence_type', 'avg_glucose_level', \n",
        "            'work_type_is_children', 'work_type_is_Self-employed', 'work_type_is_Govt_job', 'smoking_status_target_enc',\n",
        "            'smoking_status_is_no data', 'smoking_status_is_never smoked', 'smoking_status_is_formerly smoked',\n",
        "            'smoking_status_is_smokes', 'gender_is_Male', 'gender_is_Female']"
      ],
      "execution_count": 0,
      "outputs": []
    },
    {
      "cell_type": "markdown",
      "metadata": {
        "id": "fKm552SrorYK",
        "colab_type": "text"
      },
      "source": [
        "А теперь выберем оптимальное раздение cv"
      ]
    },
    {
      "cell_type": "code",
      "metadata": {
        "id": "4s8gqnnPorYL",
        "colab_type": "code",
        "colab": {
          "base_uri": "https://localhost:8080/",
          "height": 319
        },
        "outputId": "fbef0594-62a9-4e11-fb5b-399f2cc707ee"
      },
      "source": [
        "for j in range(2, 20):\n",
        "    scores = my_cross_validation_for_roc_auc(model, X_train[features] , Y_train, j)\n",
        "    print(sum(scores) / len(scores), j)"
      ],
      "execution_count": 36,
      "outputs": [
        {
          "output_type": "stream",
          "text": [
            "0.8411560901825152 2\n",
            "0.846992221180726 3\n",
            "0.8403731870473908 4\n",
            "0.8373466917675341 5\n",
            "0.8386529294145838 6\n",
            "0.8316800280540564 7\n",
            "0.8411617888258641 8\n",
            "0.843576057009173 9\n",
            "0.8424855631091208 10\n",
            "0.8412235468853786 11\n",
            "0.8391510466175554 12\n",
            "0.8403658439981542 13\n",
            "0.844193479147349 14\n",
            "0.8372621376141055 15\n",
            "0.8433086464784526 16\n",
            "0.8392428130213013 17\n",
            "0.842015691494253 18\n",
            "0.8395586421811473 19\n"
          ],
          "name": "stdout"
        }
      ]
    },
    {
      "cell_type": "markdown",
      "metadata": {
        "id": "7WB2NVQoorYN",
        "colab_type": "text"
      },
      "source": [
        "Видно что оптимальнее всего делить на 10 частей"
      ]
    },
    {
      "cell_type": "markdown",
      "metadata": {
        "id": "L6lGzC4HorYN",
        "colab_type": "text"
      },
      "source": [
        "Теперь найдем оптимальные параметры для логистической регрессии, используя GridSearchCV."
      ]
    },
    {
      "cell_type": "code",
      "metadata": {
        "id": "AXmuXnm4orYP",
        "colab_type": "code",
        "colab": {
          "base_uri": "https://localhost:8080/",
          "height": 386
        },
        "outputId": "5c97c525-8877-401a-d184-e3202da620e0"
      },
      "source": [
        "model = linear_model.SGDClassifier(loss='log')\n",
        "X_train = X_train[features]\n",
        "parameters = { \n",
        "     \"penalty\"        : [ 'l2', 'l1', 'elasticnet'],\n",
        "     \"max_iter\" : [ 100, 500, 1000, 1500, 2000, 2500]\n",
        "        }\n",
        "grid = GridSearchCV(model, parameters, n_jobs=12, scoring=\"roc_auc\", cv=10, verbose=5)\n",
        "grid.fit(X_train, Y_train)"
      ],
      "execution_count": 37,
      "outputs": [
        {
          "output_type": "stream",
          "text": [
            "Fitting 10 folds for each of 18 candidates, totalling 180 fits\n"
          ],
          "name": "stdout"
        },
        {
          "output_type": "stream",
          "text": [
            "[Parallel(n_jobs=6)]: Using backend LokyBackend with 6 concurrent workers.\n",
            "[Parallel(n_jobs=6)]: Done   6 tasks      | elapsed:    8.8s\n",
            "[Parallel(n_jobs=6)]: Done  60 tasks      | elapsed:   30.7s\n",
            "[Parallel(n_jobs=6)]: Done 150 tasks      | elapsed:  1.0min\n",
            "[Parallel(n_jobs=6)]: Done 180 out of 180 | elapsed:  1.2min finished\n"
          ],
          "name": "stderr"
        },
        {
          "output_type": "execute_result",
          "data": {
            "text/plain": [
              "GridSearchCV(cv=10, error_score='raise-deprecating',\n",
              "             estimator=SGDClassifier(alpha=0.0001, average=False,\n",
              "                                     class_weight=None, early_stopping=False,\n",
              "                                     epsilon=0.1, eta0=0.0, fit_intercept=True,\n",
              "                                     l1_ratio=0.15, learning_rate='optimal',\n",
              "                                     loss='log', max_iter=1000,\n",
              "                                     n_iter_no_change=5, n_jobs=None,\n",
              "                                     penalty='l2', power_t=0.5,\n",
              "                                     random_state=None, shuffle=True, tol=0.001,\n",
              "                                     validation_fraction=0.1, verbose=0,\n",
              "                                     warm_start=False),\n",
              "             iid='warn', n_jobs=6,\n",
              "             param_grid={'max_iter': [100, 500, 1000, 1500, 2000, 2500],\n",
              "                         'penalty': ['l2', 'l1', 'elasticnet']},\n",
              "             pre_dispatch='2*n_jobs', refit=True, return_train_score=False,\n",
              "             scoring='roc_auc', verbose=5)"
            ]
          },
          "metadata": {
            "tags": []
          },
          "execution_count": 37
        }
      ]
    },
    {
      "cell_type": "code",
      "metadata": {
        "id": "c0eD7U9ForYQ",
        "colab_type": "code",
        "colab": {
          "base_uri": "https://localhost:8080/",
          "height": 118
        },
        "outputId": "4cbc11df-6b80-4937-aaba-2b5602e03b9e"
      },
      "source": [
        "grid.best_estimator_ "
      ],
      "execution_count": 38,
      "outputs": [
        {
          "output_type": "execute_result",
          "data": {
            "text/plain": [
              "SGDClassifier(alpha=0.0001, average=False, class_weight=None,\n",
              "              early_stopping=False, epsilon=0.1, eta0=0.0, fit_intercept=True,\n",
              "              l1_ratio=0.15, learning_rate='optimal', loss='log', max_iter=2000,\n",
              "              n_iter_no_change=5, n_jobs=None, penalty='elasticnet',\n",
              "              power_t=0.5, random_state=None, shuffle=True, tol=0.001,\n",
              "              validation_fraction=0.1, verbose=0, warm_start=False)"
            ]
          },
          "metadata": {
            "tags": []
          },
          "execution_count": 38
        }
      ]
    },
    {
      "cell_type": "markdown",
      "metadata": {
        "id": "AJorMdZ4orYV",
        "colab_type": "text"
      },
      "source": [
        "Выбираем лучшую оценку и тестируем ее на тренировочных данных, вычисление AUC"
      ]
    },
    {
      "cell_type": "code",
      "metadata": {
        "id": "UYJ1gHA6orYV",
        "colab_type": "code",
        "colab": {
          "base_uri": "https://localhost:8080/",
          "height": 34
        },
        "outputId": "7e9c9505-f3e2-410e-d8b5-cc6e065d5403"
      },
      "source": [
        "model = linear_model.SGDClassifier(alpha=0.0001, average=False, class_weight=None,\n",
        "              early_stopping=False, epsilon=0.1, eta0=0.0, fit_intercept=True,\n",
        "              l1_ratio=0.15, learning_rate='optimal', loss='log', max_iter=2500,\n",
        "              n_iter_no_change=5, n_jobs=None, penalty='elasticnet',\n",
        "              power_t=0.5, random_state=None, shuffle=True, tol=0.001,\n",
        "              validation_fraction=0.1, verbose=0, warm_start=False)\n",
        "model.fit(X_train, Y_train)\n",
        "X_test = X_test[features]\n",
        "prediction = model.predict_proba(X_test)\n",
        "print('Auc score for logistic regression:', roc_auc_score(y_score=prediction[:,1], y_true=Y_test))\n"
      ],
      "execution_count": 39,
      "outputs": [
        {
          "output_type": "stream",
          "text": [
            "Auc score for logistic regression: 0.8328218327447573\n"
          ],
          "name": "stdout"
        }
      ]
    },
    {
      "cell_type": "markdown",
      "metadata": {
        "id": "1g8GDvZLorYX",
        "colab_type": "text"
      },
      "source": [
        "Предсказание на тестовых данных"
      ]
    },
    {
      "cell_type": "code",
      "metadata": {
        "id": "ozP3yJgeorYY",
        "colab_type": "code",
        "colab": {}
      },
      "source": [
        "res = model.predict_proba(test[features])"
      ],
      "execution_count": 0,
      "outputs": []
    },
    {
      "cell_type": "code",
      "metadata": {
        "id": "1Hq5urRporYZ",
        "colab_type": "code",
        "colab": {}
      },
      "source": [
        "sample['stroke'] = res[:, 1]\n",
        "sample.to_csv('submit_log_reg.csv', index = None )"
      ],
      "execution_count": 0,
      "outputs": []
    },
    {
      "cell_type": "markdown",
      "metadata": {
        "id": "Dds5F0kWorYb",
        "colab_type": "text"
      },
      "source": [
        "### Random forrest классификатор"
      ]
    },
    {
      "cell_type": "code",
      "metadata": {
        "id": "sFrk3xlBorYc",
        "colab_type": "code",
        "colab": {}
      },
      "source": [
        "features = ['age', 'hypertension', 'heart_disease', 'ever_married', 'Residence_type', 'avg_glucose_level', \n",
        "            'bmi', 'work_type_is_children', 'work_type_is_Private', 'work_type_is_Never_worked',\n",
        "            'work_type_is_Self-employed', 'work_type_is_Govt_job', 'smoking_status_target_enc',\n",
        "            'smoking_status_is_no data', 'smoking_status_is_never smoked', 'smoking_status_is_formerly smoked',\n",
        "            'smoking_status_is_smokes', 'gender_target_enc',  'gender_is_Male', 'gender_is_Female', 'gender_is_Other']"
      ],
      "execution_count": 0,
      "outputs": []
    },
    {
      "cell_type": "code",
      "metadata": {
        "id": "FFxQteW5orYd",
        "colab_type": "code",
        "colab": {}
      },
      "source": [
        "res = train['stroke']\n",
        "X_train, X_test, Y_train, Y_test = train_test_split(train, res, test_size=0.2)"
      ],
      "execution_count": 0,
      "outputs": []
    },
    {
      "cell_type": "markdown",
      "metadata": {
        "id": "EDbFoatLorYf",
        "colab_type": "text"
      },
      "source": [
        "Поиск категорий с наибольшим влиянием. Категории малого влияния и с большой корреляцией будет удалены"
      ]
    },
    {
      "cell_type": "code",
      "metadata": {
        "id": "Fu3GFtQHorYf",
        "colab_type": "code",
        "colab": {
          "base_uri": "https://localhost:8080/",
          "height": 403
        },
        "outputId": "70804b4f-0e53-420d-e685-8c75e6dff5d1"
      },
      "source": [
        "model = RandomForestClassifier()\n",
        "features_scores = {}\n",
        "for f in features:\n",
        "    scores = my_cross_validation_for_roc_auc(model, X_train[[f]] , Y_train)\n",
        "    print(f,  np.mean(scores))\n",
        "    features_scores[f] = np.mean(scores)"
      ],
      "execution_count": 44,
      "outputs": [
        {
          "output_type": "stream",
          "text": [
            "/usr/local/lib/python3.6/dist-packages/sklearn/ensemble/forest.py:245: FutureWarning: The default value of n_estimators will change from 10 in version 0.20 to 100 in 0.22.\n",
            "  \"10 in version 0.20 to 100 in 0.22.\", FutureWarning)\n"
          ],
          "name": "stderr"
        },
        {
          "output_type": "stream",
          "text": [
            "age 0.8259587083523856\n",
            "hypertension 0.5710436319463519\n",
            "heart_disease 0.5868946047820881\n",
            "ever_married 0.631449644323062\n",
            "Residence_type 0.5108024910924021\n",
            "avg_glucose_level 0.5069789577337879\n",
            "bmi 0.588301052937293\n",
            "work_type_is_children 0.5703405619480618\n",
            "work_type_is_Private 0.49410754774762433\n",
            "work_type_is_Never_worked 0.5020149609356881\n",
            "work_type_is_Self-employed 0.5677083557993987\n",
            "work_type_is_Govt_job 0.48104228786754905\n",
            "smoking_status_target_enc 0.5798808132312826\n",
            "smoking_status_is_no data 0.5519443054391562\n",
            "smoking_status_is_never smoked 0.49112049446224726\n",
            "smoking_status_is_formerly smoked 0.5472854120696575\n",
            "smoking_status_is_smokes 0.5095237928325178\n",
            "gender_target_enc 0.5300777411092775\n",
            "gender_is_Male 0.5299778523432049\n",
            "gender_is_Female 0.5297868909369224\n",
            "gender_is_Other 0.5001909614062823\n"
          ],
          "name": "stdout"
        }
      ]
    },
    {
      "cell_type": "code",
      "metadata": {
        "id": "hSpz830LorYh",
        "colab_type": "code",
        "colab": {
          "base_uri": "https://localhost:8080/",
          "height": 198
        },
        "outputId": "162156a9-adb7-4e26-c921-a129b7010313"
      },
      "source": [
        "features = ['age', 'hypertension', 'heart_disease', 'ever_married', 'work_type_is_children',\n",
        "            'work_type_is_Self-employed', 'smoking_status_target_enc', 'gender_target_enc']\n",
        "X_train, X_test, Y_train, Y_test = train_test_split(train[features], train['stroke'], test_size=0.2)\n",
        "cor = X_train.corr()\n",
        "cor.style.background_gradient(cmap='coolwarm')"
      ],
      "execution_count": 45,
      "outputs": [
        {
          "output_type": "execute_result",
          "data": {
            "text/html": [
              "<style  type=\"text/css\" >\n",
              "    #T_ffee48ac_03e6_11ea_8000_0242ac1c0002row0_col0 {\n",
              "            background-color:  #b40426;\n",
              "            color:  #f1f1f1;\n",
              "        }    #T_ffee48ac_03e6_11ea_8000_0242ac1c0002row0_col1 {\n",
              "            background-color:  #b2ccfb;\n",
              "            color:  #000000;\n",
              "        }    #T_ffee48ac_03e6_11ea_8000_0242ac1c0002row0_col2 {\n",
              "            background-color:  #a3c2fe;\n",
              "            color:  #000000;\n",
              "        }    #T_ffee48ac_03e6_11ea_8000_0242ac1c0002row0_col3 {\n",
              "            background-color:  #ee8468;\n",
              "            color:  #000000;\n",
              "        }    #T_ffee48ac_03e6_11ea_8000_0242ac1c0002row0_col4 {\n",
              "            background-color:  #3b4cc0;\n",
              "            color:  #f1f1f1;\n",
              "        }    #T_ffee48ac_03e6_11ea_8000_0242ac1c0002row0_col5 {\n",
              "            background-color:  #c7d7f0;\n",
              "            color:  #000000;\n",
              "        }    #T_ffee48ac_03e6_11ea_8000_0242ac1c0002row0_col6 {\n",
              "            background-color:  #ead5c9;\n",
              "            color:  #000000;\n",
              "        }    #T_ffee48ac_03e6_11ea_8000_0242ac1c0002row0_col7 {\n",
              "            background-color:  #3b4cc0;\n",
              "            color:  #f1f1f1;\n",
              "        }    #T_ffee48ac_03e6_11ea_8000_0242ac1c0002row1_col0 {\n",
              "            background-color:  #ead4c8;\n",
              "            color:  #000000;\n",
              "        }    #T_ffee48ac_03e6_11ea_8000_0242ac1c0002row1_col1 {\n",
              "            background-color:  #b40426;\n",
              "            color:  #f1f1f1;\n",
              "        }    #T_ffee48ac_03e6_11ea_8000_0242ac1c0002row1_col2 {\n",
              "            background-color:  #779af7;\n",
              "            color:  #000000;\n",
              "        }    #T_ffee48ac_03e6_11ea_8000_0242ac1c0002row1_col3 {\n",
              "            background-color:  #d4dbe6;\n",
              "            color:  #000000;\n",
              "        }    #T_ffee48ac_03e6_11ea_8000_0242ac1c0002row1_col4 {\n",
              "            background-color:  #a2c1ff;\n",
              "            color:  #000000;\n",
              "        }    #T_ffee48ac_03e6_11ea_8000_0242ac1c0002row1_col5 {\n",
              "            background-color:  #89acfd;\n",
              "            color:  #000000;\n",
              "        }    #T_ffee48ac_03e6_11ea_8000_0242ac1c0002row1_col6 {\n",
              "            background-color:  #b7cff9;\n",
              "            color:  #000000;\n",
              "        }    #T_ffee48ac_03e6_11ea_8000_0242ac1c0002row1_col7 {\n",
              "            background-color:  #4961d2;\n",
              "            color:  #f1f1f1;\n",
              "        }    #T_ffee48ac_03e6_11ea_8000_0242ac1c0002row2_col0 {\n",
              "            background-color:  #e8d6cc;\n",
              "            color:  #000000;\n",
              "        }    #T_ffee48ac_03e6_11ea_8000_0242ac1c0002row2_col1 {\n",
              "            background-color:  #81a4fb;\n",
              "            color:  #000000;\n",
              "        }    #T_ffee48ac_03e6_11ea_8000_0242ac1c0002row2_col2 {\n",
              "            background-color:  #b40426;\n",
              "            color:  #f1f1f1;\n",
              "        }    #T_ffee48ac_03e6_11ea_8000_0242ac1c0002row2_col3 {\n",
              "            background-color:  #cad8ef;\n",
              "            color:  #000000;\n",
              "        }    #T_ffee48ac_03e6_11ea_8000_0242ac1c0002row2_col4 {\n",
              "            background-color:  #abc8fd;\n",
              "            color:  #000000;\n",
              "        }    #T_ffee48ac_03e6_11ea_8000_0242ac1c0002row2_col5 {\n",
              "            background-color:  #89acfd;\n",
              "            color:  #000000;\n",
              "        }    #T_ffee48ac_03e6_11ea_8000_0242ac1c0002row2_col6 {\n",
              "            background-color:  #b1cbfc;\n",
              "            color:  #000000;\n",
              "        }    #T_ffee48ac_03e6_11ea_8000_0242ac1c0002row2_col7 {\n",
              "            background-color:  #5a78e4;\n",
              "            color:  #000000;\n",
              "        }    #T_ffee48ac_03e6_11ea_8000_0242ac1c0002row3_col0 {\n",
              "            background-color:  #ec7f63;\n",
              "            color:  #000000;\n",
              "        }    #T_ffee48ac_03e6_11ea_8000_0242ac1c0002row3_col1 {\n",
              "            background-color:  #94b6ff;\n",
              "            color:  #000000;\n",
              "        }    #T_ffee48ac_03e6_11ea_8000_0242ac1c0002row3_col2 {\n",
              "            background-color:  #7a9df8;\n",
              "            color:  #000000;\n",
              "        }    #T_ffee48ac_03e6_11ea_8000_0242ac1c0002row3_col3 {\n",
              "            background-color:  #b40426;\n",
              "            color:  #f1f1f1;\n",
              "        }    #T_ffee48ac_03e6_11ea_8000_0242ac1c0002row3_col4 {\n",
              "            background-color:  #4b64d5;\n",
              "            color:  #f1f1f1;\n",
              "        }    #T_ffee48ac_03e6_11ea_8000_0242ac1c0002row3_col5 {\n",
              "            background-color:  #a2c1ff;\n",
              "            color:  #000000;\n",
              "        }    #T_ffee48ac_03e6_11ea_8000_0242ac1c0002row3_col6 {\n",
              "            background-color:  #dddcdc;\n",
              "            color:  #000000;\n",
              "        }    #T_ffee48ac_03e6_11ea_8000_0242ac1c0002row3_col7 {\n",
              "            background-color:  #3b4cc0;\n",
              "            color:  #f1f1f1;\n",
              "        }    #T_ffee48ac_03e6_11ea_8000_0242ac1c0002row4_col0 {\n",
              "            background-color:  #3b4cc0;\n",
              "            color:  #f1f1f1;\n",
              "        }    #T_ffee48ac_03e6_11ea_8000_0242ac1c0002row4_col1 {\n",
              "            background-color:  #3b4cc0;\n",
              "            color:  #f1f1f1;\n",
              "        }    #T_ffee48ac_03e6_11ea_8000_0242ac1c0002row4_col2 {\n",
              "            background-color:  #3b4cc0;\n",
              "            color:  #f1f1f1;\n",
              "        }    #T_ffee48ac_03e6_11ea_8000_0242ac1c0002row4_col3 {\n",
              "            background-color:  #3b4cc0;\n",
              "            color:  #f1f1f1;\n",
              "        }    #T_ffee48ac_03e6_11ea_8000_0242ac1c0002row4_col4 {\n",
              "            background-color:  #b40426;\n",
              "            color:  #f1f1f1;\n",
              "        }    #T_ffee48ac_03e6_11ea_8000_0242ac1c0002row4_col5 {\n",
              "            background-color:  #3b4cc0;\n",
              "            color:  #f1f1f1;\n",
              "        }    #T_ffee48ac_03e6_11ea_8000_0242ac1c0002row4_col6 {\n",
              "            background-color:  #3b4cc0;\n",
              "            color:  #f1f1f1;\n",
              "        }    #T_ffee48ac_03e6_11ea_8000_0242ac1c0002row4_col7 {\n",
              "            background-color:  #5e7de7;\n",
              "            color:  #000000;\n",
              "        }    #T_ffee48ac_03e6_11ea_8000_0242ac1c0002row5_col0 {\n",
              "            background-color:  #f0cdbb;\n",
              "            color:  #000000;\n",
              "        }    #T_ffee48ac_03e6_11ea_8000_0242ac1c0002row5_col1 {\n",
              "            background-color:  #7ea1fa;\n",
              "            color:  #000000;\n",
              "        }    #T_ffee48ac_03e6_11ea_8000_0242ac1c0002row5_col2 {\n",
              "            background-color:  #7396f5;\n",
              "            color:  #000000;\n",
              "        }    #T_ffee48ac_03e6_11ea_8000_0242ac1c0002row5_col3 {\n",
              "            background-color:  #d7dce3;\n",
              "            color:  #000000;\n",
              "        }    #T_ffee48ac_03e6_11ea_8000_0242ac1c0002row5_col4 {\n",
              "            background-color:  #98b9ff;\n",
              "            color:  #000000;\n",
              "        }    #T_ffee48ac_03e6_11ea_8000_0242ac1c0002row5_col5 {\n",
              "            background-color:  #b40426;\n",
              "            color:  #f1f1f1;\n",
              "        }    #T_ffee48ac_03e6_11ea_8000_0242ac1c0002row5_col6 {\n",
              "            background-color:  #b5cdfa;\n",
              "            color:  #000000;\n",
              "        }    #T_ffee48ac_03e6_11ea_8000_0242ac1c0002row5_col7 {\n",
              "            background-color:  #4257c9;\n",
              "            color:  #f1f1f1;\n",
              "        }    #T_ffee48ac_03e6_11ea_8000_0242ac1c0002row6_col0 {\n",
              "            background-color:  #f4c6af;\n",
              "            color:  #000000;\n",
              "        }    #T_ffee48ac_03e6_11ea_8000_0242ac1c0002row6_col1 {\n",
              "            background-color:  #82a6fb;\n",
              "            color:  #000000;\n",
              "        }    #T_ffee48ac_03e6_11ea_8000_0242ac1c0002row6_col2 {\n",
              "            background-color:  #6f92f3;\n",
              "            color:  #000000;\n",
              "        }    #T_ffee48ac_03e6_11ea_8000_0242ac1c0002row6_col3 {\n",
              "            background-color:  #e9d5cb;\n",
              "            color:  #000000;\n",
              "        }    #T_ffee48ac_03e6_11ea_8000_0242ac1c0002row6_col4 {\n",
              "            background-color:  #688aef;\n",
              "            color:  #000000;\n",
              "        }    #T_ffee48ac_03e6_11ea_8000_0242ac1c0002row6_col5 {\n",
              "            background-color:  #8badfd;\n",
              "            color:  #000000;\n",
              "        }    #T_ffee48ac_03e6_11ea_8000_0242ac1c0002row6_col6 {\n",
              "            background-color:  #b40426;\n",
              "            color:  #f1f1f1;\n",
              "        }    #T_ffee48ac_03e6_11ea_8000_0242ac1c0002row6_col7 {\n",
              "            background-color:  #4257c9;\n",
              "            color:  #f1f1f1;\n",
              "        }    #T_ffee48ac_03e6_11ea_8000_0242ac1c0002row7_col0 {\n",
              "            background-color:  #b7cff9;\n",
              "            color:  #000000;\n",
              "        }    #T_ffee48ac_03e6_11ea_8000_0242ac1c0002row7_col1 {\n",
              "            background-color:  #6384eb;\n",
              "            color:  #000000;\n",
              "        }    #T_ffee48ac_03e6_11ea_8000_0242ac1c0002row7_col2 {\n",
              "            background-color:  #6a8bef;\n",
              "            color:  #000000;\n",
              "        }    #T_ffee48ac_03e6_11ea_8000_0242ac1c0002row7_col3 {\n",
              "            background-color:  #aac7fd;\n",
              "            color:  #000000;\n",
              "        }    #T_ffee48ac_03e6_11ea_8000_0242ac1c0002row7_col4 {\n",
              "            background-color:  #cedaeb;\n",
              "            color:  #000000;\n",
              "        }    #T_ffee48ac_03e6_11ea_8000_0242ac1c0002row7_col5 {\n",
              "            background-color:  #688aef;\n",
              "            color:  #000000;\n",
              "        }    #T_ffee48ac_03e6_11ea_8000_0242ac1c0002row7_col6 {\n",
              "            background-color:  #98b9ff;\n",
              "            color:  #000000;\n",
              "        }    #T_ffee48ac_03e6_11ea_8000_0242ac1c0002row7_col7 {\n",
              "            background-color:  #b40426;\n",
              "            color:  #f1f1f1;\n",
              "        }</style><table id=\"T_ffee48ac_03e6_11ea_8000_0242ac1c0002\" ><thead>    <tr>        <th class=\"blank level0\" ></th>        <th class=\"col_heading level0 col0\" >age</th>        <th class=\"col_heading level0 col1\" >hypertension</th>        <th class=\"col_heading level0 col2\" >heart_disease</th>        <th class=\"col_heading level0 col3\" >ever_married</th>        <th class=\"col_heading level0 col4\" >work_type_is_children</th>        <th class=\"col_heading level0 col5\" >work_type_is_Self-employed</th>        <th class=\"col_heading level0 col6\" >smoking_status_target_enc</th>        <th class=\"col_heading level0 col7\" >gender_target_enc</th>    </tr></thead><tbody>\n",
              "                <tr>\n",
              "                        <th id=\"T_ffee48ac_03e6_11ea_8000_0242ac1c0002level0_row0\" class=\"row_heading level0 row0\" >age</th>\n",
              "                        <td id=\"T_ffee48ac_03e6_11ea_8000_0242ac1c0002row0_col0\" class=\"data row0 col0\" >1</td>\n",
              "                        <td id=\"T_ffee48ac_03e6_11ea_8000_0242ac1c0002row0_col1\" class=\"data row0 col1\" >0.274645</td>\n",
              "                        <td id=\"T_ffee48ac_03e6_11ea_8000_0242ac1c0002row0_col2\" class=\"data row0 col2\" >0.252877</td>\n",
              "                        <td id=\"T_ffee48ac_03e6_11ea_8000_0242ac1c0002row0_col3\" class=\"data row0 col3\" >0.689006</td>\n",
              "                        <td id=\"T_ffee48ac_03e6_11ea_8000_0242ac1c0002row0_col4\" class=\"data row0 col4\" >-0.642641</td>\n",
              "                        <td id=\"T_ffee48ac_03e6_11ea_8000_0242ac1c0002row0_col5\" class=\"data row0 col5\" >0.323787</td>\n",
              "                        <td id=\"T_ffee48ac_03e6_11ea_8000_0242ac1c0002row0_col6\" class=\"data row0 col6\" >0.374946</td>\n",
              "                        <td id=\"T_ffee48ac_03e6_11ea_8000_0242ac1c0002row0_col7\" class=\"data row0 col7\" >-0.0298474</td>\n",
              "            </tr>\n",
              "            <tr>\n",
              "                        <th id=\"T_ffee48ac_03e6_11ea_8000_0242ac1c0002level0_row1\" class=\"row_heading level0 row1\" >hypertension</th>\n",
              "                        <td id=\"T_ffee48ac_03e6_11ea_8000_0242ac1c0002row1_col0\" class=\"data row1 col0\" >0.274645</td>\n",
              "                        <td id=\"T_ffee48ac_03e6_11ea_8000_0242ac1c0002row1_col1\" class=\"data row1 col1\" >1</td>\n",
              "                        <td id=\"T_ffee48ac_03e6_11ea_8000_0242ac1c0002row1_col2\" class=\"data row1 col2\" >0.116195</td>\n",
              "                        <td id=\"T_ffee48ac_03e6_11ea_8000_0242ac1c0002row1_col3\" class=\"data row1 col3\" >0.175023</td>\n",
              "                        <td id=\"T_ffee48ac_03e6_11ea_8000_0242ac1c0002row1_col4\" class=\"data row1 col4\" >-0.13033</td>\n",
              "                        <td id=\"T_ffee48ac_03e6_11ea_8000_0242ac1c0002row1_col5\" class=\"data row1 col5\" >0.107784</td>\n",
              "                        <td id=\"T_ffee48ac_03e6_11ea_8000_0242ac1c0002row1_col6\" class=\"data row1 col6\" >0.119207</td>\n",
              "                        <td id=\"T_ffee48ac_03e6_11ea_8000_0242ac1c0002row1_col7\" class=\"data row1 col7\" >0.0191544</td>\n",
              "            </tr>\n",
              "            <tr>\n",
              "                        <th id=\"T_ffee48ac_03e6_11ea_8000_0242ac1c0002level0_row2\" class=\"row_heading level0 row2\" >heart_disease</th>\n",
              "                        <td id=\"T_ffee48ac_03e6_11ea_8000_0242ac1c0002row2_col0\" class=\"data row2 col0\" >0.252877</td>\n",
              "                        <td id=\"T_ffee48ac_03e6_11ea_8000_0242ac1c0002row2_col1\" class=\"data row2 col1\" >0.116195</td>\n",
              "                        <td id=\"T_ffee48ac_03e6_11ea_8000_0242ac1c0002row2_col2\" class=\"data row2 col2\" >1</td>\n",
              "                        <td id=\"T_ffee48ac_03e6_11ea_8000_0242ac1c0002row2_col3\" class=\"data row2 col3\" >0.12362</td>\n",
              "                        <td id=\"T_ffee48ac_03e6_11ea_8000_0242ac1c0002row2_col4\" class=\"data row2 col4\" >-0.0896001</td>\n",
              "                        <td id=\"T_ffee48ac_03e6_11ea_8000_0242ac1c0002row2_col5\" class=\"data row2 col5\" >0.105823</td>\n",
              "                        <td id=\"T_ffee48ac_03e6_11ea_8000_0242ac1c0002row2_col6\" class=\"data row2 col6\" >0.092793</td>\n",
              "                        <td id=\"T_ffee48ac_03e6_11ea_8000_0242ac1c0002row2_col7\" class=\"data row2 col7\" >0.0752309</td>\n",
              "            </tr>\n",
              "            <tr>\n",
              "                        <th id=\"T_ffee48ac_03e6_11ea_8000_0242ac1c0002level0_row3\" class=\"row_heading level0 row3\" >ever_married</th>\n",
              "                        <td id=\"T_ffee48ac_03e6_11ea_8000_0242ac1c0002row3_col0\" class=\"data row3 col0\" >0.689006</td>\n",
              "                        <td id=\"T_ffee48ac_03e6_11ea_8000_0242ac1c0002row3_col1\" class=\"data row3 col1\" >0.175023</td>\n",
              "                        <td id=\"T_ffee48ac_03e6_11ea_8000_0242ac1c0002row3_col2\" class=\"data row3 col2\" >0.12362</td>\n",
              "                        <td id=\"T_ffee48ac_03e6_11ea_8000_0242ac1c0002row3_col3\" class=\"data row3 col3\" >1</td>\n",
              "                        <td id=\"T_ffee48ac_03e6_11ea_8000_0242ac1c0002row3_col4\" class=\"data row3 col4\" >-0.547262</td>\n",
              "                        <td id=\"T_ffee48ac_03e6_11ea_8000_0242ac1c0002row3_col5\" class=\"data row3 col5\" >0.191882</td>\n",
              "                        <td id=\"T_ffee48ac_03e6_11ea_8000_0242ac1c0002row3_col6\" class=\"data row3 col6\" >0.299875</td>\n",
              "                        <td id=\"T_ffee48ac_03e6_11ea_8000_0242ac1c0002row3_col7\" class=\"data row3 col7\" >-0.0298926</td>\n",
              "            </tr>\n",
              "            <tr>\n",
              "                        <th id=\"T_ffee48ac_03e6_11ea_8000_0242ac1c0002level0_row4\" class=\"row_heading level0 row4\" >work_type_is_children</th>\n",
              "                        <td id=\"T_ffee48ac_03e6_11ea_8000_0242ac1c0002row4_col0\" class=\"data row4 col0\" >-0.642641</td>\n",
              "                        <td id=\"T_ffee48ac_03e6_11ea_8000_0242ac1c0002row4_col1\" class=\"data row4 col1\" >-0.13033</td>\n",
              "                        <td id=\"T_ffee48ac_03e6_11ea_8000_0242ac1c0002row4_col2\" class=\"data row4 col2\" >-0.0896001</td>\n",
              "                        <td id=\"T_ffee48ac_03e6_11ea_8000_0242ac1c0002row4_col3\" class=\"data row4 col3\" >-0.547262</td>\n",
              "                        <td id=\"T_ffee48ac_03e6_11ea_8000_0242ac1c0002row4_col4\" class=\"data row4 col4\" >1</td>\n",
              "                        <td id=\"T_ffee48ac_03e6_11ea_8000_0242ac1c0002row4_col5\" class=\"data row4 col5\" >-0.174717</td>\n",
              "                        <td id=\"T_ffee48ac_03e6_11ea_8000_0242ac1c0002row4_col6\" class=\"data row4 col6\" >-0.401553</td>\n",
              "                        <td id=\"T_ffee48ac_03e6_11ea_8000_0242ac1c0002row4_col7\" class=\"data row4 col7\" >0.0899333</td>\n",
              "            </tr>\n",
              "            <tr>\n",
              "                        <th id=\"T_ffee48ac_03e6_11ea_8000_0242ac1c0002level0_row5\" class=\"row_heading level0 row5\" >work_type_is_Self-employed</th>\n",
              "                        <td id=\"T_ffee48ac_03e6_11ea_8000_0242ac1c0002row5_col0\" class=\"data row5 col0\" >0.323787</td>\n",
              "                        <td id=\"T_ffee48ac_03e6_11ea_8000_0242ac1c0002row5_col1\" class=\"data row5 col1\" >0.107784</td>\n",
              "                        <td id=\"T_ffee48ac_03e6_11ea_8000_0242ac1c0002row5_col2\" class=\"data row5 col2\" >0.105823</td>\n",
              "                        <td id=\"T_ffee48ac_03e6_11ea_8000_0242ac1c0002row5_col3\" class=\"data row5 col3\" >0.191882</td>\n",
              "                        <td id=\"T_ffee48ac_03e6_11ea_8000_0242ac1c0002row5_col4\" class=\"data row5 col4\" >-0.174717</td>\n",
              "                        <td id=\"T_ffee48ac_03e6_11ea_8000_0242ac1c0002row5_col5\" class=\"data row5 col5\" >1</td>\n",
              "                        <td id=\"T_ffee48ac_03e6_11ea_8000_0242ac1c0002row5_col6\" class=\"data row5 col6\" >0.11159</td>\n",
              "                        <td id=\"T_ffee48ac_03e6_11ea_8000_0242ac1c0002row5_col7\" class=\"data row5 col7\" >-0.00366603</td>\n",
              "            </tr>\n",
              "            <tr>\n",
              "                        <th id=\"T_ffee48ac_03e6_11ea_8000_0242ac1c0002level0_row6\" class=\"row_heading level0 row6\" >smoking_status_target_enc</th>\n",
              "                        <td id=\"T_ffee48ac_03e6_11ea_8000_0242ac1c0002row6_col0\" class=\"data row6 col0\" >0.374946</td>\n",
              "                        <td id=\"T_ffee48ac_03e6_11ea_8000_0242ac1c0002row6_col1\" class=\"data row6 col1\" >0.119207</td>\n",
              "                        <td id=\"T_ffee48ac_03e6_11ea_8000_0242ac1c0002row6_col2\" class=\"data row6 col2\" >0.092793</td>\n",
              "                        <td id=\"T_ffee48ac_03e6_11ea_8000_0242ac1c0002row6_col3\" class=\"data row6 col3\" >0.299875</td>\n",
              "                        <td id=\"T_ffee48ac_03e6_11ea_8000_0242ac1c0002row6_col4\" class=\"data row6 col4\" >-0.401553</td>\n",
              "                        <td id=\"T_ffee48ac_03e6_11ea_8000_0242ac1c0002row6_col5\" class=\"data row6 col5\" >0.11159</td>\n",
              "                        <td id=\"T_ffee48ac_03e6_11ea_8000_0242ac1c0002row6_col6\" class=\"data row6 col6\" >1</td>\n",
              "                        <td id=\"T_ffee48ac_03e6_11ea_8000_0242ac1c0002row6_col7\" class=\"data row6 col7\" >-0.00396815</td>\n",
              "            </tr>\n",
              "            <tr>\n",
              "                        <th id=\"T_ffee48ac_03e6_11ea_8000_0242ac1c0002level0_row7\" class=\"row_heading level0 row7\" >gender_target_enc</th>\n",
              "                        <td id=\"T_ffee48ac_03e6_11ea_8000_0242ac1c0002row7_col0\" class=\"data row7 col0\" >-0.0298474</td>\n",
              "                        <td id=\"T_ffee48ac_03e6_11ea_8000_0242ac1c0002row7_col1\" class=\"data row7 col1\" >0.0191544</td>\n",
              "                        <td id=\"T_ffee48ac_03e6_11ea_8000_0242ac1c0002row7_col2\" class=\"data row7 col2\" >0.0752309</td>\n",
              "                        <td id=\"T_ffee48ac_03e6_11ea_8000_0242ac1c0002row7_col3\" class=\"data row7 col3\" >-0.0298926</td>\n",
              "                        <td id=\"T_ffee48ac_03e6_11ea_8000_0242ac1c0002row7_col4\" class=\"data row7 col4\" >0.0899333</td>\n",
              "                        <td id=\"T_ffee48ac_03e6_11ea_8000_0242ac1c0002row7_col5\" class=\"data row7 col5\" >-0.00366603</td>\n",
              "                        <td id=\"T_ffee48ac_03e6_11ea_8000_0242ac1c0002row7_col6\" class=\"data row7 col6\" >-0.00396815</td>\n",
              "                        <td id=\"T_ffee48ac_03e6_11ea_8000_0242ac1c0002row7_col7\" class=\"data row7 col7\" >1</td>\n",
              "            </tr>\n",
              "    </tbody></table>"
            ],
            "text/plain": [
              "<pandas.io.formats.style.Styler at 0x7f01539536d8>"
            ]
          },
          "metadata": {
            "tags": []
          },
          "execution_count": 45
        }
      ]
    },
    {
      "cell_type": "markdown",
      "metadata": {
        "id": "x3eruXGsorYi",
        "colab_type": "text"
      },
      "source": [
        "Удаляем информацию о браке, так как она сильно коррелирует с возрастом, а он важнее"
      ]
    },
    {
      "cell_type": "code",
      "metadata": {
        "id": "QvBFLAilorYi",
        "colab_type": "code",
        "colab": {}
      },
      "source": [
        "features = ['age', 'hypertension', 'heart_disease', 'work_type_is_children',\n",
        "            'work_type_is_Self-employed', 'smoking_status_target_enc', 'gender_target_enc']\n",
        "X_train, X_test, Y_train, Y_test = train_test_split(train[features], train['stroke'], test_size=0.2)"
      ],
      "execution_count": 0,
      "outputs": []
    },
    {
      "cell_type": "markdown",
      "metadata": {
        "id": "S3XM-KvForYj",
        "colab_type": "text"
      },
      "source": [
        "Поиск гиперпараметров для модели, возврат их и тестирование на тренировочных данных, прогназирование на тестовых данных"
      ]
    },
    {
      "cell_type": "code",
      "metadata": {
        "id": "a3APAwgoorYk",
        "colab_type": "code",
        "colab": {
          "base_uri": "https://localhost:8080/",
          "height": 857
        },
        "outputId": "b5175b10-a2e7-45b8-80bd-732363c4548e"
      },
      "source": [
        "model = RandomForestClassifier()\n",
        "parameters = {\n",
        "    \"n_estimators\" :[10, 25, 50, 100, 150],\n",
        "    \"criterion\" :['gini', 'entropy'],\n",
        "    \"max_depth\" :[1, 3, 5, 7, 9, None],\n",
        "    \"min_samples_split\" :[2, 4, 10, 20],\n",
        "    \"min_samples_leaf\" :[1, 3, 5, 7],\n",
        "    \"max_features\" :['auto', 'sqrt', 'log2', None]\n",
        "    \n",
        "        }\n",
        "grid = GridSearchCV(model, parameters, n_jobs=14, scoring=\"roc_auc\", cv=3, verbose=5)\n",
        "grid.fit(X_train, Y_train)"
      ],
      "execution_count": 47,
      "outputs": [
        {
          "output_type": "stream",
          "text": [
            "Fitting 3 folds for each of 3840 candidates, totalling 11520 fits\n"
          ],
          "name": "stdout"
        },
        {
          "output_type": "stream",
          "text": [
            "[Parallel(n_jobs=14)]: Using backend LokyBackend with 14 concurrent workers.\n",
            "[Parallel(n_jobs=14)]: Done  44 tasks      | elapsed:   21.5s\n",
            "[Parallel(n_jobs=14)]: Done 134 tasks      | elapsed:   39.8s\n",
            "[Parallel(n_jobs=14)]: Done 260 tasks      | elapsed:  1.1min\n",
            "[Parallel(n_jobs=14)]: Done 422 tasks      | elapsed:  1.6min\n",
            "[Parallel(n_jobs=14)]: Done 620 tasks      | elapsed:  2.3min\n",
            "[Parallel(n_jobs=14)]: Done 854 tasks      | elapsed:  3.2min\n",
            "[Parallel(n_jobs=14)]: Done 1124 tasks      | elapsed:  4.2min\n",
            "[Parallel(n_jobs=14)]: Done 1430 tasks      | elapsed:  5.5min\n",
            "[Parallel(n_jobs=14)]: Done 1772 tasks      | elapsed:  7.1min\n",
            "[Parallel(n_jobs=14)]: Done 2150 tasks      | elapsed:  9.2min\n",
            "[Parallel(n_jobs=14)]: Done 2564 tasks      | elapsed: 11.1min\n",
            "[Parallel(n_jobs=14)]: Done 3014 tasks      | elapsed: 13.9min\n",
            "[Parallel(n_jobs=14)]: Done 3500 tasks      | elapsed: 16.4min\n",
            "[Parallel(n_jobs=14)]: Done 4022 tasks      | elapsed: 20.1min\n",
            "[Parallel(n_jobs=14)]: Done 4580 tasks      | elapsed: 23.6min\n",
            "[Parallel(n_jobs=14)]: Done 5174 tasks      | elapsed: 28.0min\n",
            "[Parallel(n_jobs=14)]: Done 5804 tasks      | elapsed: 32.5min\n",
            "[Parallel(n_jobs=14)]: Done 6470 tasks      | elapsed: 34.7min\n",
            "[Parallel(n_jobs=14)]: Done 7172 tasks      | elapsed: 37.5min\n",
            "[Parallel(n_jobs=14)]: Done 7910 tasks      | elapsed: 41.1min\n",
            "[Parallel(n_jobs=14)]: Done 8684 tasks      | elapsed: 45.3min\n",
            "[Parallel(n_jobs=14)]: Done 9494 tasks      | elapsed: 50.0min\n",
            "[Parallel(n_jobs=14)]: Done 10340 tasks      | elapsed: 55.2min\n",
            "[Parallel(n_jobs=14)]: Done 11222 tasks      | elapsed: 61.4min\n",
            "[Parallel(n_jobs=14)]: Done 11520 out of 11520 | elapsed: 63.9min finished\n"
          ],
          "name": "stderr"
        },
        {
          "output_type": "execute_result",
          "data": {
            "text/plain": [
              "GridSearchCV(cv=3, error_score='raise-deprecating',\n",
              "             estimator=RandomForestClassifier(bootstrap=True, class_weight=None,\n",
              "                                              criterion='gini', max_depth=None,\n",
              "                                              max_features='auto',\n",
              "                                              max_leaf_nodes=None,\n",
              "                                              min_impurity_decrease=0.0,\n",
              "                                              min_impurity_split=None,\n",
              "                                              min_samples_leaf=1,\n",
              "                                              min_samples_split=2,\n",
              "                                              min_weight_fraction_leaf=0.0,\n",
              "                                              n_estimators='warn', n_jobs=None,\n",
              "                                              oob_score=Fa...\n",
              "                                              random_state=None, verbose=0,\n",
              "                                              warm_start=False),\n",
              "             iid='warn', n_jobs=14,\n",
              "             param_grid={'criterion': ['gini', 'entropy'],\n",
              "                         'max_depth': [1, 3, 5, 7, 9, None],\n",
              "                         'max_features': ['auto', 'sqrt', 'log2', None],\n",
              "                         'min_samples_leaf': [1, 3, 5, 7],\n",
              "                         'min_samples_split': [2, 4, 10, 20],\n",
              "                         'n_estimators': [10, 25, 50, 100, 150]},\n",
              "             pre_dispatch='2*n_jobs', refit=True, return_train_score=False,\n",
              "             scoring='roc_auc', verbose=5)"
            ]
          },
          "metadata": {
            "tags": []
          },
          "execution_count": 47
        }
      ]
    },
    {
      "cell_type": "code",
      "metadata": {
        "id": "bV6RNW4lorYl",
        "colab_type": "code",
        "colab": {
          "base_uri": "https://localhost:8080/",
          "height": 162
        },
        "outputId": "66ba50dd-f677-4ff9-8a2e-74bed79cfb8f"
      },
      "source": [
        "grid.best_estimator_"
      ],
      "execution_count": 59,
      "outputs": [
        {
          "output_type": "error",
          "ename": "AttributeError",
          "evalue": "ignored",
          "traceback": [
            "\u001b[0;31m---------------------------------------------------------------------------\u001b[0m",
            "\u001b[0;31mAttributeError\u001b[0m                            Traceback (most recent call last)",
            "\u001b[0;32m<ipython-input-59-fb6b380b5a97>\u001b[0m in \u001b[0;36m<module>\u001b[0;34m()\u001b[0m\n\u001b[0;32m----> 1\u001b[0;31m \u001b[0mgrid\u001b[0m\u001b[0;34m.\u001b[0m\u001b[0mbest_estimator_\u001b[0m\u001b[0;34m\u001b[0m\u001b[0;34m\u001b[0m\u001b[0m\n\u001b[0m",
            "\u001b[0;31mAttributeError\u001b[0m: 'RandomizedSearchCV' object has no attribute 'best_estimator_'"
          ]
        }
      ]
    },
    {
      "cell_type": "code",
      "metadata": {
        "id": "8XqgBK7worYn",
        "colab_type": "code",
        "colab": {
          "base_uri": "https://localhost:8080/",
          "height": 34
        },
        "outputId": "b0cb16f4-0af1-4c6d-ab0f-f303e60455f3"
      },
      "source": [
        "model = RandomForestClassifier(bootstrap=True, class_weight=None, criterion='gini',\n",
        "                       max_depth=3, max_features=None, max_leaf_nodes=None,\n",
        "                       min_impurity_decrease=0.0, min_impurity_split=None,\n",
        "                       min_samples_leaf=3, min_samples_split=4,\n",
        "                       min_weight_fraction_leaf=0.0, n_estimators=100,\n",
        "                       n_jobs=None, oob_score=False, random_state=None,\n",
        "                       verbose=0, warm_start=False)\n",
        "model.fit(X_train, Y_train)\n",
        "X_test = X_test[features]\n",
        "prediction = model.predict_proba(X_test)\n",
        "print('Auc score for Random Forrest Classifier:', roc_auc_score(y_score=prediction[:,1], y_true=Y_test))"
      ],
      "execution_count": 60,
      "outputs": [
        {
          "output_type": "stream",
          "text": [
            "Auc score for Random Forrest Classifier: 0.8414854226224955\n"
          ],
          "name": "stdout"
        }
      ]
    },
    {
      "cell_type": "code",
      "metadata": {
        "id": "VzQHgxMrorYq",
        "colab_type": "code",
        "colab": {}
      },
      "source": [
        "res = model.predict_proba(test[features])\n",
        "sample['stroke'] = res[:, 1]\n",
        "sample.to_csv('submit_ran_for.csv', index = None )"
      ],
      "execution_count": 0,
      "outputs": []
    },
    {
      "cell_type": "markdown",
      "metadata": {
        "id": "AFok0u7JorYs",
        "colab_type": "text"
      },
      "source": [
        "### XGBoost"
      ]
    },
    {
      "cell_type": "code",
      "metadata": {
        "id": "X9VdcRFUorYs",
        "colab_type": "code",
        "colab": {}
      },
      "source": [
        "features = ['id', 'age', 'hypertension', 'heart_disease', 'ever_married', 'Residence_type', 'avg_glucose_level', \n",
        "            'bmi', 'work_type_is_children', 'work_type_is_Private', 'work_type_is_Never_worked',\n",
        "            'work_type_is_Self-employed', 'work_type_is_Govt_job', 'smoking_status_target_enc',\n",
        "            'smoking_status_is_no data', 'smoking_status_is_never smoked', 'smoking_status_is_formerly smoked',\n",
        "            'smoking_status_is_smokes', 'residence_target_enc', 'gender_target_enc',  'gender_is_Male',\n",
        "            'gender_is_Female', 'gender_is_Other']\n",
        "X_train, X_test, Y_train, Y_test = train_test_split(train[features], train['stroke'], test_size=0.2)"
      ],
      "execution_count": 0,
      "outputs": []
    },
    {
      "cell_type": "markdown",
      "metadata": {
        "id": "wRUPD7mUorYu",
        "colab_type": "text"
      },
      "source": [
        "Поиск наболее важных параметров для классификации"
      ]
    },
    {
      "cell_type": "code",
      "metadata": {
        "id": "5g2HLk8NorYu",
        "colab_type": "code",
        "colab": {}
      },
      "source": [
        "param = {\n",
        "    'eta': 0.3, \n",
        "    'max_depth': 3,  \n",
        "    'objective': 'binary:logistic'}"
      ],
      "execution_count": 0,
      "outputs": []
    },
    {
      "cell_type": "code",
      "metadata": {
        "id": "OReLQochorYv",
        "colab_type": "code",
        "colab": {}
      },
      "source": [
        "model = XGBClassifier(**param)"
      ],
      "execution_count": 0,
      "outputs": []
    },
    {
      "cell_type": "code",
      "metadata": {
        "id": "zKKrH5LPorYx",
        "colab_type": "code",
        "colab": {
          "base_uri": "https://localhost:8080/",
          "height": 403
        },
        "outputId": "77c5193f-f98f-469d-96b7-14f6296a9f63"
      },
      "source": [
        "features_scores = {}\n",
        "for f in features:\n",
        "    scores = my_cross_validation_for_roc_auc(model, X_train[[f]] , Y_train)\n",
        "    print(f,  np.mean(scores))\n",
        "    features_scores[f] = np.mean(scores)"
      ],
      "execution_count": 65,
      "outputs": [
        {
          "output_type": "stream",
          "text": [
            "id 0.492397536429927\n",
            "age 0.8343669392767789\n",
            "hypertension 0.5769142288978212\n",
            "heart_disease 0.5799648481363601\n",
            "ever_married 0.6268040534244377\n",
            "Residence_type 0.4917532334860054\n",
            "avg_glucose_level 0.6100412124215013\n",
            "bmi 0.6052993232867667\n",
            "work_type_is_children 0.5700970467090503\n",
            "work_type_is_Private 0.48795638971764854\n",
            "work_type_is_Never_worked 0.5019941985682947\n",
            "work_type_is_Self-employed 0.5658366001155842\n",
            "work_type_is_Govt_job 0.5043120208994123\n",
            "smoking_status_target_enc 0.581145169465852\n",
            "smoking_status_is_no data 0.5524176441684586\n",
            "smoking_status_is_never smoked 0.5048916450624776\n",
            "smoking_status_is_formerly smoked 0.5488221677261751\n",
            "smoking_status_is_smokes 0.5084871215047612\n",
            "residence_target_enc 0.4917532334860054\n",
            "gender_target_enc 0.5166460527093677\n",
            "gender_is_Male 0.5166460527093677\n",
            "gender_is_Female 0.5164553235430386\n",
            "gender_is_Other 0.5\n"
          ],
          "name": "stdout"
        }
      ]
    },
    {
      "cell_type": "markdown",
      "metadata": {
        "id": "IMPYoHhEorY0",
        "colab_type": "text"
      },
      "source": [
        "Оставляем только уместных категорий"
      ]
    },
    {
      "cell_type": "code",
      "metadata": {
        "id": "xjWCkksiorY1",
        "colab_type": "code",
        "colab": {}
      },
      "source": [
        "features = ['age', 'hypertension', 'heart_disease', 'ever_married', 'avg_glucose_level', \n",
        "            'bmi', 'work_type_is_children', 'work_type_is_Private', 'work_type_is_Self-employed',\n",
        "            'smoking_status_target_enc', 'gender_target_enc']\n",
        "X_train, X_test, Y_train, Y_test = train_test_split(train[features], train['stroke'], test_size=0.2)"
      ],
      "execution_count": 0,
      "outputs": []
    },
    {
      "cell_type": "markdown",
      "metadata": {
        "id": "LOP-HvcvorY2",
        "colab_type": "text"
      },
      "source": [
        "Поиск лучшего оценщика, возврат его параметров и использование его для предсказания на тестовых данных"
      ]
    },
    {
      "cell_type": "code",
      "metadata": {
        "id": "Cq4rvoiHorY3",
        "colab_type": "code",
        "colab": {}
      },
      "source": [
        "model = XGBClassifier(objective='binary:logistic', eval_metric='auc')"
      ],
      "execution_count": 0,
      "outputs": []
    },
    {
      "cell_type": "code",
      "metadata": {
        "id": "Z7Lz5XoOorY5",
        "colab_type": "code",
        "colab": {}
      },
      "source": [
        "parameters = {\n",
        "     \"eta\"    : [0.10, 0.15, 0.20] ,\n",
        "     \"max_depth\"        : [ 5, 6, 8],\n",
        "     \"min_child_weight\" : [ 3, 5, 7 ],\n",
        "     \"subsample\": [1, 0.5],\n",
        "     \"gamma\"            : [ 0.2, 0.3, 0.4 ],\n",
        "     \"colsample_bytree\" : [ 0.4, 0.5, 0.7 ],\n",
        "     }"
      ],
      "execution_count": 0,
      "outputs": []
    },
    {
      "cell_type": "code",
      "metadata": {
        "id": "6l7xBXemorY8",
        "colab_type": "code",
        "colab": {
          "base_uri": "https://localhost:8080/",
          "height": 571
        },
        "outputId": "1f6eb821-5b07-4748-a308-7d1203ebbea2"
      },
      "source": [
        "grid = RandomizedSearchCV(model, parameters, n_jobs=14, n_iter = 250, scoring=\"roc_auc\", cv=5, verbose=5)\n",
        "grid.fit(X_train, Y_train)"
      ],
      "execution_count": 72,
      "outputs": [
        {
          "output_type": "stream",
          "text": [
            "Fitting 5 folds for each of 250 candidates, totalling 1250 fits\n"
          ],
          "name": "stdout"
        },
        {
          "output_type": "stream",
          "text": [
            "[Parallel(n_jobs=14)]: Using backend LokyBackend with 14 concurrent workers.\n",
            "[Parallel(n_jobs=14)]: Done  44 tasks      | elapsed:  1.0min\n",
            "[Parallel(n_jobs=14)]: Done 134 tasks      | elapsed:  2.4min\n",
            "[Parallel(n_jobs=14)]: Done 260 tasks      | elapsed:  4.3min\n",
            "[Parallel(n_jobs=14)]: Done 422 tasks      | elapsed:  7.0min\n",
            "[Parallel(n_jobs=14)]: Done 620 tasks      | elapsed: 10.1min\n",
            "[Parallel(n_jobs=14)]: Done 854 tasks      | elapsed: 13.6min\n",
            "[Parallel(n_jobs=14)]: Done 1124 tasks      | elapsed: 18.0min\n",
            "[Parallel(n_jobs=14)]: Done 1250 out of 1250 | elapsed: 19.9min finished\n"
          ],
          "name": "stderr"
        },
        {
          "output_type": "execute_result",
          "data": {
            "text/plain": [
              "RandomizedSearchCV(cv=5, error_score='raise-deprecating',\n",
              "                   estimator=XGBClassifier(base_score=0.5, booster='gbtree',\n",
              "                                           colsample_bylevel=1,\n",
              "                                           colsample_bynode=1,\n",
              "                                           colsample_bytree=1,\n",
              "                                           eval_metric='auc', gamma=0,\n",
              "                                           learning_rate=0.1, max_delta_step=0,\n",
              "                                           max_depth=3, min_child_weight=1,\n",
              "                                           missing=None, n_estimators=100,\n",
              "                                           n_jobs=1, nthread=None,\n",
              "                                           objective='binary:logistic',\n",
              "                                           random_s...\n",
              "                                           seed=None, silent=None, subsample=1,\n",
              "                                           verbosity=1),\n",
              "                   iid='warn', n_iter=250, n_jobs=14,\n",
              "                   param_distributions={'colsample_bytree': [0.4, 0.5, 0.7],\n",
              "                                        'eta': [0.1, 0.15, 0.2],\n",
              "                                        'gamma': [0.2, 0.3, 0.4],\n",
              "                                        'max_depth': [5, 6, 8],\n",
              "                                        'min_child_weight': [3, 5, 7],\n",
              "                                        'subsample': [1, 0.5]},\n",
              "                   pre_dispatch='2*n_jobs', random_state=None, refit=True,\n",
              "                   return_train_score=False, scoring='roc_auc', verbose=5)"
            ]
          },
          "metadata": {
            "tags": []
          },
          "execution_count": 72
        }
      ]
    },
    {
      "cell_type": "code",
      "metadata": {
        "id": "o3qSgHWWorY9",
        "colab_type": "code",
        "colab": {
          "base_uri": "https://localhost:8080/",
          "height": 134
        },
        "outputId": "f306baa9-c92b-4505-df98-1ce75c4e384d"
      },
      "source": [
        "grid.best_estimator_"
      ],
      "execution_count": 73,
      "outputs": [
        {
          "output_type": "execute_result",
          "data": {
            "text/plain": [
              "XGBClassifier(base_score=0.5, booster='gbtree', colsample_bylevel=1,\n",
              "              colsample_bynode=1, colsample_bytree=0.5, eta=0.1,\n",
              "              eval_metric='auc', gamma=0.3, learning_rate=0.1, max_delta_step=0,\n",
              "              max_depth=5, min_child_weight=7, missing=None, n_estimators=100,\n",
              "              n_jobs=1, nthread=None, objective='binary:logistic',\n",
              "              random_state=0, reg_alpha=0, reg_lambda=1, scale_pos_weight=1,\n",
              "              seed=None, silent=None, subsample=0.5, verbosity=1)"
            ]
          },
          "metadata": {
            "tags": []
          },
          "execution_count": 73
        }
      ]
    },
    {
      "cell_type": "code",
      "metadata": {
        "id": "MhLqtMEForZA",
        "colab_type": "code",
        "colab": {
          "base_uri": "https://localhost:8080/",
          "height": 134
        },
        "outputId": "8b18bb08-a1ca-4a1a-ad77-b9607a86e04b"
      },
      "source": [
        "model = XGBClassifier(base_score=0.5, booster='gbtree', colsample_bylevel=1,\n",
        "              colsample_bynode=1, colsample_bytree=0.5, eta=0.1,\n",
        "              eval_metric='auc', gamma=0.3, learning_rate=0.1, max_delta_step=0,\n",
        "              max_depth=5, min_child_weight=7, missing=None, n_estimators=100,\n",
        "              n_jobs=1, nthread=None, objective='binary:logistic',\n",
        "              random_state=0, reg_alpha=0, reg_lambda=1, scale_pos_weight=1,\n",
        "              seed=None, silent=None, subsample=0.5, verbosity=1)\n",
        "\n",
        "model.fit(X_train, Y_train)"
      ],
      "execution_count": 75,
      "outputs": [
        {
          "output_type": "execute_result",
          "data": {
            "text/plain": [
              "XGBClassifier(base_score=0.5, booster='gbtree', colsample_bylevel=1,\n",
              "              colsample_bynode=1, colsample_bytree=0.5, eta=0.1,\n",
              "              eval_metric='auc', gamma=0.3, learning_rate=0.1, max_delta_step=0,\n",
              "              max_depth=5, min_child_weight=7, missing=None, n_estimators=100,\n",
              "              n_jobs=1, nthread=None, objective='binary:logistic',\n",
              "              random_state=0, reg_alpha=0, reg_lambda=1, scale_pos_weight=1,\n",
              "              seed=None, silent=None, subsample=0.5, verbosity=1)"
            ]
          },
          "metadata": {
            "tags": []
          },
          "execution_count": 75
        }
      ]
    },
    {
      "cell_type": "code",
      "metadata": {
        "id": "Vt0KyMkwilJq",
        "colab_type": "code",
        "colab": {
          "base_uri": "https://localhost:8080/",
          "height": 34
        },
        "outputId": "fa4a34ca-ce04-401b-dcb1-47a24ef0fae2"
      },
      "source": [
        "X_test = X_test[features]\n",
        "prediction = model.predict_proba(X_test)\n",
        "print('Auc score for XGBoost:', roc_auc_score(y_score=prediction[:, 1], \n",
        "                                              y_true=Y_test))"
      ],
      "execution_count": 83,
      "outputs": [
        {
          "output_type": "stream",
          "text": [
            "Auc score for XGBoost: 0.8448330791391289\n"
          ],
          "name": "stdout"
        }
      ]
    },
    {
      "cell_type": "code",
      "metadata": {
        "id": "oWI1rkPq9vrP",
        "colab_type": "code",
        "colab": {}
      },
      "source": [
        "res = model.predict_proba(test[features])\n",
        "sample['stroke'] = res[:, 1]\n",
        "sample.to_csv('submit_xgboost.csv', index = None )"
      ],
      "execution_count": 0,
      "outputs": []
    },
    {
      "cell_type": "code",
      "metadata": {
        "id": "DV47gK0M_zqJ",
        "colab_type": "code",
        "colab": {}
      },
      "source": [
        ""
      ],
      "execution_count": 0,
      "outputs": []
    },
    {
      "cell_type": "markdown",
      "metadata": {
        "id": "kFCO_Tk9CN0P",
        "colab_type": "text"
      },
      "source": [
        "Заметочка\n",
        "\n",
        "Мы иследовали какие факторы влияют на возникнования инсульта, по статистике умных сайтов основными рисками:\n",
        "гипертония;\n",
        "холестерин крови;\n",
        "диабет;\n",
        "ожирение;\n",
        "курение;\n",
        "возраст;\n",
        "болезни сердца;\n",
        "стресс(брак, работа и все тягости нашей интересной и веселой жизни);\n",
        "\n",
        "Для исследования я использовал 3 метода и они показали сие результаты:\n",
        "\n",
        "Логистическая регрессия: возраст, гипертония, вечная_женщина, сердечная болезнь, статус курения, avg_glucose_level, тип работы ... (дети и работающие не по найму);\n",
        "\n",
        "\n",
        "Random forest: возраст, гипертония, вечно женатый (исключен из списка возможностей, поскольку тишина сильно коррелирует с возрастом), bmi, heart_disease, статус курения, avg_glucose_level, тип работы ... (дети и работающие не по найму);\n",
        "\n",
        "\n",
        "XGBoost: возраст, гипертония, вечный брак, сердечная болезнь, статус курения, avg_glucose_level, тип работы ... (дети и работающие не по найму); Как можно видеть, особенности, которые представляют риски для инсульта из медицинских знаний, также преобладают в используемых моделях, хотя интересно, что ИМТ не оказал влияния на логистическую регрессию. Важность статуса брака и типа работы может быть объяснена тем, что обе эти вещи вызывают стресс, и чем старше человек, тем больший риск инсульта представляет стресс.\n",
        "\n",
        "Отсюда мы видим, что предсказано плюс минус одно и тоже, но с разной точностью.\n",
        "\n",
        "Как видно лучшим оказался XGBoost, как же это удивительно ;)"
      ]
    },
    {
      "cell_type": "code",
      "metadata": {
        "id": "L1h8KKweEBzi",
        "colab_type": "code",
        "colab": {}
      },
      "source": [
        ""
      ],
      "execution_count": 0,
      "outputs": []
    }
  ]
}